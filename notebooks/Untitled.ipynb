{
 "cells": [
  {
   "cell_type": "code",
   "execution_count": 1,
   "id": "9972c0fd-aa36-42a5-8f4b-2e7c31911e1d",
   "metadata": {},
   "outputs": [
    {
     "data": {
      "text/plain": [
       "'/opt/miniconda3/bin/python'"
      ]
     },
     "execution_count": 1,
     "metadata": {},
     "output_type": "execute_result"
    }
   ],
   "source": [
    "import sys\n",
    "sys.executable"
   ]
  },
  {
   "cell_type": "markdown",
   "id": "b10b247d-3527-4953-abe1-193a975c24bf",
   "metadata": {},
   "source": [
    "# Create InvenioRDM package from Astropedia\n",
    "\n",
    "- https://astrogeology.usgs.gov/search/map/Moon/Geology/Unified_Geologic_Map_of_the_Moon_GIS_v2.xml\n",
    "- https://inveniordm.docs.cern.ch/install/run/\n"
   ]
  },
  {
   "cell_type": "code",
   "execution_count": null,
   "id": "f4239a7c-86e5-4d2a-b806-8fdb3cd2ec89",
   "metadata": {},
   "outputs": [],
   "source": [
    "# List\n",
    "#curl -k -XGET https://127.0.0.1:5000/api/records | python3 -m json.tool\n",
    "\n",
    "# Create\n",
    "#curl -k -XPOST -H \"Content-Type: application/json\" -H \"Authorization: Bearer <TOKEN>\" https://127.0.0.1:5000/api/records -d '\n",
    "template = {\n",
    "  \"access\": {\n",
    "    \"record\": \"public\",\n",
    "    \"files\": \"public\"\n",
    "  },\n",
    "  \"files\": {\n",
    "    \"enabled\": true\n",
    "  },\n",
    "  \"metadata\": {\n",
    "    \"creators\": [\n",
    "      {\n",
    "        \"person_or_org\": {\n",
    "          \"family_name\": \"Brown\",\n",
    "          \"given_name\": \"Troy\",\n",
    "          \"type\": \"personal\"\n",
    "        }\n",
    "      },\n",
    "      {\n",
    "        \"person_or_org\": {\n",
    "          \"name\": \"Troy Inc.\",\n",
    "          \"type\": \"organizational\"\n",
    "        }\n",
    "      }\n",
    "    ],\n",
    "    \"publication_date\": \"2020-06-01\",\n",
    "    \"resource_type\": {\n",
    "      \"id\": \"image-photo\"\n",
    "    },\n",
    "    \"title\": \"A Romans story\"\n",
    "  }\n",
    "}\n",
    "\n"
   ]
  }
 ],
 "metadata": {
  "kernelspec": {
   "display_name": "Python 3 (ipykernel)",
   "language": "python",
   "name": "python3"
  },
  "language_info": {
   "codemirror_mode": {
    "name": "ipython",
    "version": 3
   },
   "file_extension": ".py",
   "mimetype": "text/x-python",
   "name": "python",
   "nbconvert_exporter": "python",
   "pygments_lexer": "ipython3",
   "version": "3.8.10"
  }
 },
 "nbformat": 4,
 "nbformat_minor": 5
}
