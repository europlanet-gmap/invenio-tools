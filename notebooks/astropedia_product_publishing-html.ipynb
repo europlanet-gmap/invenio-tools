{
 "cells": [
  {
   "cell_type": "markdown",
   "id": "343274ae-d825-430c-9b31-fab09676b448",
   "metadata": {},
   "source": [
    "# Astropedia to Invenio product page publishing\n",
    "\n",
    "We (at GMAP) want to link our data repository, https://data.europlanet-gmap.eu, to that of USGS' Astropedia, https://astrogeology.usgs.gov/search, to improve integration between the archives.\n",
    "We belive this will improve collaboration and data accessibility.\n",
    "\n",
    "On our premises, we have InvenioRDM (https://inveniordm.docs.cern.ch) deployed, we will link to Astropedia through the \n",
    "individual data products (geological maps) which we will (re)publish the respective metadata (and explicit link to origin); \n",
    "_no data_ on our repository will be stored besides preview files (image, pdf).\n",
    "\n",
    "Astropedia portal is a web interface providing the products interactively, for example:\n",
    "\n",
    "* https://astrogeology.usgs.gov/search/map/Moon/Geology/Unified_Geologic_Map_of_the_Moon_GIS_v2 ,\n",
    "\n",
    "which we will use to harvest the (meta)data we need.\n",
    "(The data associated are linked in the \"Supplemental Information\" section.)\n",
    "\n",
    "Invenio(RDM) provides a RESP API (https://inveniordm.docs.cern.ch/reference/rest_api_index/) to read-&-write data publications,\n",
    "those publications can be _metadata-only_, or _data_ (files) included.\n",
    "\n",
    "In this notebook, we going to do parse and publish products through the modules inside [`api`](api/) package.\n",
    "The Invenio instance we are using is defined `hostname`, we need a token for that, defined in `token`\n",
    "(see https://inveniordm.docs.cern.ch/reference/rest_api_index/#authentication) a local one (https://127.0.0.1, probably), \n",
    "the same at https://data.eurplanet-gmap.eu."
   ]
  },
  {
   "cell_type": "code",
   "execution_count": 1,
   "id": "6fbf0106-bdef-4994-938c-f6946f1890be",
   "metadata": {},
   "outputs": [
    {
     "data": {
      "text/plain": [
       "'https://astrogeology.usgs.gov/search/map/Moon/Geology/Unified_Geologic_Map_of_the_Moon_GIS_v2'"
      ]
     },
     "execution_count": 1,
     "metadata": {},
     "output_type": "execute_result"
    }
   ],
   "source": [
    "# Astropedia source\n",
    "#\n",
    "url = 'https://astrogeology.usgs.gov/search/map/Moon/Geology/Unified_Geologic_Map_of_the_Moon_GIS_v2'\n",
    "#url = 'https://astrogeology.usgs.gov/search/map/Ganymede/Geology/Ganymede_SIM3237_Database'\n",
    "url"
   ]
  },
  {
   "cell_type": "code",
   "execution_count": 2,
   "id": "bcd84b23-cf85-41ea-b2f7-1c81fc6d8eec",
   "metadata": {},
   "outputs": [],
   "source": [
    "# Invenio server\n",
    "#\n",
    "hostname = '10.72.2.28'\n",
    "token = 'I1c9WD9pPW3lHUW2HsBhIHhTvgQse7DZNxmXIrgLs0ijdQTUxWwKR1xGuncN'"
   ]
  },
  {
   "cell_type": "code",
   "execution_count": 3,
   "id": "1ba476bf-3ac9-455c-bb80-4b92f23db0b3",
   "metadata": {},
   "outputs": [],
   "source": [
    "# Invenio API client\n",
    "#\n",
    "from api import InvenioClient\n",
    "\n",
    "client = InvenioClient(hostname, token)"
   ]
  },
  {
   "cell_type": "code",
   "execution_count": 4,
   "id": "9196a9cd-6659-42ab-8477-4e58879689ed",
   "metadata": {},
   "outputs": [
    {
     "ename": "AttributeError",
     "evalue": "'NoneType' object has no attribute 'strip'",
     "output_type": "error",
     "traceback": [
      "\u001b[0;31m---------------------------------------------------------------------------\u001b[0m",
      "\u001b[0;31mAttributeError\u001b[0m                            Traceback (most recent call last)",
      "\u001b[0;32m/var/folders/b1/frq3gywj3ljfqrf1yc7zk06r0000gn/T/ipykernel_87274/1157304898.py\u001b[0m in \u001b[0;36m<module>\u001b[0;34m\u001b[0m\n\u001b[1;32m      3\u001b[0m \u001b[0;32mfrom\u001b[0m \u001b[0mapi\u001b[0m \u001b[0;32mimport\u001b[0m \u001b[0mastropedia\u001b[0m\u001b[0;34m\u001b[0m\u001b[0;34m\u001b[0m\u001b[0m\n\u001b[1;32m      4\u001b[0m \u001b[0;34m\u001b[0m\u001b[0m\n\u001b[0;32m----> 5\u001b[0;31m \u001b[0mpayload\u001b[0m \u001b[0;34m=\u001b[0m \u001b[0mastropedia\u001b[0m\u001b[0;34m.\u001b[0m\u001b[0mparse_astropedia_html\u001b[0m\u001b[0;34m(\u001b[0m\u001b[0murl\u001b[0m\u001b[0;34m)\u001b[0m\u001b[0;34m\u001b[0m\u001b[0;34m\u001b[0m\u001b[0m\n\u001b[0m",
      "\u001b[0;32m~/Coisas/repos/GMAP/invenio_tools/notebooks/api/astropedia.py\u001b[0m in \u001b[0;36mparse_astropedia_html\u001b[0;34m(url)\u001b[0m\n\u001b[1;32m    149\u001b[0m \u001b[0;34m\u001b[0m\u001b[0m\n\u001b[1;32m    150\u001b[0m     \u001b[0mout_js\u001b[0m \u001b[0;34m=\u001b[0m \u001b[0;34m{\u001b[0m\u001b[0;34m}\u001b[0m\u001b[0;34m\u001b[0m\u001b[0;34m\u001b[0m\u001b[0m\n\u001b[0;32m--> 151\u001b[0;31m     \u001b[0mout_js\u001b[0m\u001b[0;34m.\u001b[0m\u001b[0mupdate\u001b[0m\u001b[0;34m(\u001b[0m\u001b[0mmap_data\u001b[0m\u001b[0;34m(\u001b[0m\u001b[0mtmeta\u001b[0m\u001b[0;34m,\u001b[0m \u001b[0m_maps\u001b[0m\u001b[0;34m[\u001b[0m\u001b[0;34m'meta'\u001b[0m\u001b[0;34m]\u001b[0m\u001b[0;34m)\u001b[0m\u001b[0;34m)\u001b[0m\u001b[0;34m\u001b[0m\u001b[0;34m\u001b[0m\u001b[0m\n\u001b[0m\u001b[1;32m    152\u001b[0m     \u001b[0mout_js\u001b[0m\u001b[0;34m.\u001b[0m\u001b[0mupdate\u001b[0m\u001b[0;34m(\u001b[0m\u001b[0mmap_data\u001b[0m\u001b[0;34m(\u001b[0m\u001b[0mtheader\u001b[0m\u001b[0;34m,\u001b[0m \u001b[0m_maps\u001b[0m\u001b[0;34m[\u001b[0m\u001b[0;34m'header'\u001b[0m\u001b[0;34m]\u001b[0m\u001b[0;34m)\u001b[0m\u001b[0;34m)\u001b[0m\u001b[0;34m\u001b[0m\u001b[0;34m\u001b[0m\u001b[0m\n\u001b[1;32m    153\u001b[0m     \u001b[0mout_js\u001b[0m\u001b[0;34m.\u001b[0m\u001b[0mupdate\u001b[0m\u001b[0;34m(\u001b[0m\u001b[0;34m{\u001b[0m\u001b[0;34m'url'\u001b[0m\u001b[0;34m:\u001b[0m \u001b[0murl\u001b[0m\u001b[0;34m}\u001b[0m\u001b[0;34m)\u001b[0m\u001b[0;34m\u001b[0m\u001b[0;34m\u001b[0m\u001b[0m\n",
      "\u001b[0;32m~/Coisas/repos/GMAP/invenio_tools/notebooks/api/astropedia.py\u001b[0m in \u001b[0;36mmap_data\u001b[0;34m(tree, mappings)\u001b[0m\n\u001b[1;32m    127\u001b[0m         \u001b[0mout\u001b[0m \u001b[0;34m=\u001b[0m \u001b[0;34m{\u001b[0m\u001b[0;34m}\u001b[0m\u001b[0;34m\u001b[0m\u001b[0;34m\u001b[0m\u001b[0m\n\u001b[1;32m    128\u001b[0m         \u001b[0;32mfor\u001b[0m \u001b[0mkeyword\u001b[0m\u001b[0;34m,\u001b[0m \u001b[0mmapping\u001b[0m \u001b[0;32min\u001b[0m \u001b[0mmappings\u001b[0m\u001b[0;34m.\u001b[0m\u001b[0mitems\u001b[0m\u001b[0;34m(\u001b[0m\u001b[0;34m)\u001b[0m\u001b[0;34m:\u001b[0m\u001b[0;34m\u001b[0m\u001b[0;34m\u001b[0m\u001b[0m\n\u001b[0;32m--> 129\u001b[0;31m             \u001b[0mvalue\u001b[0m \u001b[0;34m=\u001b[0m \u001b[0m_map\u001b[0m\u001b[0;34m(\u001b[0m\u001b[0mtree\u001b[0m\u001b[0;34m,\u001b[0m \u001b[0mmapping\u001b[0m\u001b[0;34m)\u001b[0m\u001b[0;34m\u001b[0m\u001b[0;34m\u001b[0m\u001b[0m\n\u001b[0m\u001b[1;32m    130\u001b[0m             \u001b[0mout\u001b[0m\u001b[0;34m.\u001b[0m\u001b[0mupdate\u001b[0m\u001b[0;34m(\u001b[0m\u001b[0;34m{\u001b[0m \u001b[0mkeyword\u001b[0m\u001b[0;34m:\u001b[0m \u001b[0mvalue\u001b[0m \u001b[0;34m}\u001b[0m\u001b[0;34m)\u001b[0m\u001b[0;34m\u001b[0m\u001b[0;34m\u001b[0m\u001b[0m\n\u001b[1;32m    131\u001b[0m \u001b[0;34m\u001b[0m\u001b[0m\n",
      "\u001b[0;32m~/Coisas/repos/GMAP/invenio_tools/notebooks/api/astropedia.py\u001b[0m in \u001b[0;36m_map\u001b[0;34m(tree, mapping)\u001b[0m\n\u001b[1;32m    121\u001b[0m             \u001b[0m_default\u001b[0m \u001b[0;34m=\u001b[0m \u001b[0;32mlambda\u001b[0m \u001b[0mnodes\u001b[0m\u001b[0;34m:\u001b[0m \u001b[0mnodes\u001b[0m\u001b[0;34m[\u001b[0m\u001b[0;36m0\u001b[0m\u001b[0;34m]\u001b[0m\u001b[0;34m.\u001b[0m\u001b[0mtext\u001b[0m\u001b[0;34m\u001b[0m\u001b[0;34m\u001b[0m\u001b[0m\n\u001b[1;32m    122\u001b[0m \u001b[0;34m\u001b[0m\u001b[0m\n\u001b[0;32m--> 123\u001b[0;31m             \u001b[0mout\u001b[0m \u001b[0;34m=\u001b[0m \u001b[0mmapping\u001b[0m\u001b[0;34m.\u001b[0m\u001b[0mget\u001b[0m\u001b[0;34m(\u001b[0m\u001b[0;34m'proc'\u001b[0m\u001b[0;34m,\u001b[0m \u001b[0m_default\u001b[0m\u001b[0;34m)\u001b[0m\u001b[0;34m(\u001b[0m\u001b[0mnodes\u001b[0m\u001b[0;34m)\u001b[0m\u001b[0;34m\u001b[0m\u001b[0;34m\u001b[0m\u001b[0m\n\u001b[0m\u001b[1;32m    124\u001b[0m \u001b[0;34m\u001b[0m\u001b[0m\n\u001b[1;32m    125\u001b[0m             \u001b[0;32mreturn\u001b[0m \u001b[0mout\u001b[0m\u001b[0;34m\u001b[0m\u001b[0;34m\u001b[0m\u001b[0m\n",
      "\u001b[0;32m~/Coisas/repos/GMAP/invenio_tools/notebooks/api/astropedia.py\u001b[0m in \u001b[0;36m_parse_description\u001b[0;34m(nodes)\u001b[0m\n\u001b[1;32m     28\u001b[0m     \u001b[0;31m# Auxiliary function (TODO: move from here)\u001b[0m\u001b[0;34m\u001b[0m\u001b[0;34m\u001b[0m\u001b[0;34m\u001b[0m\u001b[0m\n\u001b[1;32m     29\u001b[0m     \u001b[0;32mdef\u001b[0m \u001b[0m_parse_description\u001b[0m\u001b[0;34m(\u001b[0m\u001b[0mnodes\u001b[0m\u001b[0;34m)\u001b[0m\u001b[0;34m:\u001b[0m\u001b[0;34m\u001b[0m\u001b[0;34m\u001b[0m\u001b[0m\n\u001b[0;32m---> 30\u001b[0;31m         \u001b[0;32mreturn\u001b[0m \u001b[0;34m'\\n\\n'\u001b[0m\u001b[0;34m.\u001b[0m\u001b[0mjoin\u001b[0m\u001b[0;34m(\u001b[0m\u001b[0;34m[\u001b[0m \u001b[0mnode\u001b[0m\u001b[0;34m.\u001b[0m\u001b[0mtext\u001b[0m\u001b[0;34m.\u001b[0m\u001b[0mstrip\u001b[0m\u001b[0;34m(\u001b[0m\u001b[0;34m)\u001b[0m \u001b[0;32mfor\u001b[0m \u001b[0mnode\u001b[0m \u001b[0;32min\u001b[0m \u001b[0mnodes\u001b[0m \u001b[0;34m]\u001b[0m\u001b[0;34m)\u001b[0m\u001b[0;34m\u001b[0m\u001b[0;34m\u001b[0m\u001b[0m\n\u001b[0m\u001b[1;32m     31\u001b[0m \u001b[0;34m\u001b[0m\u001b[0m\n\u001b[1;32m     32\u001b[0m     \u001b[0;32mdef\u001b[0m \u001b[0m_parse_authors\u001b[0m\u001b[0;34m(\u001b[0m\u001b[0mnodes\u001b[0m\u001b[0;34m)\u001b[0m\u001b[0;34m:\u001b[0m\u001b[0;34m\u001b[0m\u001b[0;34m\u001b[0m\u001b[0m\n",
      "\u001b[0;32m~/Coisas/repos/GMAP/invenio_tools/notebooks/api/astropedia.py\u001b[0m in \u001b[0;36m<listcomp>\u001b[0;34m(.0)\u001b[0m\n\u001b[1;32m     28\u001b[0m     \u001b[0;31m# Auxiliary function (TODO: move from here)\u001b[0m\u001b[0;34m\u001b[0m\u001b[0;34m\u001b[0m\u001b[0;34m\u001b[0m\u001b[0m\n\u001b[1;32m     29\u001b[0m     \u001b[0;32mdef\u001b[0m \u001b[0m_parse_description\u001b[0m\u001b[0;34m(\u001b[0m\u001b[0mnodes\u001b[0m\u001b[0;34m)\u001b[0m\u001b[0;34m:\u001b[0m\u001b[0;34m\u001b[0m\u001b[0;34m\u001b[0m\u001b[0m\n\u001b[0;32m---> 30\u001b[0;31m         \u001b[0;32mreturn\u001b[0m \u001b[0;34m'\\n\\n'\u001b[0m\u001b[0;34m.\u001b[0m\u001b[0mjoin\u001b[0m\u001b[0;34m(\u001b[0m\u001b[0;34m[\u001b[0m \u001b[0mnode\u001b[0m\u001b[0;34m.\u001b[0m\u001b[0mtext\u001b[0m\u001b[0;34m.\u001b[0m\u001b[0mstrip\u001b[0m\u001b[0;34m(\u001b[0m\u001b[0;34m)\u001b[0m \u001b[0;32mfor\u001b[0m \u001b[0mnode\u001b[0m \u001b[0;32min\u001b[0m \u001b[0mnodes\u001b[0m \u001b[0;34m]\u001b[0m\u001b[0;34m)\u001b[0m\u001b[0;34m\u001b[0m\u001b[0;34m\u001b[0m\u001b[0m\n\u001b[0m\u001b[1;32m     31\u001b[0m \u001b[0;34m\u001b[0m\u001b[0m\n\u001b[1;32m     32\u001b[0m     \u001b[0;32mdef\u001b[0m \u001b[0m_parse_authors\u001b[0m\u001b[0;34m(\u001b[0m\u001b[0mnodes\u001b[0m\u001b[0;34m)\u001b[0m\u001b[0;34m:\u001b[0m\u001b[0;34m\u001b[0m\u001b[0;34m\u001b[0m\u001b[0m\n",
      "\u001b[0;31mAttributeError\u001b[0m: 'NoneType' object has no attribute 'strip'"
     ]
    }
   ],
   "source": [
    "# Astropedia parser\n",
    "#\n",
    "from api import astropedia\n",
    "\n",
    "payload = astropedia.parse_astropedia_html(url)"
   ]
  },
  {
   "cell_type": "code",
   "execution_count": null,
   "id": "9a8d7fe1-f39c-489e-9789-45ded67db2ff",
   "metadata": {},
   "outputs": [],
   "source": [
    "# Create a draft\n",
    "#\n",
    "resp = client.create_draft(payload)"
   ]
  },
  {
   "cell_type": "code",
   "execution_count": null,
   "id": "b401ede6-c524-4641-8399-9b3341320b3e",
   "metadata": {},
   "outputs": [],
   "source": [
    "# Open record's page\n",
    "#\n",
    "import webbrowser\n",
    "\n",
    "webbrowser.open(resp['links']['self_html'])"
   ]
  },
  {
   "cell_type": "code",
   "execution_count": null,
   "id": "c8434bcb-23c0-4b5e-becc-c6b19b043894",
   "metadata": {},
   "outputs": [],
   "source": [
    "resp"
   ]
  },
  {
   "cell_type": "code",
   "execution_count": null,
   "id": "aee7c8aa-52c8-45b2-a6ca-5859eddbabcd",
   "metadata": {},
   "outputs": [],
   "source": []
  }
 ],
 "metadata": {
  "kernelspec": {
   "display_name": "Python 3 (ipykernel)",
   "language": "python",
   "name": "python3"
  },
  "language_info": {
   "codemirror_mode": {
    "name": "ipython",
    "version": 3
   },
   "file_extension": ".py",
   "mimetype": "text/x-python",
   "name": "python",
   "nbconvert_exporter": "python",
   "pygments_lexer": "ipython3",
   "version": "3.8.10"
  }
 },
 "nbformat": 4,
 "nbformat_minor": 5
}
