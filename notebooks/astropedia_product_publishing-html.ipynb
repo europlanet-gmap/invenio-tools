{
 "cells": [
  {
   "cell_type": "markdown",
   "id": "343274ae-d825-430c-9b31-fab09676b448",
   "metadata": {},
   "source": [
    "# Astropedia to Invenio product page publishing\n",
    "\n",
    "We (at GMAP) want to link our data repository, https://data.europlanet-gmap.eu, to that of USGS' Astropedia, https://astrogeology.usgs.gov/search, to improve integration between the archives.\n",
    "We belive this will improve collaboration and data accessibility.\n",
    "\n",
    "On our premises, we have InvenioRDM (https://inveniordm.docs.cern.ch) deployed, we will link to Astropedia through the \n",
    "individual data products (geological maps) which we will (re)publish the respective metadata (and explicit link to origin); \n",
    "_no data_ on our repository will be stored besides preview files (image, pdf).\n",
    "\n",
    "Astropedia portal is a web interface providing the products interactively, for example:\n",
    "\n",
    "* https://astrogeology.usgs.gov/search/map/Moon/Geology/Unified_Geologic_Map_of_the_Moon_GIS_v2 ,\n",
    "\n",
    "which we will use to harvest the (meta)data we need.\n",
    "(The data associated are linked in the \"Supplemental Information\" section.)\n",
    "\n",
    "Invenio(RDM) provides a RESP API (https://inveniordm.docs.cern.ch/reference/rest_api_index/) to read-&-write data publications,\n",
    "those publications can be _metadata-only_, or _data_ (files) included.\n",
    "\n",
    "In this notebook, we going to do parse and publish products through the modules inside [`api`](api/) package.\n",
    "The Invenio instance we are using is defined `hostname`, we need a token for that, defined in `token`\n",
    "(see https://inveniordm.docs.cern.ch/reference/rest_api_index/#authentication) a local one (https://127.0.0.1, probably), \n",
    "the same at https://data.eurplanet-gmap.eu."
   ]
  },
  {
   "cell_type": "code",
   "execution_count": 1,
   "id": "6fbf0106-bdef-4994-938c-f6946f1890be",
   "metadata": {},
   "outputs": [
    {
     "data": {
      "text/plain": [
       "'https://astrogeology.usgs.gov/search/map/Moon/Geology/Unified_Geologic_Map_of_the_Moon_GIS_v2'"
      ]
     },
     "execution_count": 1,
     "metadata": {},
     "output_type": "execute_result"
    }
   ],
   "source": [
    "# Astropedia source\n",
    "#\n",
    "url = 'https://astrogeology.usgs.gov/search/map/Moon/Geology/Unified_Geologic_Map_of_the_Moon_GIS_v2'\n",
    "# url = 'https://astrogeology.usgs.gov/search/map/Ganymede/Geology/Ganymede_SIM3237_Database'\n",
    "# url = 'https://astrogeology.usgs.gov/search/map/Mercury/Geology/Mercury_5M_GIS_conversion_v2'\n",
    "# url = 'https://astrogeology.usgs.gov/search/map/Mars/Geology/Mars15MGeologicGISRenovation'\n",
    "# url = 'https://astrogeology.usgs.gov/search/map/Io/Geology/Io_SIM3168_Database'\n",
    "# url = 'https://astrogeology.usgs.gov/search/map/Mercury/Messenger/Global/Mercury_MESSENGER_MDIS_Basemap_EnhancedColor_Mosaic_Global_665m'\n",
    "# url = 'https://astrogeology.usgs.gov/search/map/Mars/Viking/MDIM21/Mars_Viking_MDIM21_ClrMosaic_global_232m'\n",
    "url"
   ]
  },
  {
   "cell_type": "code",
   "execution_count": 2,
   "id": "bcd84b23-cf85-41ea-b2f7-1c81fc6d8eec",
   "metadata": {},
   "outputs": [],
   "source": [
    "# Invenio server\n",
    "#\n",
    "hostname = '10.72.2.28'\n",
    "token = 'I1c9WD9pPW3lHUW2HsBhIHhTvgQse7DZNxmXIrgLs0ijdQTUxWwKR1xGuncN'"
   ]
  },
  {
   "cell_type": "code",
   "execution_count": 3,
   "id": "b625fb34-ed9b-495d-ad9a-d6e074382a91",
   "metadata": {},
   "outputs": [
    {
     "name": "stderr",
     "output_type": "stream",
     "text": [
      "/opt/miniconda3/lib/python3.8/site-packages/urllib3/connectionpool.py:1013: InsecureRequestWarning: Unverified HTTPS request is being made to host '10.72.2.28'. Adding certificate verification is strongly advised. See: https://urllib3.readthedocs.io/en/1.26.x/advanced-usage.html#ssl-warnings\n",
      "  warnings.warn(\n",
      "/opt/miniconda3/lib/python3.8/site-packages/urllib3/connectionpool.py:1013: InsecureRequestWarning: Unverified HTTPS request is being made to host '10.72.2.28'. Adding certificate verification is strongly advised. See: https://urllib3.readthedocs.io/en/1.26.x/advanced-usage.html#ssl-warnings\n",
      "  warnings.warn(\n",
      "/opt/miniconda3/lib/python3.8/site-packages/urllib3/connectionpool.py:1013: InsecureRequestWarning: Unverified HTTPS request is being made to host '10.72.2.28'. Adding certificate verification is strongly advised. See: https://urllib3.readthedocs.io/en/1.26.x/advanced-usage.html#ssl-warnings\n",
      "  warnings.warn(\n",
      "/opt/miniconda3/lib/python3.8/site-packages/urllib3/connectionpool.py:1013: InsecureRequestWarning: Unverified HTTPS request is being made to host '10.72.2.28'. Adding certificate verification is strongly advised. See: https://urllib3.readthedocs.io/en/1.26.x/advanced-usage.html#ssl-warnings\n",
      "  warnings.warn(\n",
      "/opt/miniconda3/lib/python3.8/site-packages/urllib3/connectionpool.py:1013: InsecureRequestWarning: Unverified HTTPS request is being made to host '10.72.2.28'. Adding certificate verification is strongly advised. See: https://urllib3.readthedocs.io/en/1.26.x/advanced-usage.html#ssl-warnings\n",
      "  warnings.warn(\n",
      "/opt/miniconda3/lib/python3.8/site-packages/urllib3/connectionpool.py:1013: InsecureRequestWarning: Unverified HTTPS request is being made to host '10.72.2.28'. Adding certificate verification is strongly advised. See: https://urllib3.readthedocs.io/en/1.26.x/advanced-usage.html#ssl-warnings\n",
      "  warnings.warn(\n",
      "/opt/miniconda3/lib/python3.8/site-packages/urllib3/connectionpool.py:1013: InsecureRequestWarning: Unverified HTTPS request is being made to host '10.72.2.28'. Adding certificate verification is strongly advised. See: https://urllib3.readthedocs.io/en/1.26.x/advanced-usage.html#ssl-warnings\n",
      "  warnings.warn(\n"
     ]
    },
    {
     "data": {
      "text/plain": [
       "True"
      ]
     },
     "execution_count": 3,
     "metadata": {},
     "output_type": "execute_result"
    }
   ],
   "source": [
    "# Invenio API client\n",
    "#\n",
    "from api import InvenioClient\n",
    "\n",
    "client = InvenioClient(hostname, token)\n",
    "\n",
    "\n",
    "# Astropedia parser\n",
    "#\n",
    "from api import astropedia\n",
    "\n",
    "payload = astropedia.parse_astropedia_html(url)\n",
    "\n",
    "\n",
    "# Create a draft\n",
    "#\n",
    "resp = client.create_draft(payload)\n",
    "\n",
    "\n",
    "# Open record's page\n",
    "#\n",
    "import webbrowser\n",
    "\n",
    "webbrowser.open(resp['links']['self_html'])"
   ]
  },
  {
   "cell_type": "code",
   "execution_count": 4,
   "id": "aee7c8aa-52c8-45b2-a6ca-5859eddbabcd",
   "metadata": {},
   "outputs": [
    {
     "data": {
      "text/plain": [
       "{'id': 'tqcp2-yf796',\n",
       " 'revision_id': 4,\n",
       " 'expires_at': '2022-04-22 19:42:39.500160',\n",
       " 'is_published': False,\n",
       " 'versions': {'index': 1, 'is_latest_draft': True, 'is_latest': False},\n",
       " 'access': {'status': 'open',\n",
       "  'files': 'public',\n",
       "  'record': 'public',\n",
       "  'embargo': {'active': False, 'reason': None}},\n",
       " 'parent': {'id': 'hbchd-cw450',\n",
       "  'access': {'links': [], 'owned_by': [{'user': 2}]}},\n",
       " 'files': {'enabled': True, 'order': []},\n",
       " 'metadata': {'creators': [{'person_or_org': {'given_name': 'Corey M.',\n",
       "     'type': 'personal',\n",
       "     'name': 'Fortezzo, Corey M.',\n",
       "     'family_name': 'Fortezzo'}},\n",
       "   {'person_or_org': {'given_name': 'Paul D.',\n",
       "     'type': 'personal',\n",
       "     'name': 'Spudis, Paul D.',\n",
       "     'family_name': 'Spudis'}},\n",
       "   {'person_or_org': {'given_name': 'Shannon L.',\n",
       "     'type': 'personal',\n",
       "     'name': 'Harrel, Shannon L.',\n",
       "     'family_name': 'Harrel'}}],\n",
       "  'description': 'This new work represents a seamless, globally consistent, 1:5,000,000-scale geologic map derived from  the six digitally renovated geologic maps (see Source Online Linkage below). The goal of this project was to create a digital resource for science research and analysis, future geologic mapping efforts, be it local-, regional-, or global-scale products, and as a resource for the educators and the public interested in lunar geology. Here we present the completed mapping  project as unit contacts, geologic unit polygons, linear features, and unit and feature nomenclature  annotation. The product overlies shaded-relief products derived from SELENE Kaguya terrain camera stereo  (equatorial, ~60 m/pix) and LOLA altimetry (north and south polar, 100 m/pix). These data are not  included with this download due to size considerations, but a readme in the \"Lunar_Raster\" folder  provides the download links. This download page includes a PDF of the geologic map (right-side) with a brief Description  of Map Units and Explanation of Map Symbols, as well as a JPG of the map for quick access viewing.  This release is subject to update based on community feedback and peer-review.<br>Version 2 updates: Two errors were addressed in this update:(1) Large area polygons were offset from their contacts, likely due to user error. Polygons were rebuilt to fix the issue and post processing (dissolving, reattributing, etc.) to rectify the aesthetic of the map. (2) Contacts were not visible but should have been due to incorrect labeling as DND (do not draw). Those that needed to be drawn have been reattributed as \"certain\" those that are not drawn are labeled as \"internal\".   Additionally, in version 1 of this data, crater polygons with similar attributes had been dissolved and lumped into contiguous units. This has been changed so that all craters are now discrete units. This adds ~1000 units to the GeoUnits featureclass and the related contacts are now visible and labeled as \"certain\".  <br><p><b>References:</b><br>Fortezzo, C.M., Spudis, P. D. and Harrel, S. L. (2020). Release of the Digital Unified Global Geologic Map of the Moon At 1:5,000,000- Scale. Paper presented at the 51st Lunar and Planetary Science Conference, Lunar and Planetary Institute, Houston, TX. https://www.hou.usra.edu/meetings/lpsc2020/pdf/2760.pdf</p><p><b>Extra:</b></p><ul><li>Bounding-Box:<ul><li>minlat = -90.0, maxlat = 90.0, westlon = -180.0, eastlon = 180.0</li></ul></li><li>Product Page:<ul><li><a href=\"https://astrogeology.usgs.gov/search/map/Moon/Geology/Unified_Geologic_Map_of_the_Moon_GIS_v2\">https://astrogeology.usgs.gov/search/map/Moon/Geology/Unified_Geologic_Map_of_the_Moon_GIS_v2</a></li></ul></li></ul>',\n",
       "  'publisher': 'Astrogeology',\n",
       "  'publication_date': '2020-03-03',\n",
       "  'identifiers': [{'scheme': 'url',\n",
       "    'identifier': 'https://astrogeology.usgs.gov/search/map/Moon/Geology/Unified_Geologic_Map_of_the_Moon_GIS_v2'}],\n",
       "  'title': 'Unified Geologic Map of the Moon, 1:5M, 2020',\n",
       "  'resource_type': {'id': 'dataset', 'title': {'en': 'Dataset'}}},\n",
       " 'pids': {},\n",
       " 'links': {'self': 'https://10.72.2.28/api/records/tqcp2-yf796/draft',\n",
       "  'self_html': 'https://10.72.2.28/uploads/tqcp2-yf796',\n",
       "  'files': 'https://10.72.2.28/api/records/tqcp2-yf796/draft/files',\n",
       "  'record': 'https://10.72.2.28/api/records/tqcp2-yf796',\n",
       "  'record_html': 'https://10.72.2.28/records/tqcp2-yf796',\n",
       "  'publish': 'https://10.72.2.28/api/records/tqcp2-yf796/draft/actions/publish',\n",
       "  'versions': 'https://10.72.2.28/api/records/tqcp2-yf796/versions',\n",
       "  'access_links': 'https://10.72.2.28/api/records/tqcp2-yf796/access/links',\n",
       "  'reserve_doi': 'https://10.72.2.28/api/records/tqcp2-yf796/draft/pids/doi'},\n",
       " 'updated': '2022-04-22T19:42:39.535648+00:00',\n",
       " 'created': '2022-04-22T19:42:39.500126+00:00'}"
      ]
     },
     "execution_count": 4,
     "metadata": {},
     "output_type": "execute_result"
    }
   ],
   "source": [
    "resp"
   ]
  }
 ],
 "metadata": {
  "kernelspec": {
   "display_name": "Python 3 (ipykernel)",
   "language": "python",
   "name": "python3"
  },
  "language_info": {
   "codemirror_mode": {
    "name": "ipython",
    "version": 3
   },
   "file_extension": ".py",
   "mimetype": "text/x-python",
   "name": "python",
   "nbconvert_exporter": "python",
   "pygments_lexer": "ipython3",
   "version": "3.8.10"
  }
 },
 "nbformat": 4,
 "nbformat_minor": 5
}
