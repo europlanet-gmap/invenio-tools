{
 "cells": [
  {
   "cell_type": "markdown",
   "id": "343274ae-d825-430c-9b31-fab09676b448",
   "metadata": {},
   "source": [
    "# Astropedia product page/xml parse"
   ]
  },
  {
   "cell_type": "code",
   "execution_count": 1,
   "id": "6fbf0106-bdef-4994-938c-f6946f1890be",
   "metadata": {},
   "outputs": [
    {
     "data": {
      "text/plain": [
       "'https://astrogeology.usgs.gov/search/map/Moon/Geology/Unified_Geologic_Map_of_the_Moon_GIS_v2.xml'"
      ]
     },
     "execution_count": 1,
     "metadata": {},
     "output_type": "execute_result"
    }
   ],
   "source": [
    "url = (\n",
    "    'https://astrogeology.usgs.gov/search/map/Moon/Geology/'\n",
    "    'Unified_Geologic_Map_of_the_Moon_GIS_v2.xml'\n",
    ")\n",
    "url"
   ]
  },
  {
   "cell_type": "code",
   "execution_count": 2,
   "id": "64ad8e9a-2550-4034-9899-4c6f4beb4092",
   "metadata": {},
   "outputs": [
    {
     "data": {
      "text/plain": [
       "'Unified_Geologic_Map_of_the_Moon_GIS_v2'"
      ]
     },
     "execution_count": 2,
     "metadata": {},
     "output_type": "execute_result"
    }
   ],
   "source": [
    "from os import path\n",
    "\n",
    "xml_file = path.basename(url)\n",
    "\n",
    "rootname = '.'.join(xml_file.split('.')[:-1])\n",
    "rootname"
   ]
  },
  {
   "cell_type": "code",
   "execution_count": 3,
   "id": "798cc2ff-9a39-4150-955d-690ab6c621be",
   "metadata": {},
   "outputs": [],
   "source": [
    "# Get the XML from 'url'\n",
    "\n",
    "import requests\n",
    "res = requests.get(url)\n",
    "res.raise_for_status()\n",
    "\n",
    "result = res.text\n",
    "\n",
    "with open(xml_file, 'w') as fp:\n",
    "    fp.write(result)"
   ]
  },
  {
   "cell_type": "code",
   "execution_count": 4,
   "id": "e8435751-f8d9-4b43-8abc-4a8e5a95cc8d",
   "metadata": {},
   "outputs": [],
   "source": [
    "# Transform to JSON (simpler to handle)\n",
    "\n",
    "import xmltodict\n",
    "js = xmltodict.parse(res.text)"
   ]
  },
  {
   "cell_type": "code",
   "execution_count": 5,
   "id": "fbedc1f7-83b9-4d37-b8e0-c112ef1bc718",
   "metadata": {},
   "outputs": [],
   "source": [
    "# Print JSON\n",
    "\n",
    "# import json\n",
    "# print(json.dumps(js, indent=2))"
   ]
  },
  {
   "cell_type": "code",
   "execution_count": 6,
   "id": "15849490-e8fb-471b-b9c7-6d6063fe7614",
   "metadata": {},
   "outputs": [
    {
     "data": {
      "text/plain": [
       "{'westlon': 'westbc',\n",
       " 'eastlon': 'eastbc',\n",
       " 'minlat': 'southbc',\n",
       " 'maxlat': 'northbc'}"
      ]
     },
     "execution_count": 6,
     "metadata": {},
     "output_type": "execute_result"
    }
   ],
   "source": [
    "{k:v for k,v in zip(['westlon','eastlon','minlat','maxlat'],\n",
    "                                                        ['westbc','eastbc','southbc','northbc'])}"
   ]
  },
  {
   "cell_type": "code",
   "execution_count": 7,
   "id": "0e1140f0-c91e-401b-a682-320caab771cb",
   "metadata": {},
   "outputs": [],
   "source": [
    "# Define structure to map between \"theirs\" (astropedia), and \"ours\" (invenio).\n",
    "# Let's define it as a dictionary of fields we want to fill from input object,\n",
    "# the input is the JSON object from Astropedia's XML.\n",
    "# Auxiliary, some individual functions to process the data values during mapping.\n",
    "\n",
    "_clean_CDATA = lambda s: s.replace('![[CDATA]', '').replace(']]','')\n",
    "\"\"\"Remove \"![[CDATA].*]]' from string\"\"\"\n",
    "\n",
    "\n",
    "def _parse_bbox(bbox):\n",
    "    \"\"\"Map astropedia's bounding-box fields to ours\"\"\"\n",
    "    _bbox = {\n",
    "        'westlon': 'westbc',\n",
    "        'eastlon': 'eastbc',\n",
    "        'minlat': 'southbc',\n",
    "        'maxlat': 'northbc'\n",
    "    }\n",
    "    return { k:float(bbox[v]) for k,v in _bbox.items() }\n",
    "\n",
    "\n",
    "_split_sep = lambda s,sep=',': [w.strip() for w in s.split(sep)]\n",
    "\"\"\"Return a list of comma-separated terms (Ex: 'ABC, XYZ')\"\"\"\n",
    "\n",
    "\n",
    "def _parse_authors(text):\n",
    "    \"\"\"\n",
    "    Clean/Split the authors from 'text'. \n",
    "    (Ex: ...\\n<b>References:</b>\\n\\nLastname, N.I., Lastname, N.I. and Lastname, N.I. (2020)...\n",
    "    \"\"\"\n",
    "    refs = []\n",
    "    flag = False\n",
    "    for line in text.split('\\n'):\n",
    "        line = line.strip()\n",
    "        if line == '':\n",
    "            continue\n",
    "        if 'References:' in line:\n",
    "            flag = True\n",
    "            continue\n",
    "        if flag:\n",
    "            refs.append(line)\n",
    "        \n",
    "    authors = []\n",
    "    for line in refs:\n",
    "        l_authors = line.split('(')[0]\n",
    "        _authors = [ a2 for a1 in _split_sep(l_authors, ' and ') \n",
    "                        for a2 in _split_sep(a1, ',') ]\n",
    "        _authors = [ f\"{_authors[i-1]}, {_authors[i]}\"\n",
    "                        for i in range(1,len(_authors),2) ]\n",
    "        authors.extend(_authors)\n",
    "\n",
    "    return authors\n",
    "\n",
    "\n",
    "# metadata mappings (ours: astropedia)\n",
    "_meta = dict(\n",
    "    title = {'path': 'metadata/idinfo/citation/citeinfo/title' },\n",
    "    \n",
    "    date_pub = {'path': 'metadata/idinfo/citation/citeinfo/pubdate'},\n",
    "    \n",
    "    origin = {'path': 'metadata/idinfo/citation/citeinfo/origin'},\n",
    "    \n",
    "    url = {'path': 'metadata/idinfo/citation/citeinfo/onlink'},\n",
    "    \n",
    "    description = {'path': 'metadata/idinfo/descript/abstract', \n",
    "                   'proc': _clean_CDATA },\n",
    "    \n",
    "    authors = {'path': 'metadata/idinfo/descript/abstract', \n",
    "               'proc': _parse_authors },\n",
    "    \n",
    "    document_url = {'path': 'metadata/idinfo/descript/supplinf', \n",
    "                    'proc': _clean_CDATA },\n",
    "    \n",
    "    status = {'path': 'metadata/idinfo/status/progress' },\n",
    "    \n",
    "    bounding_box = {'path': 'metadata/idinfo/spdom/bounding',\n",
    "                    'proc': _parse_bbox },\n",
    "    \n",
    "    scope = {'path': 'metadata/idinfo/accscope',\n",
    "             'proc': _split_sep },\n",
    "    \n",
    "    browse = {'path': 'metadata/idinfo/browse/browsen'},\n",
    "    \n",
    "    product_url = {'path': 'metadata/distinfo/stdorder/digform/digtopt/onlinopt/computer/networka/networkr' }\n",
    ")\n",
    "\n",
    "\n",
    "# Function to do the whole thing\n",
    "def map_jsons(js:dict, mappings:dict):\n",
    "    \"\"\"\n",
    "    Return object like 'mappings', with values from (astropedia) 'js'\n",
    "    \n",
    "    Ex:\n",
    "    > js = {'key1': {'key2': \"val\"}}\n",
    "    > mappings = {\n",
    "    >     'my_key1' : dict(path='key1/key2', proc=lambda s:s.upper()),\n",
    "    >     'my_key2' : dict(path='key1/key2')\n",
    "    > }\n",
    "    > map_jsons(js, mappings)\n",
    "    # {'my_key1': 'VAL', 'my_key2': 'val'}\n",
    "    \"\"\"\n",
    "    def _map(js, obj):\n",
    "        \"\"\"\n",
    "        Return value of key at the leaf of \"obj['path']\", \n",
    "        (optional) processed by \"obj['proc']()\" (if available)\n",
    "        \"\"\"\n",
    "        val = js\n",
    "        for node in obj['path'].split('/'):\n",
    "            val = val[node]\n",
    "            \n",
    "        out = val\n",
    "        if 'proc' in obj:\n",
    "            out = obj['proc'](val)\n",
    "            \n",
    "        return out\n",
    "\n",
    "    out = {}\n",
    "    for keyword, mapping in mappings.items():\n",
    "        value = _map(js, mapping)\n",
    "        out.update({ keyword: value })\n",
    "        \n",
    "    return out"
   ]
  },
  {
   "cell_type": "code",
   "execution_count": 8,
   "id": "daf38b6d-5ac7-4630-a1b6-c616f364e8dd",
   "metadata": {},
   "outputs": [
    {
     "data": {
      "text/plain": [
       "{'title': 'Unified Geologic Map of the Moon, 1:5M, 2020',\n",
       " 'date_pub': '20200303',\n",
       " 'origin': 'USGS Astrogeology Science Center',\n",
       " 'url': 'https://astrogeology.usgs.gov/search/map/Moon/Geology/Unified_Geologic_Map_of_the_Moon_GIS_v2',\n",
       " 'description': 'This new work represents a seamless, globally consistent, 1:5,000,000-scale geologic map derived from \\n the six digitally renovated geologic maps (see Source Online Linkage below). The goal of this project was to \\ncreate a digital resource for science research and analysis, future geologic mapping efforts, be it local-, regional-, \\nor global-scale products, and as a resource\\n for the educators and the public interested in lunar geology. Here we present the completed mapping \\n project as unit contacts, geologic unit polygons, linear features, and unit and feature nomenclature \\n annotation. The product overlies shaded-relief products derived from SELENE Kaguya terrain camera stereo \\n (equatorial, ~60 m/pix) and LOLA altimetry (north and south polar, 100 m/pix). These data are not \\n included with this download due to size considerations, but a readme in the \"Lunar_Raster\" folder \\n provides the download links. This download page includes a PDF of the geologic map (right-side) with a brief Description \\n of Map Units and Explanation of Map Symbols, as well as a JPG of the map for quick access viewing.  This release is subject to update based on community feedback and peer-review.\\n\\n<b>Version 2 updates</b>: \\nTwo errors were addressed in this update:\\n(1) Large area polygons were offset from their contacts, likely due to user error. Polygons were rebuilt \\nto fix the issue and post processing (dissolving, reattributing, etc.) to rectify the aesthetic of the map. \\n(2) Contacts were not visible but should have been due to incorrect labeling as DND (do not draw). Those that \\nneeded to be drawn have been reattributed as \"certain\" those that are not drawn are labeled as \"internal\".   \\nAdditionally, in version 1 of this data, crater polygons with similar attributes had been dissolved and lumped \\ninto contiguous units. This has been changed so that all craters are now discrete units. This adds ~1000 units \\nto the GeoUnits featureclass and the related contacts are now visible and labeled as \"certain\".  \\n\\n\\n<b>References:</b>\\n\\nFortezzo, C.M., Spudis, P. D. and Harrel, S. L. (2020). <em>Release of the Digital Unified Global Geologic Map of the Moon At 1:5,000,000- Scale.</em> Paper presented at the 51st Lunar and Planetary Science Conference, Lunar and Planetary Institute, Houston, TX. <a href=\\'https://www.hou.usra.edu/meetings/lpsc2020/pdf/2760.pdf\\' target=\\'_blank\\'>https://www.hou.usra.edu/meetings/lpsc2020/pdf/2760.pdf</a>',\n",
       " 'authors': ['Fortezzo, C.M.', 'Spudis, P. D.', 'Harrel, S. L.'],\n",
       " 'document_url': 'https://www.hou.usra.edu/meetings/lpsc2020/pdf/2760.pdf',\n",
       " 'status': 'Complete',\n",
       " 'bounding_box': {'westlon': -180.0,\n",
       "  'eastlon': 180.0,\n",
       "  'minlat': -90.0,\n",
       "  'maxlat': 90.0},\n",
       " 'scope': ['PGM', 'MRCTR'],\n",
       " 'browse': 'http://astropedia.astrogeology.usgs.gov/download/Moon/Geology/thumbs/merc_Unified_Geologic_Map_of_The_Moon_1024.jpg',\n",
       " 'product_url': 'http://astropedia.astrogeology.usgs.gov/download/Moon/Geology/Unified_Geologic_Map_of_the_Moon_GIS_v2.zip'}"
      ]
     },
     "execution_count": 8,
     "metadata": {},
     "output_type": "execute_result"
    }
   ],
   "source": [
    "our_js = map_jsons(js, _meta)\n",
    "our_js"
   ]
  },
  {
   "cell_type": "code",
   "execution_count": 9,
   "id": "8ec382b7-2092-4dc9-af23-2e00a063445a",
   "metadata": {},
   "outputs": [],
   "source": [
    "import json\n",
    "\n",
    "with open(f'{rootname}.json', 'w') as fp:\n",
    "    json.dump(js, fp, indent=2)\n",
    "    \n",
    "with open(f'{rootname}_OurMeta.json', 'w') as fp:\n",
    "    json.dump(our_js, fp, indent=2)"
   ]
  },
  {
   "cell_type": "code",
   "execution_count": null,
   "id": "62b5e93c-a453-4776-af86-60af5d073080",
   "metadata": {},
   "outputs": [],
   "source": []
  }
 ],
 "metadata": {
  "kernelspec": {
   "display_name": "Python 3 (ipykernel)",
   "language": "python",
   "name": "python3"
  },
  "language_info": {
   "codemirror_mode": {
    "name": "ipython",
    "version": 3
   },
   "file_extension": ".py",
   "mimetype": "text/x-python",
   "name": "python",
   "nbconvert_exporter": "python",
   "pygments_lexer": "ipython3",
   "version": "3.8.10"
  }
 },
 "nbformat": 4,
 "nbformat_minor": 5
}
