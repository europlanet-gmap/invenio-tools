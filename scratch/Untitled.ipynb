{
 "cells": [
  {
   "cell_type": "markdown",
   "id": "00a793cc-c900-4fee-a703-b274dd77b69f",
   "metadata": {},
   "source": [
    "# Interface for publication on Invenio with widgets\n",
    "\n",
    "I want to provide a graphical interface for publishing GMAP packages to our Invenio instance.\n",
    "We have a working version of a client API (in Python), but for those not really into Python, it would be nice to provide something simple, high-level.\n",
    "\n",
    "We should start from GMAP metadata model, published in the wiki:\n",
    "- https://wiki.europlanet-gmap.eu/bin/view/Main/Documentation/Map-wide%20metadata/\n",
    "\n",
    "The fields and meaning of GMAP packages metadata set are:\n",
    "\n",
    "| Field | Field description | Comments |\n",
    "| --- | --- | --- |\n",
    "| _Map name (GMAP_ID)_ | Unique package name | Format: \"`GMAP-{{target-body}}-{{content-type}}-{{region-label}}_{{detail-label}}`\". See **Note-1**. |\n",
    "| Target body | Name of target body | _eg_, `Mercury`, `Moon` |\n",
    "| Title of map | Map title | _eg_, `Awesome Geologic Map of the region X` |\n",
    "| Bounding box - Min Lat | Minimum latitude in degrees [-90:90) (< Max Lat) | |\n",
    "| Bounding box - Max Lat | Maximum latitude in degrees (-90:90] (> Min Lat) | |\n",
    "| Bounding box - Min Lon | West-most Longitude in degrees [-180:180) (< Max Lon) | |\n",
    "| Bounding box - Max Lon | East-most Longitude in degrees (-180:180] (> Min Lon) | |\n",
    "| Author(s) | Semi-colon separated list of authors | \n",
    "| Type | Either \"draft\" or \"released\" | See **Note-2** |\n",
    "| Output scale | Map spatial scale |\n",
    "| Original Coordinate Reference System | WKT declaring map' CRS |\n",
    "| Data used | Semi-colon separated list of ancillary, original data used |\n",
    "| Standards adhered to | Semi-colon list of standards used in the map |\n",
    "| DOI of companion paper(s) | DOI of linked publication |\n",
    "| Aims | Reason, goal for this map |\n",
    "| Short description | Free-text (500 words maximum) describing the map |\n",
    "| Related products | Other geological maps complementing this one |\n",
    "| Units Definition (polygon styling) | Units color definition |\n",
    "| Stratigraphic info | Description of stratigraphic elements in the map |\n",
    "| Other comments | free-text (notes, errata, warnings) |\n",
    "| Heritage used | heritage information |\n",
    "| Link to other data | Links to extenal resources |\n",
    "| Acknowledgements | Free-text acknowledge |\n",
    "\n",
    "> **Note-1**: in GMAP's progenitor project -- PLANMAP --,  \"Map name\" was given by the data package author after following a set of rules to fill the ID template (_ie_, _target-body_, _content-type_ and _labels_). This manual work does not scale very well; it did work just fine during PLANMAP, but if we want to guarantee a standard format the best thing to do is (1) collect those values separately (_eg_, \"content-type\"), and then (2) compose them in a _ID_ string ourselves; that allows for ID validation.\n",
    ">\n",
    "> That being said, we have to modify the initial (GMAP) metadata model above to:\n",
    "> 1. include \"content-type\" and \"region-/detail-label\" fields;\n",
    "> 2. turn \"map-name (gmap-id)\" into a read-only field.\n",
    ">\n",
    "> GMAP naming conventions (_ie_, GMAP-ID designation) is explained at:\n",
    "> - https://wiki.europlanet-gmap.eu/bin/view/Main/Documentation/GMAP%20naming%20conventions/\n",
    "\n",
    "> **Note-2**: the `Type` keyword is ambiguous, and using it to communicate the production stage the package is currently in (\"draft\" or \"released\"). A more meaningful keyword would be \"`Status`\"\n"
   ]
  },
  {
   "cell_type": "code",
   "execution_count": 1,
   "id": "f82598b5-80ea-414d-965c-6644acded1ce",
   "metadata": {},
   "outputs": [],
   "source": [
    "import ipywidgets as widgets\n",
    "\n",
    "from IPython.display import display"
   ]
  },
  {
   "cell_type": "code",
   "execution_count": 10,
   "id": "a65f1d49-a428-439a-9435-1aaad9119dc9",
   "metadata": {},
   "outputs": [
    {
     "data": {
      "application/vnd.jupyter.widget-view+json": {
       "model_id": "a67f0ba177c34888922bd0624c04c364",
       "version_major": 2,
       "version_minor": 0
      },
      "text/plain": [
       "Text(value='', description='Map title')"
      ]
     },
     "execution_count": 10,
     "metadata": {},
     "output_type": "execute_result"
    }
   ],
   "source": [
    "# Map title\n",
    "#\n",
    "title = widgets.Text(\n",
    "    description = 'Map title'\n",
    ")\n",
    "\n",
    "title"
   ]
  },
  {
   "cell_type": "code",
   "execution_count": 11,
   "id": "73de4a45-0a76-49dd-bf9f-b2de19de6aa0",
   "metadata": {},
   "outputs": [
    {
     "data": {
      "application/vnd.jupyter.widget-view+json": {
       "model_id": "1f4055b58fb24075bfea4d8a6c5a15bd",
       "version_major": 2,
       "version_minor": 0
      },
      "text/plain": [
       "Combobox(value='', description='Target body', ensure_option=True, options=('Mars', 'Mercury', 'Moon'), placeho…"
      ]
     },
     "execution_count": 11,
     "metadata": {},
     "output_type": "execute_result"
    }
   ],
   "source": [
    "# Target body: a pre-defined list of planets and satelites\n",
    "# - mandatory\n",
    "target = widgets.Combobox(\n",
    "    description = 'Target body',\n",
    "    placeholder = 'Choose a body',\n",
    "    options = ['Mars', 'Mercury', 'Moon'],\n",
    "    ensure_option = True,\n",
    ")\n",
    "\n",
    "target"
   ]
  },
  {
   "cell_type": "code",
   "execution_count": 12,
   "id": "b2efd4d5-1aa1-4212-842e-e45a9532725f",
   "metadata": {},
   "outputs": [
    {
     "data": {
      "application/vnd.jupyter.widget-view+json": {
       "model_id": "762b3d9a29724b3182fc89f7eba40f30",
       "version_major": 2,
       "version_minor": 0
      },
      "text/plain": [
       "SelectMultiple(description='Map type', options=('Compositional', 'Digital model', 'Geo-structural', 'Integrate…"
      ]
     },
     "execution_count": 12,
     "metadata": {},
     "output_type": "execute_result"
    }
   ],
   "source": [
    "_map_types = {\n",
    "    'Integrated': 'I',\n",
    "    'Morphologic': 'M',\n",
    "    'Stratigraphic': 'S',\n",
    "    'Compositional': 'C',\n",
    "    'Digital model': 'D',\n",
    "    'Geo-structural': 'G',\n",
    "}\n",
    "\n",
    "map_type = widgets.SelectMultiple(\n",
    "    description = 'Map type',\n",
    "    options = sorted(_map_types.keys()),\n",
    ")\n",
    "\n",
    "map_type"
   ]
  },
  {
   "cell_type": "code",
   "execution_count": 13,
   "id": "b62beee6-701e-404c-b49b-fe70fdabe73a",
   "metadata": {},
   "outputs": [
    {
     "data": {
      "application/vnd.jupyter.widget-view+json": {
       "model_id": "15bc6e9a83d14740ab4fd88a2c0bcecd",
       "version_major": 2,
       "version_minor": 0
      },
      "text/plain": [
       "Text(value='', description='Map label', placeholder='Format: \"Label\", \"Label-sublabel\"')"
      ]
     },
     "execution_count": 13,
     "metadata": {},
     "output_type": "execute_result"
    }
   ],
   "source": [
    "label = widgets.Text(\n",
    "    description = 'Map label',\n",
    "    placeholder = 'Format: \"Label\", \"Label-sublabel\"'\n",
    ")\n",
    "\n",
    "label"
   ]
  },
  {
   "cell_type": "code",
   "execution_count": 14,
   "id": "04bfc7e4-7ccd-444c-9106-f7905ee2db67",
   "metadata": {},
   "outputs": [
    {
     "data": {
      "application/vnd.jupyter.widget-view+json": {
       "model_id": "45deb1aa9b0d47ea9307e7cd99fc55d2",
       "version_major": 2,
       "version_minor": 0
      },
      "text/plain": [
       "Text(value='', description='GMAP-ID', disabled=True)"
      ]
     },
     "metadata": {},
     "output_type": "display_data"
    }
   ],
   "source": [
    "gmap_id = widgets.Text(\n",
    "    description = 'GMAP-ID',\n",
    "    disabled = True\n",
    ")\n",
    "\n",
    "def on_change_value_for_id(change):\n",
    "    _target = target.value.strip()\n",
    "    _type = ''.join([ _map_types[t] for t in map_type.value ])\n",
    "    _label = label.value.strip().replace(' ','-').title()\n",
    "    _id = ['GMAP', _target, _type, _label]\n",
    "    if not all(_id):\n",
    "        gmap_id.value = \"not-valid\"\n",
    "    else:\n",
    "        _id = '_'.join(_id)\n",
    "        gmap_id.value = _id\n",
    "        \n",
    "target.observe(on_change_value_for_id, names='value')\n",
    "map_type.observe(on_change_value_for_id, names='value')\n",
    "label.observe(on_change_value_for_id, names='value')\n",
    "\n",
    "display(gmap_id)"
   ]
  },
  {
   "cell_type": "code",
   "execution_count": 15,
   "id": "d9fd36e9-6286-4d40-b2a2-7f4dc1ce8905",
   "metadata": {},
   "outputs": [
    {
     "data": {
      "application/vnd.jupyter.widget-view+json": {
       "model_id": "a443989c2f3e4ca5874a77641cdca1f9",
       "version_major": 2,
       "version_minor": 0
      },
      "text/plain": [
       "DatePicker(value=datetime.date(2022, 10, 17), description='Publication date:', step=1)"
      ]
     },
     "execution_count": 15,
     "metadata": {},
     "output_type": "execute_result"
    }
   ],
   "source": [
    "import datetime\n",
    "\n",
    "date = widgets.DatePicker(\n",
    "    description = 'Publication date',\n",
    "    value = datetime.date.today()\n",
    ")\n",
    "\n",
    "date"
   ]
  },
  {
   "cell_type": "code",
   "execution_count": 18,
   "id": "15cd4076-f61b-45dd-b18b-46f72f43ff22",
   "metadata": {},
   "outputs": [
    {
     "data": {
      "application/vnd.jupyter.widget-view+json": {
       "model_id": "da0a7295526f4202b10c0732d8f27b00",
       "version_major": 2,
       "version_minor": 0
      },
      "text/plain": [
       "VBox(children=(Text(value='', description='Map title'), Combobox(value='', description='Target body', ensure_o…"
      ]
     },
     "execution_count": 18,
     "metadata": {},
     "output_type": "execute_result"
    }
   ],
   "source": [
    "widgets.VBox(\n",
    "    [title,\n",
    "     target,\n",
    "     map_type,\n",
    "     label,\n",
    "     gmap_id,\n",
    "     date]\n",
    ")"
   ]
  },
  {
   "cell_type": "code",
   "execution_count": null,
   "id": "292986b1-edd2-491f-8535-539c2d023a2e",
   "metadata": {},
   "outputs": [],
   "source": []
  },
  {
   "cell_type": "code",
   "execution_count": null,
   "id": "8a3a7b2a-1d47-46aa-b4ce-5ea562661cd0",
   "metadata": {},
   "outputs": [],
   "source": []
  },
  {
   "cell_type": "code",
   "execution_count": null,
   "id": "a0e116f7-916b-4489-beeb-2c1110e4e5dc",
   "metadata": {},
   "outputs": [],
   "source": []
  },
  {
   "cell_type": "code",
   "execution_count": null,
   "id": "51b9f72b-5af2-43ca-b119-aef8a4b84d55",
   "metadata": {},
   "outputs": [],
   "source": []
  },
  {
   "cell_type": "code",
   "execution_count": null,
   "id": "4f9b2f7d-b016-4955-9b18-18d288221405",
   "metadata": {},
   "outputs": [],
   "source": []
  }
 ],
 "metadata": {
  "kernelspec": {
   "display_name": "Python 3 (ipykernel)",
   "language": "python",
   "name": "python3"
  },
  "language_info": {
   "codemirror_mode": {
    "name": "ipython",
    "version": 3
   },
   "file_extension": ".py",
   "mimetype": "text/x-python",
   "name": "python",
   "nbconvert_exporter": "python",
   "pygments_lexer": "ipython3",
   "version": "3.10.6"
  }
 },
 "nbformat": 4,
 "nbformat_minor": 5
}
