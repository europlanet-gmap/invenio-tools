{
 "cells": [
  {
   "cell_type": "markdown",
   "id": "84d2df34-da8f-4937-927f-2260761e77e5",
   "metadata": {},
   "source": [
    "# PLANMAP Readme to JSON metadata file\n",
    "\n",
    "In this note we will translate a Planmap package Readme.md (Markdown) to a JSON file and validate it against the GMAP package jsonschema, then save it."
   ]
  },
  {
   "cell_type": "code",
   "execution_count": 1,
   "id": "b772e36f-5fa7-42c2-8356-a4a6fc679343",
   "metadata": {},
   "outputs": [],
   "source": [
    "PUB_DIR = 'data/publish_data/archive/'\n",
    "ZIP_DIR = 'data/publish_data/zip/'"
   ]
  },
  {
   "cell_type": "code",
   "execution_count": 2,
   "id": "332cf08f-a4f5-4c13-96da-08a07c05c794",
   "metadata": {},
   "outputs": [],
   "source": [
    "readme_file = f'{PUB_DIR}/mars/PM-MAR-MS-Arsinoes/README.md'\n",
    "\n",
    "with open(readme_file, 'r') as fp:\n",
    "    readme = fp.read()\n",
    "    "
   ]
  },
  {
   "cell_type": "code",
   "execution_count": 3,
   "id": "50342e82-34c4-47a1-b617-d6e610c740d0",
   "metadata": {},
   "outputs": [
    {
     "name": "stdout",
     "output_type": "stream",
     "text": [
      "---\n",
      "<img src=\"./document/PM-MAR-MS-Arsinoes.browse.png\" width=\"800\"/>\n",
      "\n",
      "| Field                                                        | Description                                                  |\n",
      "| ------------------------------------------------------------ | ------------------------------------------------------------ |\n",
      "| Map name (PM_ID)                                             | PM-MAR-MS-Arsinoes                                           |\n",
      "| Map version                                                  | 03                                        |\n",
      "| Target body                                                  | Mars                                                         |\n",
      "| Title of map                                                 | Geological Map of Arsinoes and Pyrrhae Chaos, Mars           |\n",
      "| Bounding box - Min Lat                                       | -12                                                          |\n",
      "| Bounding box - Max Lat                                       | -5.8                                                         |\n",
      "| Bounding box - Min Lon (0-360)                               | 329.7                                                        |\n",
      "| Bounding box - Max Lon (0-360)                               | 334.5                                                        |\n",
      "| Author(s)                                                    | E. Luzzi, A.P. Rossi                                         |\n",
      "| Type                                                         | Preliminary                                                  |\n",
      "| Output scale                                                 | 1:3.000.000                                                  |\n",
      "| Original Coordinate Reference System                         | Projected Coordinate System: Equirectangular Projection: Plate_Carree false_easting: 0.00000000 false_northing: 0.00000000 central_meridian: 0.00000000 Linear Unit: Meter Geographic Coordinate System: GCS_Geographic_Coordinate_System Datum: D_MARS Prime Meridian: Reference Meridian Angular Unit: Degree |\n",
      "| Data used                                                    | MOLA Elevation Model MEGDR (463 m/pixel)CTX mosaic by MurrayLabCTX DTM (18 m)HiRISE RED (0,25 m/pixel) |\n",
      "| Standards adhered to                                         | Planmap mapping standards document                           |\n",
      "| DOI                                                          |                                                              |\n",
      "| Aims (one sentence)                                          | Morpho-stratigraphic mapping                                 |\n",
      "| Short description                                            | This map shows the contacts between the disrupted bedrock of the Chaotic terrain Units and the overlying sedimentary units. In addition, it shows the distribution of the graben/fissures and pit chains that are probably related to an intense past of magmatic activity and calderic collapse. In order to better characterize the mineralogical characteristics of the occurring deposits, also spectral analyses were tried out on the only available CRISM cube in the area (still in progress) |\n",
      "| Related products (cross link to other Planmap products)      |                                                              |\n",
      "| Units Definition                                             | Post-collapse craters, PCC, 51-160-44Cap Unit, CAP, 182-162-255Light-toned Layered deposits units, LLD, 77-205-255High Thermal Inertia Chaotic terrain, ChH, 227-28-28Knobby Terrain, ChK, 255-127-0Fractured Plains, ChF, 255-238-3 |\n",
      "| Stratigraphic info (e.g. production function used)           | N/A                                                          |\n",
      "| Other comments (reviewer comments, notes on post-processing) |                                                              |\n",
      "| Heritage used                                                | Glotch and Christensen 2005                                  |\n",
      "| Link to other repositories                                   |                                                              |\n",
      "| Acknowledgements beyond Planmap                              | N/A                                                          |\n",
      "\n",
      "\n"
     ]
    }
   ],
   "source": [
    "print(readme)"
   ]
  },
  {
   "cell_type": "code",
   "execution_count": 4,
   "id": "ff43dcaf-2a79-4723-a03c-e862a1313dff",
   "metadata": {},
   "outputs": [],
   "source": [
    "# Import Planmap package\n",
    "#\n",
    "import api.planmap\n",
    "\n",
    "from importlib import reload\n",
    "reload(api.planmap)\n",
    "\n",
    "table = api.planmap.markdown2json(readme)\n",
    "\n",
    "api.planmap.validate(table)"
   ]
  },
  {
   "cell_type": "code",
   "execution_count": 5,
   "id": "07a3951d-d40e-418b-9368-290f3ee26b33",
   "metadata": {},
   "outputs": [
    {
     "name": "stdout",
     "output_type": "stream",
     "text": [
      "Processing packages in mars\n",
      "PM-MAR-MS-Crommelin\n",
      "PM-MAR-C-Crommelin\n",
      "PM-MAR-D-Oxia_Planum\n",
      "PM-MAR-D-Crommelin\n",
      "PM-MAR-MS-Arsinoes\n",
      "PM-MAR-SI-Crommelin\n",
      "PM-MAR-D-Gale_Murray\n",
      "PM-MAR-C-Arsinoes\n",
      "PM-MAR-D-Jezero\n",
      "PM-MAR-D-Gale_Kimberley\n",
      "Processing packages in mercury\n",
      "PM-MER-C-H05_SU\n",
      "PM-MER-GS-Rachmaninoff_5cc\n",
      "PM-MER-MS-Beethoven\n",
      "PM-MER-MS-H14_5cc\n",
      "PM-MER-MS-H10_5cc\n",
      "PM-MER-SI-Rembrandt\n",
      "PM-MER-MS-H05_5cc\n",
      "PM-MER-D-Rembrandt\n",
      "PM-MER-C-Rembrandt\n",
      "PM-MER-MS-Lermontov\n",
      "PM-MER-MS-H14_3cc\n",
      "PM-MER-C-H05\n",
      "PM-MER-MS-H02_3cc\n",
      "PM-MER-MS-H10_3cc\n",
      "PM-MER-MS-Rembrandt\n",
      "PM-MER-MS-H05_3cc\n",
      "PM-MER-C-Beethoven\n",
      "Processing packages in moon\n",
      "PM-MOO-MS-Apollo11\n",
      "PM-MOO-C-SPAA1_SU\n",
      "PM-MOO-GS-SPAApollo_Detail\n",
      "PM-MOO-C-SPAApollo\n",
      "PM-MOO-C-SPAApollo_SU\n",
      "PM-MOO-MS-Apollo12\n",
      "PM-MOO-MS-SPAApollo\n",
      "PM-MOO-D-YutuGPR\n",
      "PM-MOO-MS-Copernicus\n"
     ]
    }
   ],
   "source": [
    "import os\n",
    "from glob import glob\n",
    "\n",
    "def validate_readme(readme_file):    \n",
    "    import api.planmap\n",
    "    \n",
    "    with open(readme_file, 'r') as fp:\n",
    "        readme = fp.read()\n",
    "\n",
    "    table = api.planmap.markdown2json(readme)\n",
    "\n",
    "    api.planmap.validate(table)\n",
    "\n",
    "    \n",
    "for body in ['mars','mercury','moon']:\n",
    "    print(\"Processing packages in\", body)\n",
    "\n",
    "    for pkg_dir in glob(f\"{PUB_DIR}/{body}/PM-*\"):\n",
    "        pkg_name = os.path.basename(pkg_dir)\n",
    "        print(pkg_name)\n",
    "\n",
    "        for filepath in glob(f\"{pkg_dir}/*\"):\n",
    "            if os.path.basename(filepath).lower() == 'readme.md':\n",
    "                validate_readme(filepath)\n"
   ]
  },
  {
   "cell_type": "code",
   "execution_count": 6,
   "id": "8b78342f-c3e3-445e-b817-85d03ee83795",
   "metadata": {},
   "outputs": [
    {
     "ename": "AssertionError",
     "evalue": "",
     "output_type": "error",
     "traceback": [
      "\u001b[0;31m---------------------------------------------------------------------------\u001b[0m",
      "\u001b[0;31mAssertionError\u001b[0m                            Traceback (most recent call last)",
      "Input \u001b[0;32mIn [6]\u001b[0m, in \u001b[0;36m<cell line: 1>\u001b[0;34m()\u001b[0m\n\u001b[0;32m----> 1\u001b[0m \u001b[38;5;28;01massert\u001b[39;00m \u001b[38;5;28;01mNone\u001b[39;00m\n",
      "\u001b[0;31mAssertionError\u001b[0m: "
     ]
    }
   ],
   "source": [
    "assert None"
   ]
  },
  {
   "cell_type": "code",
   "execution_count": null,
   "id": "631b2685-c16e-4c0b-92c7-3d5a5aa40526",
   "metadata": {},
   "outputs": [],
   "source": [
    "from importlib import reload\n",
    "reload(api.planmap)\n",
    "\n",
    "# payload = api.planmap.parse_readme_url('https://data.planmap.eu/pub/mars/PM-MAR-MS-Arsinoes/README.md')\n",
    "payload = api.planmap.parse_package(f'{PUB_DIR}/mars/PM-MAR-MS-Arsinoes')\n",
    "\n",
    "payload.add_files(f\"{ZIP_DIR}/mars/PM-MAR-MS-Arsinoes.zip\")\n",
    "\n",
    "payload.asdict()"
   ]
  },
  {
   "cell_type": "code",
   "execution_count": null,
   "id": "8932ecca-704b-4da4-bfda-01436b7ced2e",
   "metadata": {},
   "outputs": [],
   "source": [
    "payload.create_files_payload()"
   ]
  },
  {
   "cell_type": "code",
   "execution_count": null,
   "id": "804db6ac-8759-4d30-b152-504ad6ff7c46",
   "metadata": {},
   "outputs": [],
   "source": [
    "import api.invenio\n",
    "\n",
    "reload(api.invenio)"
   ]
  },
  {
   "cell_type": "code",
   "execution_count": null,
   "id": "8650e58a-1d3f-4ef6-bd8b-b83d89628908",
   "metadata": {},
   "outputs": [],
   "source": [
    "# Invenio server\n",
    "#\n",
    "hostname = '10.72.2.28:5000'\n",
    "token = 'MJg5k2AYs5hr1YSXVKH4IifydN70WjUwcjbgxiKlxUaX2ETgB0nma4FiKZfx'\n",
    "\n",
    "client = api.invenio.InvenioClient(hostname, token)"
   ]
  },
  {
   "cell_type": "code",
   "execution_count": null,
   "id": "509134be-6382-4587-bf8e-97e37c285cb5",
   "metadata": {},
   "outputs": [],
   "source": [
    "# Create a draft\n",
    "#\n",
    "resp = client.create_draft(payload)\n",
    "\n",
    "# print(resp)"
   ]
  },
  {
   "cell_type": "code",
   "execution_count": null,
   "id": "5e06bc27-3a01-40c7-bf12-6e1fe4cb8d90",
   "metadata": {},
   "outputs": [],
   "source": [
    "print(resp['id'])"
   ]
  },
  {
   "cell_type": "code",
   "execution_count": null,
   "id": "ed250323-cfc5-4dda-b0d6-4531d7c4e363",
   "metadata": {},
   "outputs": [],
   "source": [
    "# Open record's page\n",
    "#\n",
    "import webbrowser\n",
    "\n",
    "webbrowser.open(resp['links']['self_html'])"
   ]
  },
  {
   "cell_type": "code",
   "execution_count": null,
   "id": "04d8b117-b9fc-4afa-a253-de9c06eeca6d",
   "metadata": {},
   "outputs": [],
   "source": [
    "resp"
   ]
  },
  {
   "cell_type": "code",
   "execution_count": null,
   "id": "e7f6fbcb-940a-4d93-9187-74fa40279fb3",
   "metadata": {},
   "outputs": [],
   "source": [
    "client.publish_draft(resp['id'])"
   ]
  },
  {
   "cell_type": "code",
   "execution_count": null,
   "id": "bd713d59-9b1d-4a82-808c-c2cdaaed14cc",
   "metadata": {},
   "outputs": [],
   "source": []
  }
 ],
 "metadata": {
  "kernelspec": {
   "display_name": "invenio_tools",
   "language": "python",
   "name": "invenio_tools"
  },
  "language_info": {
   "codemirror_mode": {
    "name": "ipython",
    "version": 3
   },
   "file_extension": ".py",
   "mimetype": "text/x-python",
   "name": "python",
   "nbconvert_exporter": "python",
   "pygments_lexer": "ipython3",
   "version": "3.10.5"
  }
 },
 "nbformat": 4,
 "nbformat_minor": 5
}
