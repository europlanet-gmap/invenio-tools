{
 "cells": [
  {
   "cell_type": "markdown",
   "id": "84d2df34-da8f-4937-927f-2260761e77e5",
   "metadata": {},
   "source": [
    "# PLANMAP-Invenio publishing: parsing PLANMAP"
   ]
  },
  {
   "cell_type": "code",
   "execution_count": 1,
   "id": "332cf08f-a4f5-4c13-96da-08a07c05c794",
   "metadata": {},
   "outputs": [],
   "source": [
    "readme_file = 'data/publish_data/archive/mars/PM-MAR-MS-Arsinoes/README.md'\n",
    "\n",
    "with open(readme_file, 'r') as fp:\n",
    "    readme = fp.read()\n",
    "    "
   ]
  },
  {
   "cell_type": "code",
   "execution_count": 2,
   "id": "50342e82-34c4-47a1-b617-d6e610c740d0",
   "metadata": {},
   "outputs": [
    {
     "name": "stdout",
     "output_type": "stream",
     "text": [
      "---\n",
      "<img src=\"./document/PM-MAR-MS-Arsinoes.browse.png\" width=\"800\"/>\n",
      "\n",
      "| Field                                                        | Description                                                  |\n",
      "| ------------------------------------------------------------ | ------------------------------------------------------------ |\n",
      "| Map name (PM_ID)                                             | PM-MAR-MS-Arsinoes                                           |\n",
      "| Map version                                                  | 03                                        |\n",
      "| Target body                                                  | Mars                                                         |\n",
      "| Title of map                                                 | Geological Map of Arsinoes and Pyrrhae Chaos, Mars           |\n",
      "| Bounding box - Min Lat                                       | -12                                                          |\n",
      "| Bounding box - Max Lat                                       | -5.8                                                         |\n",
      "| Bounding box - Min Lon (0-360)                               | 329.7                                                        |\n",
      "| Bounding box - Max Lon (0-360)                               | 334.5                                                        |\n",
      "| Author(s)                                                    | E. Luzzi, A.P. Rossi                                         |\n",
      "| Type                                                         | Preliminary                                                  |\n",
      "| Output scale                                                 | 1:3.000.000                                                  |\n",
      "| Original Coordinate Reference System                         | Projected Coordinate System: Equirectangular Projection: Plate_Carree false_easting: 0.00000000 false_northing: 0.00000000 central_meridian: 0.00000000 Linear Unit: Meter Geographic Coordinate System: GCS_Geographic_Coordinate_System Datum: D_MARS Prime Meridian: Reference Meridian Angular Unit: Degree |\n",
      "| Data used                                                    | MOLA Elevation Model MEGDR (463 m/pixel)CTX mosaic by MurrayLabCTX DTM (18 m)HiRISE RED (0,25 m/pixel) |\n",
      "| Standards adhered to                                         | Planmap mapping standards document                           |\n",
      "| DOI                                                          |                                                              |\n",
      "| Aims (one sentence)                                          | Morpho-stratigraphic mapping                                 |\n",
      "| Short description                                            | This map shows the contacts between the disrupted bedrock of the Chaotic terrain Units and the overlying sedimentary units. In addition, it shows the distribution of the graben/fissures and pit chains that are probably related to an intense past of magmatic activity and calderic collapse. In order to better characterize the mineralogical characteristics of the occurring deposits, also spectral analyses were tried out on the only available CRISM cube in the area (still in progress) |\n",
      "| Related products (cross link to other Planmap products)      |                                                              |\n",
      "| Units Definition                                             | Post-collapse craters, PCC, 51-160-44Cap Unit, CAP, 182-162-255Light-toned Layered deposits units, LLD, 77-205-255High Thermal Inertia Chaotic terrain, ChH, 227-28-28Knobby Terrain, ChK, 255-127-0Fractured Plains, ChF, 255-238-3 |\n",
      "| Stratigraphic info (e.g. production function used)           | N/A                                                          |\n",
      "| Other comments (reviewer comments, notes on post-processing) |                                                              |\n",
      "| Heritage used                                                | Glotch and Christensen 2005                                  |\n",
      "| Link to other repositories                                   |                                                              |\n",
      "| Acknowledgements beyond Planmap                              | N/A                                                          |\n",
      "\n",
      "\n"
     ]
    }
   ],
   "source": [
    "print(readme)"
   ]
  },
  {
   "cell_type": "code",
   "execution_count": 3,
   "id": "c739eff5-6a25-448a-8e17-cff98e478be4",
   "metadata": {},
   "outputs": [
    {
     "data": {
      "text/plain": [
       "{'Map name (PM_ID)': 'PM-MAR-MS-Arsinoes',\n",
       " 'Map version': '03',\n",
       " 'Target body': 'Mars',\n",
       " 'Title of map': 'Geological Map of Arsinoes and Pyrrhae Chaos, Mars',\n",
       " 'Bounding box - Min Lat': '-12',\n",
       " 'Bounding box - Max Lat': '-5.8',\n",
       " 'Bounding box - Min Lon (0-360)': '329.7',\n",
       " 'Bounding box - Max Lon (0-360)': '334.5',\n",
       " 'Author(s)': 'E. Luzzi, A.P. Rossi',\n",
       " 'Type': 'Preliminary',\n",
       " 'Output scale': '1:3.000.000',\n",
       " 'Original Coordinate Reference System': 'Projected Coordinate System: Equirectangular Projection: Plate_Carree false_easting: 0.00000000 false_northing: 0.00000000 central_meridian: 0.00000000 Linear Unit: Meter Geographic Coordinate System: GCS_Geographic_Coordinate_System Datum: D_MARS Prime Meridian: Reference Meridian Angular Unit: Degree',\n",
       " 'Data used': 'MOLA Elevation Model MEGDR (463 m/pixel)CTX mosaic by MurrayLabCTX DTM (18 m)HiRISE RED (0,25 m/pixel)',\n",
       " 'Standards adhered to': 'Planmap mapping standards document',\n",
       " 'DOI': '',\n",
       " 'Aims (one sentence)': 'Morpho-stratigraphic mapping',\n",
       " 'Short description': 'This map shows the contacts between the disrupted bedrock of the Chaotic terrain Units and the overlying sedimentary units. In addition, it shows the distribution of the graben/fissures and pit chains that are probably related to an intense past of magmatic activity and calderic collapse. In order to better characterize the mineralogical characteristics of the occurring deposits, also spectral analyses were tried out on the only available CRISM cube in the area (still in progress)',\n",
       " 'Related products (cross link to other Planmap products)': '',\n",
       " 'Units Definition': 'Post-collapse craters, PCC, 51-160-44Cap Unit, CAP, 182-162-255Light-toned Layered deposits units, LLD, 77-205-255High Thermal Inertia Chaotic terrain, ChH, 227-28-28Knobby Terrain, ChK, 255-127-0Fractured Plains, ChF, 255-238-3',\n",
       " 'Stratigraphic info (e.g. production function used)': 'N/A',\n",
       " 'Other comments (reviewer comments, notes on post-processing)': '',\n",
       " 'Heritage used': 'Glotch and Christensen 2005',\n",
       " 'Link to other repositories': '',\n",
       " 'Acknowledgements beyond Planmap': 'N/A'}"
      ]
     },
     "execution_count": 3,
     "metadata": {},
     "output_type": "execute_result"
    }
   ],
   "source": [
    "table = {}\n",
    "\n",
    "for line in readme.split('\\n'):\n",
    "    line = line.strip()\n",
    "\n",
    "    if not line.startswith('|'):\n",
    "        continue\n",
    "        \n",
    "    k, v = [ o.strip() for o in line.split('|') if o ]\n",
    "    \n",
    "    if k.lower() == 'field' or k.startswith('-'):\n",
    "        continue\n",
    "        \n",
    "    table.update({ k: v })\n",
    "\n",
    "table"
   ]
  },
  {
   "cell_type": "code",
   "execution_count": 4,
   "id": "30b9303e-9a79-4b5a-8472-6aaaf179cd66",
   "metadata": {},
   "outputs": [],
   "source": [
    "import api"
   ]
  },
  {
   "cell_type": "code",
   "execution_count": 5,
   "id": "d270d5ba-af2f-4c41-ba3b-e967bc15b80f",
   "metadata": {},
   "outputs": [
    {
     "name": "stdout",
     "output_type": "stream",
     "text": [
      "Help on package api:\n",
      "\n",
      "NAME\n",
      "    api\n",
      "\n",
      "PACKAGE CONTENTS\n",
      "    astropedia\n",
      "    invenio\n",
      "    planmap\n",
      "\n",
      "FILE\n",
      "    /Users/chbrandt/Coisas/repos/GMAP/invenio_tools/scratch/planmap/api/__init__.py\n",
      "\n",
      "\n"
     ]
    }
   ],
   "source": [
    "help(api)"
   ]
  },
  {
   "cell_type": "code",
   "execution_count": 6,
   "id": "b772e36f-5fa7-42c2-8356-a4a6fc679343",
   "metadata": {},
   "outputs": [],
   "source": [
    "PUB_DIR = 'data/publish_data/archive/'\n",
    "ZIP_DIR = 'data/publish_data/zip/'"
   ]
  },
  {
   "cell_type": "code",
   "execution_count": 7,
   "id": "631b2685-c16e-4c0b-92c7-3d5a5aa40526",
   "metadata": {},
   "outputs": [
    {
     "data": {
      "text/plain": [
       "{'title': 'Geological Map of Arsinoes and Pyrrhae Chaos, Mars',\n",
       " 'authors': ['E. Luzzi', ' A.P. Rossi'],\n",
       " 'pub_date': '2022-05-11',\n",
       " 'publisher': 'Planmap',\n",
       " 'description': 'This map shows the contacts between the disrupted bedrock of the Chaotic terrain Units and the overlying sedimentary units. In addition, it shows the distribution of the graben/fissures and pit chains that are probably related to an intense past of magmatic activity and calderic collapse. In order to better characterize the mineralogical characteristics of the occurring deposits, also spectral analyses were tried out on the only available CRISM cube in the area (still in progress)',\n",
       " 'bounding_box': {'minlat': -12.0,\n",
       "  'maxlat': -5.8,\n",
       "  'westlon': 329.7,\n",
       "  'eastlon': 334.5},\n",
       " 'name': 'PM-MAR-MS-Arsinoes',\n",
       " 'body': 'Mars',\n",
       " 'extra': {'Map version': '03',\n",
       "  'Type': 'Preliminary',\n",
       "  'Output scale': '1:3.000.000',\n",
       "  'Original Coordinate Reference System': 'Projected Coordinate System: Equirectangular Projection: Plate_Carree false_easting: 0.00000000 false_northing: 0.00000000 central_meridian: 0.00000000 Linear Unit: Meter Geographic Coordinate System: GCS_Geographic_Coordinate_System Datum: D_MARS Prime Meridian: Reference Meridian Angular Unit: Degree',\n",
       "  'Data used': 'MOLA Elevation Model MEGDR (463 m/pixel)CTX mosaic by MurrayLabCTX DTM (18 m)HiRISE RED (0,25 m/pixel)',\n",
       "  'Standards adhered to': 'Planmap mapping standards document',\n",
       "  'Aims (one sentence)': 'Morpho-stratigraphic mapping',\n",
       "  'Related products (cross link to other Planmap products)': '',\n",
       "  'Units Definition': 'Post-collapse craters, PCC, 51-160-44Cap Unit, CAP, 182-162-255Light-toned Layered deposits units, LLD, 77-205-255High Thermal Inertia Chaotic terrain, ChH, 227-28-28Knobby Terrain, ChK, 255-127-0Fractured Plains, ChF, 255-238-3',\n",
       "  'Stratigraphic info (e.g. production function used)': 'N/A',\n",
       "  'Other comments (reviewer comments, notes on post-processing)': '',\n",
       "  'Heritage used': 'Glotch and Christensen 2005',\n",
       "  'Link to other repositories': '',\n",
       "  'Acknowledgements beyond Planmap': 'N/A'},\n",
       " 'identifiers': {'doi': ''},\n",
       " 'files': {'PM-MAR-MS-Arsinoes.pdf': 'data/publish_data/archive//mars/PM-MAR-MS-Arsinoes/document/PM-MAR-MS-Arsinoes.pdf',\n",
       "  'PM-MAR-MS-Arsinoes.browse.png': 'data/publish_data/archive//mars/PM-MAR-MS-Arsinoes/document/PM-MAR-MS-Arsinoes.browse.png',\n",
       "  'PM-MAR-MS-Arsinoes.zip': 'data/publish_data/zip//mars/PM-MAR-MS-Arsinoes.zip'}}"
      ]
     },
     "execution_count": 7,
     "metadata": {},
     "output_type": "execute_result"
    }
   ],
   "source": [
    "import api.planmap\n",
    "\n",
    "from importlib import reload\n",
    "reload(api.planmap)\n",
    "\n",
    "# payload = api.planmap.parse_readme_url('https://data.planmap.eu/pub/mars/PM-MAR-MS-Arsinoes/README.md')\n",
    "payload = api.planmap.parse_package(f'{PUB_DIR}/mars/PM-MAR-MS-Arsinoes')\n",
    "\n",
    "payload.add_files(f\"{ZIP_DIR}/mars/PM-MAR-MS-Arsinoes.zip\")\n",
    "\n",
    "payload.asdict()"
   ]
  },
  {
   "cell_type": "code",
   "execution_count": 8,
   "id": "8932ecca-704b-4da4-bfda-01436b7ced2e",
   "metadata": {},
   "outputs": [
    {
     "data": {
      "text/plain": [
       "[{'key': 'PM-MAR-MS-Arsinoes.pdf'},\n",
       " {'key': 'PM-MAR-MS-Arsinoes.browse.png'},\n",
       " {'key': 'PM-MAR-MS-Arsinoes.zip'}]"
      ]
     },
     "execution_count": 8,
     "metadata": {},
     "output_type": "execute_result"
    }
   ],
   "source": [
    "payload.create_files_payload()"
   ]
  },
  {
   "cell_type": "code",
   "execution_count": 9,
   "id": "804db6ac-8759-4d30-b152-504ad6ff7c46",
   "metadata": {},
   "outputs": [
    {
     "data": {
      "text/plain": [
       "<module 'api.invenio' from '/Users/chbrandt/Coisas/repos/GMAP/invenio_tools/scratch/planmap/api/invenio.py'>"
      ]
     },
     "execution_count": 9,
     "metadata": {},
     "output_type": "execute_result"
    }
   ],
   "source": [
    "import api.invenio\n",
    "\n",
    "reload(api.invenio)"
   ]
  },
  {
   "cell_type": "code",
   "execution_count": 10,
   "id": "8650e58a-1d3f-4ef6-bd8b-b83d89628908",
   "metadata": {},
   "outputs": [],
   "source": [
    "# Invenio server\n",
    "#\n",
    "hostname = '10.72.2.28'\n",
    "token = 'I1c9WD9pPW3lHUW2HsBhIHhTvgQse7DZNxmXIrgLs0ijdQTUxWwKR1xGuncN'\n",
    "\n",
    "client = api.invenio.InvenioClient(hostname, token)"
   ]
  },
  {
   "cell_type": "code",
   "execution_count": 11,
   "id": "509134be-6382-4587-bf8e-97e37c285cb5",
   "metadata": {},
   "outputs": [
    {
     "name": "stderr",
     "output_type": "stream",
     "text": [
      "/opt/miniconda3/lib/python3.8/site-packages/urllib3/connectionpool.py:1013: InsecureRequestWarning: Unverified HTTPS request is being made to host '10.72.2.28'. Adding certificate verification is strongly advised. See: https://urllib3.readthedocs.io/en/1.26.x/advanced-usage.html#ssl-warnings\n",
      "  warnings.warn(\n",
      "/opt/miniconda3/lib/python3.8/site-packages/urllib3/connectionpool.py:1013: InsecureRequestWarning: Unverified HTTPS request is being made to host '10.72.2.28'. Adding certificate verification is strongly advised. See: https://urllib3.readthedocs.io/en/1.26.x/advanced-usage.html#ssl-warnings\n",
      "  warnings.warn(\n",
      "/opt/miniconda3/lib/python3.8/site-packages/urllib3/connectionpool.py:1013: InsecureRequestWarning: Unverified HTTPS request is being made to host '10.72.2.28'. Adding certificate verification is strongly advised. See: https://urllib3.readthedocs.io/en/1.26.x/advanced-usage.html#ssl-warnings\n",
      "  warnings.warn(\n",
      "/opt/miniconda3/lib/python3.8/site-packages/urllib3/connectionpool.py:1013: InsecureRequestWarning: Unverified HTTPS request is being made to host '10.72.2.28'. Adding certificate verification is strongly advised. See: https://urllib3.readthedocs.io/en/1.26.x/advanced-usage.html#ssl-warnings\n",
      "  warnings.warn(\n",
      "/opt/miniconda3/lib/python3.8/site-packages/urllib3/connectionpool.py:1013: InsecureRequestWarning: Unverified HTTPS request is being made to host '10.72.2.28'. Adding certificate verification is strongly advised. See: https://urllib3.readthedocs.io/en/1.26.x/advanced-usage.html#ssl-warnings\n",
      "  warnings.warn(\n",
      "/opt/miniconda3/lib/python3.8/site-packages/urllib3/connectionpool.py:1013: InsecureRequestWarning: Unverified HTTPS request is being made to host '10.72.2.28'. Adding certificate verification is strongly advised. See: https://urllib3.readthedocs.io/en/1.26.x/advanced-usage.html#ssl-warnings\n",
      "  warnings.warn(\n",
      "/opt/miniconda3/lib/python3.8/site-packages/urllib3/connectionpool.py:1013: InsecureRequestWarning: Unverified HTTPS request is being made to host '10.72.2.28'. Adding certificate verification is strongly advised. See: https://urllib3.readthedocs.io/en/1.26.x/advanced-usage.html#ssl-warnings\n",
      "  warnings.warn(\n",
      "/opt/miniconda3/lib/python3.8/site-packages/urllib3/connectionpool.py:1013: InsecureRequestWarning: Unverified HTTPS request is being made to host '10.72.2.28'. Adding certificate verification is strongly advised. See: https://urllib3.readthedocs.io/en/1.26.x/advanced-usage.html#ssl-warnings\n",
      "  warnings.warn(\n",
      "/opt/miniconda3/lib/python3.8/site-packages/urllib3/connectionpool.py:1013: InsecureRequestWarning: Unverified HTTPS request is being made to host '10.72.2.28'. Adding certificate verification is strongly advised. See: https://urllib3.readthedocs.io/en/1.26.x/advanced-usage.html#ssl-warnings\n",
      "  warnings.warn(\n"
     ]
    }
   ],
   "source": [
    "# Create a draft\n",
    "#\n",
    "resp = client.create_draft(payload)\n",
    "\n",
    "# print(resp)"
   ]
  },
  {
   "cell_type": "code",
   "execution_count": 12,
   "id": "ed250323-cfc5-4dda-b0d6-4531d7c4e363",
   "metadata": {},
   "outputs": [
    {
     "data": {
      "text/plain": [
       "True"
      ]
     },
     "execution_count": 12,
     "metadata": {},
     "output_type": "execute_result"
    }
   ],
   "source": [
    "# Open record's page\n",
    "#\n",
    "import webbrowser\n",
    "\n",
    "webbrowser.open(resp['links']['self_html'])"
   ]
  },
  {
   "cell_type": "code",
   "execution_count": 13,
   "id": "ccab65a8-f9bd-42f6-bfe6-5598caedcb65",
   "metadata": {},
   "outputs": [
    {
     "name": "stdout",
     "output_type": "stream",
     "text": [
      "<table><tr><td>Map version</td><td>03</td></tr><tr><td>Bounding box - Min Lat</td><td>-12</td></tr><tr><td>Bounding box - Max Lat</td><td>-5.8</td></tr><tr><td>Bounding box - Min Lon (0-360)</td><td>329.7</td></tr><tr><td>Bounding box - Max Lon (0-360)</td><td>334.5</td></tr><tr><td>Type</td><td>Preliminary</td></tr><tr><td>Output scale</td><td>1:3.000.000</td></tr><tr><td>Original Coordinate Reference System</td><td>Projected Coordinate System: Equirectangular Projection: Plate_Carree false_easting: 0.00000000 false_northing: 0.00000000 central_meridian: 0.00000000 Linear Unit: Meter Geographic Coordinate System: GCS_Geographic_Coordinate_System Datum: D_MARS Prime Meridian: Reference Meridian Angular Unit: Degree</td></tr><tr><td>Data used</td><td>MOLA Elevation Model MEGDR (463 m/pixel)CTX mosaic by MurrayLabCTX DTM (18 m)HiRISE RED (0,25 m/pixel)</td></tr><tr><td>Standards adhered to</td><td>Planmap mapping standards document</td></tr><tr><td>Aims (one sentence)</td><td>Morpho-stratigraphic mapping</td></tr><tr><td>Related products (cross link to other Planmap products)</td><td></td></tr><tr><td>Units Definition</td><td>Post-collapse craters, PCC, 51-160-44Cap Unit, CAP, 182-162-255Light-toned Layered deposits units, LLD, 77-205-255High Thermal Inertia Chaotic terrain, ChH, 227-28-28Knobby Terrain, ChK, 255-127-0Fractured Plains, ChF, 255-238-3</td></tr><tr><td>Stratigraphic info (e.g. production function used)</td><td>N/A</td></tr><tr><td>Other comments (reviewer comments, notes on post-processing)</td><td></td></tr><tr><td>Heritage used</td><td>Glotch and Christensen 2005</td></tr><tr><td>Link to other repositories</td><td></td></tr><tr><td>Acknowledgements beyond Planmap</td><td>N/A</td></tr></table>\n"
     ]
    }
   ],
   "source": [
    "kwargs = {'extra': {'Map version': '03', 'Bounding box - Min Lat': '-12', 'Bounding box - Max Lat': '-5.8', 'Bounding box - Min Lon (0-360)': '329.7', 'Bounding box - Max Lon (0-360)': '334.5', 'Type': 'Preliminary', 'Output scale': '1:3.000.000', 'Original Coordinate Reference System': 'Projected Coordinate System: Equirectangular Projection: Plate_Carree false_easting: 0.00000000 false_northing: 0.00000000 central_meridian: 0.00000000 Linear Unit: Meter Geographic Coordinate System: GCS_Geographic_Coordinate_System Datum: D_MARS Prime Meridian: Reference Meridian Angular Unit: Degree', 'Data used': 'MOLA Elevation Model MEGDR (463 m/pixel)CTX mosaic by MurrayLabCTX DTM (18 m)HiRISE RED (0,25 m/pixel)', 'Standards adhered to': 'Planmap mapping standards document', 'Aims (one sentence)': 'Morpho-stratigraphic mapping', 'Related products (cross link to other Planmap products)': '', 'Units Definition': 'Post-collapse craters, PCC, 51-160-44Cap Unit, CAP, 182-162-255Light-toned Layered deposits units, LLD, 77-205-255High Thermal Inertia Chaotic terrain, ChH, 227-28-28Knobby Terrain, ChK, 255-127-0Fractured Plains, ChF, 255-238-3', 'Stratigraphic info (e.g. production function used)': 'N/A', 'Other comments (reviewer comments, notes on post-processing)': '', 'Heritage used': 'Glotch and Christensen 2005', 'Link to other repositories': '', 'Acknowledgements beyond Planmap': 'N/A'}}\n",
    "\n",
    "\n",
    "sup_info = \"\"\n",
    "for k,v in kwargs.items():\n",
    "    _sub = \"<table>\"\n",
    "    # _sub += \"<thead><tr>\"\n",
    "    # _sub += f\"<th colspan=2>{k.title().replace('_',' ')}</th>\"\n",
    "    # _sub += \"</tr></thead><tbody>\"\n",
    "    _sub += (\"<tr>\"\n",
    "             f\"{'</tr><tr>'.join( f'<td>{str(k_)}</td><td>{str(v_)}</td>' for k_,v_ in v.items())}\"\n",
    "             \"</tr>\")\n",
    "    # _sub += \"</tbody>\"\n",
    "    _sub += \"</table>\"\n",
    "    sup_info += _sub\n",
    "\n",
    "print(sup_info)"
   ]
  },
  {
   "cell_type": "code",
   "execution_count": 14,
   "id": "37a3a7c4-de7c-45ed-8035-19507a61e30d",
   "metadata": {},
   "outputs": [
    {
     "data": {
      "text/html": [
       "<table><tr><td>Map version</td><td>03</td></tr><tr><td>Bounding box - Min Lat</td><td>-12</td></tr><tr><td>Bounding box - Max Lat</td><td>-5.8</td></tr><tr><td>Bounding box - Min Lon (0-360)</td><td>329.7</td></tr><tr><td>Bounding box - Max Lon (0-360)</td><td>334.5</td></tr><tr><td>Type</td><td>Preliminary</td></tr><tr><td>Output scale</td><td>1:3.000.000</td></tr><tr><td>Original Coordinate Reference System</td><td>Projected Coordinate System: Equirectangular Projection: Plate_Carree false_easting: 0.00000000 false_northing: 0.00000000 central_meridian: 0.00000000 Linear Unit: Meter Geographic Coordinate System: GCS_Geographic_Coordinate_System Datum: D_MARS Prime Meridian: Reference Meridian Angular Unit: Degree</td></tr><tr><td>Data used</td><td>MOLA Elevation Model MEGDR (463 m/pixel)CTX mosaic by MurrayLabCTX DTM (18 m)HiRISE RED (0,25 m/pixel)</td></tr><tr><td>Standards adhered to</td><td>Planmap mapping standards document</td></tr><tr><td>Aims (one sentence)</td><td>Morpho-stratigraphic mapping</td></tr><tr><td>Related products (cross link to other Planmap products)</td><td></td></tr><tr><td>Units Definition</td><td>Post-collapse craters, PCC, 51-160-44Cap Unit, CAP, 182-162-255Light-toned Layered deposits units, LLD, 77-205-255High Thermal Inertia Chaotic terrain, ChH, 227-28-28Knobby Terrain, ChK, 255-127-0Fractured Plains, ChF, 255-238-3</td></tr><tr><td>Stratigraphic info (e.g. production function used)</td><td>N/A</td></tr><tr><td>Other comments (reviewer comments, notes on post-processing)</td><td></td></tr><tr><td>Heritage used</td><td>Glotch and Christensen 2005</td></tr><tr><td>Link to other repositories</td><td></td></tr><tr><td>Acknowledgements beyond Planmap</td><td>N/A</td></tr></table>"
      ]
     },
     "metadata": {},
     "output_type": "display_data"
    }
   ],
   "source": [
    "from IPython.display import display_html \n",
    "\n",
    "display_html(sup_info, raw=True)"
   ]
  },
  {
   "cell_type": "code",
   "execution_count": null,
   "id": "04d8b117-b9fc-4afa-a253-de9c06eeca6d",
   "metadata": {},
   "outputs": [],
   "source": []
  }
 ],
 "metadata": {
  "kernelspec": {
   "display_name": "Python 3 (ipykernel)",
   "language": "python",
   "name": "python3"
  },
  "language_info": {
   "codemirror_mode": {
    "name": "ipython",
    "version": 3
   },
   "file_extension": ".py",
   "mimetype": "text/x-python",
   "name": "python",
   "nbconvert_exporter": "python",
   "pygments_lexer": "ipython3",
   "version": "3.8.10"
  }
 },
 "nbformat": 4,
 "nbformat_minor": 5
}
