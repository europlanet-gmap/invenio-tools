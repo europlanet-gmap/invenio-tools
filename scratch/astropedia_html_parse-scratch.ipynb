{
 "cells": [
  {
   "cell_type": "markdown",
   "id": "343274ae-d825-430c-9b31-fab09676b448",
   "metadata": {},
   "source": [
    "# Astropedia product page/HTML parse"
   ]
  },
  {
   "cell_type": "code",
   "execution_count": 1,
   "id": "6fbf0106-bdef-4994-938c-f6946f1890be",
   "metadata": {},
   "outputs": [
    {
     "data": {
      "text/plain": [
       "'https://astrogeology.usgs.gov/search/map/Moon/Geology/Unified_Geologic_Map_of_the_Moon_GIS_v2'"
      ]
     },
     "execution_count": 1,
     "metadata": {},
     "output_type": "execute_result"
    }
   ],
   "source": [
    "# url = 'https://astrogeology.usgs.gov/search/map/Ganymede/Geology/Ganymede_SIM3237_Database'\n",
    "url = 'https://astrogeology.usgs.gov/search/map/Moon/Geology/Unified_Geologic_Map_of_the_Moon_GIS_v2'\n",
    "\n",
    "url"
   ]
  },
  {
   "cell_type": "code",
   "execution_count": 2,
   "id": "64ad8e9a-2550-4034-9899-4c6f4beb4092",
   "metadata": {},
   "outputs": [
    {
     "data": {
      "text/plain": [
       "'Unified_Geologic_Map_of_the_Moon_GIS_v2'"
      ]
     },
     "execution_count": 2,
     "metadata": {},
     "output_type": "execute_result"
    }
   ],
   "source": [
    "rootname = url.split('/')[-1]\n",
    "rootname"
   ]
  },
  {
   "cell_type": "code",
   "execution_count": 3,
   "id": "7873f917-4a6f-4039-b135-2d29c81cbb8c",
   "metadata": {},
   "outputs": [],
   "source": [
    "# Get the HTML from 'url'\n",
    "#\n",
    "import requests\n",
    "import lxml.html\n",
    "\n",
    "res = requests.get(url)\n",
    "res.raise_for_status()\n",
    "\n",
    "tree = lxml.html.fromstring(res.content, parser=lxml.html.HTMLParser(remove_comments=True))\n",
    "\n",
    "tmeta = tree.xpath('//div[@class=\"content\"]/section[@class=\"block metadata\"]')[0]\n",
    "theader = tree.xpath('//div[@class=\"downloads\"]//a[.=\"Sample\"]')"
   ]
  },
  {
   "cell_type": "code",
   "execution_count": 4,
   "id": "1cccb00b-c3e2-4a99-ad38-b2ed98a5f586",
   "metadata": {},
   "outputs": [
    {
     "data": {
      "text/plain": [
       "'https://astropedia.astrogeology.usgs.gov/download/Moon/Geology/thumbs/merc_Unified_Geologic_Map_of_The_Moon_1024.jpg'"
      ]
     },
     "execution_count": 4,
     "metadata": {},
     "output_type": "execute_result"
    }
   ],
   "source": [
    "theader[0].attrib['href']"
   ]
  },
  {
   "cell_type": "code",
   "execution_count": 5,
   "id": "4bcfe772-fc20-4f3c-8d65-f3629268ddcc",
   "metadata": {},
   "outputs": [],
   "source": [
    "data = {}"
   ]
  },
  {
   "cell_type": "code",
   "execution_count": 6,
   "id": "49a730a0-6091-4a7d-89dc-92a7cf9bfa09",
   "metadata": {},
   "outputs": [
    {
     "name": "stdout",
     "output_type": "stream",
     "text": [
      "Unified Geologic Map of the Moon, 1:5M, 2020\n",
      "General\n",
      "Keywords\n",
      "Contact and Distribution\n",
      "Data Status and Quality\n",
      "Lineage\n",
      "Geospatial Information\n"
     ]
    }
   ],
   "source": [
    "for node in tmeta.xpath('h2'):\n",
    "    print(node.text)"
   ]
  },
  {
   "cell_type": "code",
   "execution_count": 15,
   "id": "3bb1e270-f8e7-4b5a-808c-abc4129cf5bf",
   "metadata": {},
   "outputs": [
    {
     "data": {
      "text/plain": [
       "['This new work represents a seamless, globally consistent, 1:5,000,000-scale geologic map derived from \\n the six digitally renovated geologic maps (see Source Online Linkage below). The goal of this project was to \\ncreate a digital resource for science research and analysis, future geologic mapping efforts, be it local-, regional-, \\nor global-scale products, and as a resource\\n for the educators and the public interested in lunar geology. Here we present the completed mapping \\n project as unit contacts, geologic unit polygons, linear features, and unit and feature nomenclature \\n annotation. The product overlies shaded-relief products derived from SELENE Kaguya terrain camera stereo \\n (equatorial, ~60 m/pix) and LOLA altimetry (north and south polar, 100 m/pix). These data are not \\n included with this download due to size considerations, but a readme in the \"Lunar_Raster\" folder \\n provides the download links. This download page includes a PDF of the geologic map (right-side) with a brief Description \\n of Map Units and Explanation of Map Symbols, as well as a JPG of the map for quick access viewing.  This release is subject to update based on community feedback and peer-review.',\n",
       " 'Version 2 updates',\n",
       " ': \\nTwo errors were addressed in this update:\\n(1) Large area polygons were offset from their contacts, likely due to user error. Polygons were rebuilt \\nto fix the issue and post processing (dissolving, reattributing, etc.) to rectify the aesthetic of the map. \\n(2) Contacts were not visible but should have been due to incorrect labeling as DND (do not draw). Those that \\nneeded to be drawn have been reattributed as \"certain\" those that are not drawn are labeled as \"internal\".   \\nAdditionally, in version 1 of this data, crater polygons with similar attributes had been dissolved and lumped \\ninto contiguous units. This has been changed so that all craters are now discrete units. This adds ~1000 units \\nto the GeoUnits featureclass and the related contacts are now visible and labeled as \"certain\".  ',\n",
       " '\\n',\n",
       " 'References:',\n",
       " 'Fortezzo, C.M., Spudis, P. D. and Harrel, S. L. (2020). ',\n",
       " 'Release of the Digital Unified Global Geologic Map of the Moon At 1:5,000,000- Scale.',\n",
       " ' Paper presented at the 51st Lunar and Planetary Science Conference, Lunar and Planetary Institute, Houston, TX. ',\n",
       " 'https://www.hou.usra.edu/meetings/lpsc2020/pdf/2760.pdf']"
      ]
     },
     "execution_count": 15,
     "metadata": {},
     "output_type": "execute_result"
    }
   ],
   "source": [
    "tmeta.xpath('p//text()')"
   ]
  },
  {
   "cell_type": "code",
   "execution_count": 16,
   "id": "34edb500-3580-43a3-b964-d62c8eeeb269",
   "metadata": {},
   "outputs": [
    {
     "name": "stdout",
     "output_type": "stream",
     "text": [
      "This new work represents a seamless, globally consistent, 1:5,000,000-scale geologic map derived from \n",
      " the six digitally renovated geologic maps (see Source Online Linkage below). The goal of this project was to \n",
      "create a digital resource for science research and analysis, future geologic mapping efforts, be it local-, regional-, \n",
      "or global-scale products, and as a resource\n",
      " for the educators and the public interested in lunar geology. Here we present the completed mapping \n",
      " project as unit contacts, geologic unit polygons, linear features, and unit and feature nomenclature \n",
      " annotation. The product overlies shaded-relief products derived from SELENE Kaguya terrain camera stereo \n",
      " (equatorial, ~60 m/pix) and LOLA altimetry (north and south polar, 100 m/pix). These data are not \n",
      " included with this download due to size considerations, but a readme in the \"Lunar_Raster\" folder \n",
      " provides the download links. This download page includes a PDF of the geologic map (right-side) with a brief Description \n",
      " of Map Units and Explanation of Map Symbols, as well as a JPG of the map for quick access viewing.  This release is subject to update based on community feedback and peer-review.\n",
      "None\n",
      "\n",
      "\n",
      "Fortezzo, C.M., Spudis, P. D. and Harrel, S. L. (2020). \n"
     ]
    }
   ],
   "source": [
    "for node in tmeta.xpath('p'):\n",
    "    print(node.text)"
   ]
  },
  {
   "cell_type": "code",
   "execution_count": 21,
   "id": "fd07d539-7cbb-408d-94ca-192a37815f17",
   "metadata": {},
   "outputs": [
    {
     "data": {
      "text/plain": [
       "[<Element p at 0x7fa9c028ba90>,\n",
       " <Element p at 0x7fa9c028bae0>,\n",
       " <Element p at 0x7fa9c028bb30>,\n",
       " <Element p at 0x7fa9c028bc70>]"
      ]
     },
     "execution_count": 21,
     "metadata": {},
     "output_type": "execute_result"
    }
   ],
   "source": [
    "pars = tmeta.xpath('p')\n",
    "pars"
   ]
  },
  {
   "cell_type": "code",
   "execution_count": 34,
   "id": "2890082a-c81b-4382-b988-feeab4744c8d",
   "metadata": {},
   "outputs": [
    {
     "data": {
      "text/plain": [
       "'Fortezzo, C.M., Spudis, P. D. and Harrel, S. L. (2020). Release of the Digital Unified Global Geologic Map of the Moon At 1:5,000,000- Scale. Paper presented at the 51st Lunar and Planetary Science Conference, Lunar and Planetary Institute, Houston, TX. https://www.hou.usra.edu/meetings/lpsc2020/pdf/2760.pdf'"
      ]
     },
     "execution_count": 34,
     "metadata": {},
     "output_type": "execute_result"
    }
   ],
   "source": [
    "pars[3].text_content()"
   ]
  },
  {
   "cell_type": "code",
   "execution_count": 17,
   "id": "1440996f-0990-453d-8a46-e0a8260b3f69",
   "metadata": {},
   "outputs": [
    {
     "data": {
      "text/plain": [
       "<Element h2 at 0x7fbcd8dfc4a0>"
      ]
     },
     "execution_count": 17,
     "metadata": {},
     "output_type": "execute_result"
    }
   ],
   "source": [
    "title = tmeta.find('h2')\n",
    "title"
   ]
  },
  {
   "cell_type": "code",
   "execution_count": 18,
   "id": "bc1b92a1-2fc0-4661-a33e-57f5a6e2b278",
   "metadata": {},
   "outputs": [
    {
     "data": {
      "text/plain": [
       "'h2'"
      ]
     },
     "execution_count": 18,
     "metadata": {},
     "output_type": "execute_result"
    }
   ],
   "source": [
    "title.tag"
   ]
  },
  {
   "cell_type": "code",
   "execution_count": 19,
   "id": "1909c41e-e708-4d52-b08a-43edfbc6b395",
   "metadata": {},
   "outputs": [
    {
     "data": {
      "text/plain": [
       "{'class': 'title'}"
      ]
     },
     "execution_count": 19,
     "metadata": {},
     "output_type": "execute_result"
    }
   ],
   "source": [
    "title.attrib"
   ]
  },
  {
   "cell_type": "code",
   "execution_count": 20,
   "id": "7c92cdb2-4ef9-4455-b260-c610cd3533f8",
   "metadata": {},
   "outputs": [
    {
     "data": {
      "text/plain": [
       "'Global Geologic Map of Ganymede, SIM3237'"
      ]
     },
     "execution_count": 20,
     "metadata": {},
     "output_type": "execute_result"
    }
   ],
   "source": [
    "title.text"
   ]
  },
  {
   "cell_type": "code",
   "execution_count": 21,
   "id": "c37a4c86-269b-4f3a-adfa-b82c17b290a2",
   "metadata": {},
   "outputs": [],
   "source": [
    "data.update({'title': title.text})"
   ]
  },
  {
   "cell_type": "code",
   "execution_count": 67,
   "id": "4017a3af-bc17-43ba-a555-27f907d97c78",
   "metadata": {},
   "outputs": [
    {
     "data": {
      "text/plain": [
       "['      Ganymede is the largest satellite of Jupiter, and its icy surface has been formed through a variety of of impact cratering, tectonic, and possibly cryovolcanic processes.  The history of Ganymede can be divided into three distinct phases: an early phase dominated by impact cratering and mixing of non-ice materials in the icy crust, a phase in the middle of its history marked by great tectonic upheaval, and a late quiescent phase characterized by a gradual drop in heat flow and further impact cratering.  Images of Ganymede suitable for geologic mapping were collected during the flybys of Voyager 1 and Voyager 2 (1979), as well as during the Galileo mission in orbit around Jupiter (1995-2003).  This map represents a synthesis of our understanding of Ganymede geology after the conclusion of the Galileo mission.',\n",
       " \"      The two fundamental classes of material units on Ganymede are dark materials and light materials.  The dark/light distinction is based on sharp relative albedo contrasts at terrain boundaries, rather than on absolute albedo, as several other types of surface modification (e.g., crater rays, polar caps) change the absolute albedo within these terrain classes.  Dark materials cover 35% of Ganymede's surface, with almost the entire remainder of the surface covered by light materials.\",\n",
       " '      Dark materials are heavily cratered, though not as heavily cratered as the surface of the neighboring satellite Callisto, suggesting that dark materials cannot be a primordial surface.  At high resolution, dark materials are dominated by the downslope movement of loose dark regolith within impact craters and on the sides of bright ridges and hummocks.  These observations suggest that dark materials are covered by a thin lag deposit of dark regolith derived by sublimation of a more ice-rich crust below.  Dark materials commonly exhibit sets of concentric arcuate structures known as furrows.  Furrows may be the remnants of ancient multi-ring impact basins, similar to intact impact basins on Callisto such as Valhalla and Asgard.',\n",
       " '      Light materials crosscut dark materials and exhibit a lower impact crater density, demonstrating that they were formed later.  Light materials are subdivided into an intricate patchwork of crosscutting lineaments called grooves, mixed with areas of relatively smooth terrain.  At high resolution, most light materials are dominated by extensional faulting.  Even light materials that appear to be smooth at low resolution are marked at high resolution by sets of parallel lineaments of apparent tectonic origin.  There is an open question on the extent to which light terrain is formed by cryovolcanic flooding of dark material with brighter ice, versus tectonic destruction of preexisting surface features and exposure of brighter subsurface ice in fault scarps; it is certainly possible that both of these processes play important roles in the formation of light materials.  Not all tectonic activity on Ganymede has led to the formation of light material and some dark material is cut by extensional faults without exhibiting a major change in albedo, while reticulate material is cut by two sets of tectonic lineaments and is transitional in albedo between adjacent light and dark materials.',\n",
       " '      The other material units found on Ganymede were created by several types of impact features, ranging from impact craters, to viscously relaxed impact features called palimpsests, to the large impact basin Gilgamesh in the southern hemisphere. Additional details on these topics, along with detailed descriptions of the type localities for the material units, may be found in the companion paper to this map (Patterson and others, 2010).',\n",
       " 'Suggested Citation:\\nCollins, G.C., Patterson, G.W., Head, J.W., Pappalardo, R.T., Prockter, L.M., Lucchitta, B.K., and Kay, J.P., 2013, Global geologic map of Ganymede: U.S. Geological Survey Scientific Investigations Map 3237, pamphlet 4 p., 1 sheet, scale 1:15,000,000, http://dx.doi.org/10.3133/sim3237',\n",
       " 'References:\\n Patterson, G.W., Collins, G.C., Head, J.W., and 4 others, 2010, Global geological mapping of Ganymede: Icarus, v. 207, p. 845-867.',\n",
       " ' Shoemaker, E.M., Lucchitta, B.K., Wilhelms, D.E., and 2 others, 1982, The geology of Ganymede, in: Satellites of Jupiter (Morrison, D., ed.), Univ. of Arizona Press, p. 435-520.',\n",
       " ' Pappalardo, R.T., Collins, G.C., Head, J.W., and 6 others, 2004, Geology of Ganymede, in: Jupiter (Bagenal, F., Dowling, T., McKinnon, W., eds.), Cambridge Univ. Press, p. 363-396.']"
      ]
     },
     "execution_count": 67,
     "metadata": {},
     "output_type": "execute_result"
    }
   ],
   "source": [
    "# description = tree.xpath('h2/following-sibling::p')\n",
    "description = tmeta.xpath('p/text()')\n",
    "description"
   ]
  },
  {
   "cell_type": "code",
   "execution_count": 23,
   "id": "bf966bbe-d1dd-43e5-b3b2-6d9bccdd093a",
   "metadata": {},
   "outputs": [
    {
     "data": {
      "text/plain": [
       "['Ganymede is the largest satellite of Jupiter, and its icy surface has been formed through a variety of of impact cratering, tectonic, and possibly cryovolcanic processes.  The history of Ganymede can be divided into three distinct phases: an early phase dominated by impact cratering and mixing of non-ice materials in the icy crust, a phase in the middle of its history marked by great tectonic upheaval, and a late quiescent phase characterized by a gradual drop in heat flow and further impact cratering.  Images of Ganymede suitable for geologic mapping were collected during the flybys of Voyager 1 and Voyager 2 (1979), as well as during the Galileo mission in orbit around Jupiter (1995-2003).  This map represents a synthesis of our understanding of Ganymede geology after the conclusion of the Galileo mission.',\n",
       " \"The two fundamental classes of material units on Ganymede are dark materials and light materials.  The dark/light distinction is based on sharp relative albedo contrasts at terrain boundaries, rather than on absolute albedo, as several other types of surface modification (e.g., crater rays, polar caps) change the absolute albedo within these terrain classes.  Dark materials cover 35% of Ganymede's surface, with almost the entire remainder of the surface covered by light materials.\",\n",
       " 'Dark materials are heavily cratered, though not as heavily cratered as the surface of the neighboring satellite Callisto, suggesting that dark materials cannot be a primordial surface.  At high resolution, dark materials are dominated by the downslope movement of loose dark regolith within impact craters and on the sides of bright ridges and hummocks.  These observations suggest that dark materials are covered by a thin lag deposit of dark regolith derived by sublimation of a more ice-rich crust below.  Dark materials commonly exhibit sets of concentric arcuate structures known as furrows.  Furrows may be the remnants of ancient multi-ring impact basins, similar to intact impact basins on Callisto such as Valhalla and Asgard.',\n",
       " 'Light materials crosscut dark materials and exhibit a lower impact crater density, demonstrating that they were formed later.  Light materials are subdivided into an intricate patchwork of crosscutting lineaments called grooves, mixed with areas of relatively smooth terrain.  At high resolution, most light materials are dominated by extensional faulting.  Even light materials that appear to be smooth at low resolution are marked at high resolution by sets of parallel lineaments of apparent tectonic origin.  There is an open question on the extent to which light terrain is formed by cryovolcanic flooding of dark material with brighter ice, versus tectonic destruction of preexisting surface features and exposure of brighter subsurface ice in fault scarps; it is certainly possible that both of these processes play important roles in the formation of light materials.  Not all tectonic activity on Ganymede has led to the formation of light material and some dark material is cut by extensional faults without exhibiting a major change in albedo, while reticulate material is cut by two sets of tectonic lineaments and is transitional in albedo between adjacent light and dark materials.',\n",
       " 'The other material units found on Ganymede were created by several types of impact features, ranging from impact craters, to viscously relaxed impact features called palimpsests, to the large impact basin Gilgamesh in the southern hemisphere. Additional details on these topics, along with detailed descriptions of the type localities for the material units, may be found in the companion paper to this map (Patterson and others, 2010).',\n",
       " 'Suggested Citation:\\nCollins, G.C., Patterson, G.W., Head, J.W., Pappalardo, R.T., Prockter, L.M., Lucchitta, B.K., and Kay, J.P., 2013, Global geologic map of Ganymede: U.S. Geological Survey Scientific Investigations Map 3237, pamphlet 4 p., 1 sheet, scale 1:15,000,000, http://dx.doi.org/10.3133/sim3237',\n",
       " 'References:\\n Patterson, G.W., Collins, G.C., Head, J.W., and 4 others, 2010, Global geological mapping of Ganymede: Icarus, v. 207, p. 845-867.',\n",
       " 'Shoemaker, E.M., Lucchitta, B.K., Wilhelms, D.E., and 2 others, 1982, The geology of Ganymede, in: Satellites of Jupiter (Morrison, D., ed.), Univ. of Arizona Press, p. 435-520.',\n",
       " 'Pappalardo, R.T., Collins, G.C., Head, J.W., and 6 others, 2004, Geology of Ganymede, in: Jupiter (Bagenal, F., Dowling, T., McKinnon, W., eds.), Cambridge Univ. Press, p. 363-396.']"
      ]
     },
     "execution_count": 23,
     "metadata": {},
     "output_type": "execute_result"
    }
   ],
   "source": [
    "abstract = []\n",
    "for desc in description:\n",
    "    abstract.append(desc.text.strip())\n",
    "    \n",
    "abstract"
   ]
  },
  {
   "cell_type": "code",
   "execution_count": 24,
   "id": "ab26235f-56b5-4164-ba13-f91dce36dbe1",
   "metadata": {},
   "outputs": [],
   "source": [
    "# _cur = title.getnext()\n",
    "\n",
    "# abstract = []\n",
    "# while _cur.tag == 'p':\n",
    "#     abstract.append(_cur.text.strip())\n",
    "#     _cur = _cur.getnext()\n",
    "\n",
    "# abstract"
   ]
  },
  {
   "cell_type": "code",
   "execution_count": 25,
   "id": "c4f7e329-d11b-482c-866e-8160395d9537",
   "metadata": {},
   "outputs": [],
   "source": [
    "data.update({'abstract':abstract})"
   ]
  },
  {
   "cell_type": "code",
   "execution_count": 36,
   "id": "1f944a7f-ec71-46aa-927c-bdf874a54994",
   "metadata": {},
   "outputs": [],
   "source": [
    "def _parse_authors(nodes):\n",
    "        \"\"\"\n",
    "        Clean/Split the authors from 'text'.\n",
    "\n",
    "        The text/names are in a linear comma-separated list (\"and\" possibly):\n",
    "        \"Fulano de Tal, Maria Brasil (, and) Carlos H. Brandt\".\n",
    "        The output is a list of \"lastname, firstname\" strings\n",
    "        \"\"\"\n",
    "        line = nodes[0].text.strip()\n",
    "\n",
    "        authors = [ author.strip()\n",
    "                    for author in line.replace(' and ',',').split(',') ]\n",
    "        authors = [ author.split()[-1] + ', ' + ' '.join(author.split()[:-1])\n",
    "                    for author in authors\n",
    "                    if author ]\n",
    "\n",
    "        return authors\n",
    "\n",
    "authors = tmeta.xpath('dl[1]/dt[.=\"Author\"]/following-sibling::dd[1]')\n",
    "authors = _parse_authors(authors)"
   ]
  },
  {
   "cell_type": "code",
   "execution_count": 35,
   "id": "62b89e8f-6121-4679-a7b3-8daf17702ef9",
   "metadata": {},
   "outputs": [],
   "source": [
    "# publication = {\n",
    "#     'Author' : None,\n",
    "#     'Publisher' : None,\n",
    "#     'Publication Date' : None,\n",
    "# }\n",
    "\n",
    "# for _dt in _cur.xpath('.//dt'):\n",
    "#     if _dt.text not in publication.keys():\n",
    "#         continue\n",
    "#     _key = _dt.text\n",
    "#     _val = _dt.getnext().text\n",
    "#     publication[_key] = _val\n",
    "    \n",
    "# publication"
   ]
  },
  {
   "cell_type": "code",
   "execution_count": 37,
   "id": "8346c898-094b-4009-93ca-d1b91dbbc5d9",
   "metadata": {},
   "outputs": [],
   "source": [
    "data.update({'authors':authors})"
   ]
  },
  {
   "cell_type": "code",
   "execution_count": 40,
   "id": "05318ba0-d44a-43b2-8f6f-430c17f59629",
   "metadata": {},
   "outputs": [
    {
     "data": {
      "text/plain": [
       "'11 February 2014'"
      ]
     },
     "execution_count": 40,
     "metadata": {},
     "output_type": "execute_result"
    }
   ],
   "source": [
    "pub_date = tmeta.xpath('dl[1]/dt[.=\"Publication Date\"]/following-sibling::dd[1]')[0].text\n",
    "pub_date"
   ]
  },
  {
   "cell_type": "code",
   "execution_count": 41,
   "id": "464e9022-48b4-4a0b-8a71-2d79e9459b7c",
   "metadata": {},
   "outputs": [],
   "source": [
    "data.update({'publication_date': pub_date})"
   ]
  },
  {
   "cell_type": "code",
   "execution_count": 43,
   "id": "8e3bdd3d-90ac-4d3a-9bc5-f8670e8f5f45",
   "metadata": {},
   "outputs": [
    {
     "data": {
      "text/plain": [
       "'USGS Astrogeology Science Center'"
      ]
     },
     "execution_count": 43,
     "metadata": {},
     "output_type": "execute_result"
    }
   ],
   "source": [
    "publisher = tmeta.xpath('dl[1]/dt[.=\"Publisher\"]/following-sibling::dd[1]')\n",
    "publisher[0].text"
   ]
  },
  {
   "cell_type": "code",
   "execution_count": 44,
   "id": "1494e5de-46d8-40ca-a865-2a6fc91d0891",
   "metadata": {},
   "outputs": [],
   "source": [
    "data.update({'publisher': publisher[0].text})"
   ]
  },
  {
   "cell_type": "code",
   "execution_count": 59,
   "id": "a4335161-8b7c-4302-ab8c-06fe7f036c18",
   "metadata": {},
   "outputs": [
    {
     "data": {
      "text/plain": [
       "'http://pubs.usgs.gov/sim/3237/'"
      ]
     },
     "execution_count": 59,
     "metadata": {},
     "output_type": "execute_result"
    }
   ],
   "source": [
    "document_url = tmeta.xpath('//dt[.=\"Supplemental Information\"]/following-sibling::dd[1]/a')\n",
    "document_url[0].text"
   ]
  },
  {
   "cell_type": "code",
   "execution_count": 60,
   "id": "22f05c10-259c-4dd9-a915-579326a74671",
   "metadata": {},
   "outputs": [],
   "source": [
    "data.update({'document_url':document_url[0].text})"
   ]
  },
  {
   "cell_type": "code",
   "execution_count": 82,
   "id": "30e66730-6711-4fde-8d74-94db9d5295e1",
   "metadata": {},
   "outputs": [
    {
     "data": {
      "text/plain": [
       "{'minlat': -90.0, 'maxlat': 90.0, 'westlon': 0.0, 'eastlon': 360.0}"
      ]
     },
     "execution_count": 82,
     "metadata": {},
     "output_type": "execute_result"
    }
   ],
   "source": [
    "def _parse_bbox(nodes):\n",
    "    \"\"\"Map astropedia's bounding-box fields to ours\"\"\"\n",
    "    _bbox = {\n",
    "        'Minimum Longitude': 'westlon',\n",
    "        'Maximum Longitude': 'eastlon',\n",
    "        'Minimum Latitude': 'minlat',\n",
    "        'Maximum Latitude': 'maxlat'\n",
    "    }\n",
    "    out = {}\n",
    "    for node in nodes:\n",
    "        if node.text in _bbox:\n",
    "            out.update({ _bbox[node.text]: float(node.getnext().text) })\n",
    "    return out\n",
    "\n",
    "bounding_box = tmeta.xpath('h2[text()=\"Geospatial Information\"]//following-sibling::dl[1]/dt')\n",
    "_parse_bbox(bounding_box)"
   ]
  },
  {
   "cell_type": "code",
   "execution_count": 21,
   "id": "31065711-7d99-4b39-b574-581f1ba0cc20",
   "metadata": {},
   "outputs": [
    {
     "data": {
      "text/plain": [
       "<Element dl at 0x7fb1305ebd10>"
      ]
     },
     "execution_count": 21,
     "metadata": {},
     "output_type": "execute_result"
    }
   ],
   "source": [
    "_cur"
   ]
  },
  {
   "cell_type": "code",
   "execution_count": 66,
   "id": "cc39757f-d1d5-4141-8395-e1675df81b66",
   "metadata": {},
   "outputs": [
    {
     "data": {
      "text/plain": [
       "\"Much has been learned about Ganymede's impact cratering,  tectonic,  and possibly cryovolcanic processes since the Voyager flybys,  primarily during and following the Galileo Mission at Jupiter (December 1995-September 2003). Our mapping incorporates this new understanding to assist in map unit definition and provide a global synthesis of Ganymede's geology.\""
      ]
     },
     "execution_count": 66,
     "metadata": {},
     "output_type": "execute_result"
    }
   ],
   "source": [
    "purpose = tmeta.xpath('//dt[text()=\"Purpose\"]/following-sibling::dd[1]/p/text()')\n",
    "purpose[0]"
   ]
  },
  {
   "cell_type": "code",
   "execution_count": 23,
   "id": "e2ab1dd1-1998-4d24-9ca3-312958118d2c",
   "metadata": {},
   "outputs": [],
   "source": [
    "data.update({'purpose': purpose})"
   ]
  },
  {
   "cell_type": "code",
   "execution_count": 24,
   "id": "442e02ae-0b21-45ab-bf86-fd52f55aa479",
   "metadata": {},
   "outputs": [],
   "source": [
    "latitudes = tree.xpath('h2[.=\"Geospatial Information\"]/following-sibling::dl/dt[text()=\"Minimum Latitude\" or text()=\"Maximum Latitude\"]')\n",
    "longitudes = tree.xpath('h2[.=\"Geospatial Information\"]/following-sibling::dl/dt[text()=\"Minimum Longitude\" or text()=\"Maximum Longitude\"]')"
   ]
  },
  {
   "cell_type": "code",
   "execution_count": 25,
   "id": "3defed8c-75c7-4770-97e4-98b0617b1aa9",
   "metadata": {},
   "outputs": [
    {
     "name": "stdout",
     "output_type": "stream",
     "text": [
      "Minimum Latitude: -90\n",
      "Maximum Latitude: 90\n",
      "Minimum Longitude: 0\n",
      "Maximum Longitude: 360\n"
     ]
    }
   ],
   "source": [
    "for l in latitudes+longitudes:\n",
    "    print(f\"{l.text}: {l.getnext().text}\")"
   ]
  },
  {
   "cell_type": "code",
   "execution_count": 26,
   "id": "350a8b48-ca81-4a9e-835b-1ea208d6e8bc",
   "metadata": {},
   "outputs": [
    {
     "data": {
      "text/plain": [
       "{'Minimum Latitude': '-90',\n",
       " 'Maximum Latitude': '90',\n",
       " 'Minimum Longitude': '0',\n",
       " 'Maximum Longitude': '360'}"
      ]
     },
     "execution_count": 26,
     "metadata": {},
     "output_type": "execute_result"
    }
   ],
   "source": [
    "bbox = {}\n",
    "for l in latitudes+longitudes:\n",
    "    bbox.update({l.text: l.getnext().text})\n",
    "\n",
    "bbox"
   ]
  },
  {
   "cell_type": "code",
   "execution_count": 27,
   "id": "65410918-5a20-4d7f-9125-5bedaec1b917",
   "metadata": {},
   "outputs": [],
   "source": [
    "data.update({'bbox': bbox})"
   ]
  },
  {
   "cell_type": "code",
   "execution_count": 28,
   "id": "da1e53b3-2577-4964-a99e-5fc7c9d51919",
   "metadata": {},
   "outputs": [
    {
     "name": "stdout",
     "output_type": "stream",
     "text": [
      "Jupiter Ganymede\n"
     ]
    }
   ],
   "source": [
    "system = tree.xpath('h2[.=\"Keywords\"]/following-sibling::dl/dt[text()=\"System\"]/following-sibling::dd//text()')[0]\n",
    "target = tree.xpath('h2[.=\"Keywords\"]/following-sibling::dl/dt[text()=\"Target\"]/following-sibling::dd//text()')[0]\n",
    "print(system,target)"
   ]
  },
  {
   "cell_type": "code",
   "execution_count": 29,
   "id": "1275c1e2-8985-40da-8b38-a3cbc43e336a",
   "metadata": {},
   "outputs": [],
   "source": [
    "data.update({'system': system, 'target':target})"
   ]
  },
  {
   "cell_type": "code",
   "execution_count": 30,
   "id": "0fcbb387-030e-4ef0-aefc-3e3b1f8bca41",
   "metadata": {},
   "outputs": [
    {
     "data": {
      "text/plain": [
       "{'title': 'Global Geologic Map of Ganymede, SIM3237',\n",
       " 'abstract': ['Ganymede is the largest satellite of Jupiter, and its icy surface has been formed through a variety of of impact cratering, tectonic, and possibly cryovolcanic processes.  The history of Ganymede can be divided into three distinct phases: an early phase dominated by impact cratering and mixing of non-ice materials in the icy crust, a phase in the middle of its history marked by great tectonic upheaval, and a late quiescent phase characterized by a gradual drop in heat flow and further impact cratering.  Images of Ganymede suitable for geologic mapping were collected during the flybys of Voyager 1 and Voyager 2 (1979), as well as during the Galileo mission in orbit around Jupiter (1995-2003).  This map represents a synthesis of our understanding of Ganymede geology after the conclusion of the Galileo mission.',\n",
       "  \"The two fundamental classes of material units on Ganymede are dark materials and light materials.  The dark/light distinction is based on sharp relative albedo contrasts at terrain boundaries, rather than on absolute albedo, as several other types of surface modification (e.g., crater rays, polar caps) change the absolute albedo within these terrain classes.  Dark materials cover 35% of Ganymede's surface, with almost the entire remainder of the surface covered by light materials.\",\n",
       "  'Dark materials are heavily cratered, though not as heavily cratered as the surface of the neighboring satellite Callisto, suggesting that dark materials cannot be a primordial surface.  At high resolution, dark materials are dominated by the downslope movement of loose dark regolith within impact craters and on the sides of bright ridges and hummocks.  These observations suggest that dark materials are covered by a thin lag deposit of dark regolith derived by sublimation of a more ice-rich crust below.  Dark materials commonly exhibit sets of concentric arcuate structures known as furrows.  Furrows may be the remnants of ancient multi-ring impact basins, similar to intact impact basins on Callisto such as Valhalla and Asgard.',\n",
       "  'Light materials crosscut dark materials and exhibit a lower impact crater density, demonstrating that they were formed later.  Light materials are subdivided into an intricate patchwork of crosscutting lineaments called grooves, mixed with areas of relatively smooth terrain.  At high resolution, most light materials are dominated by extensional faulting.  Even light materials that appear to be smooth at low resolution are marked at high resolution by sets of parallel lineaments of apparent tectonic origin.  There is an open question on the extent to which light terrain is formed by cryovolcanic flooding of dark material with brighter ice, versus tectonic destruction of preexisting surface features and exposure of brighter subsurface ice in fault scarps; it is certainly possible that both of these processes play important roles in the formation of light materials.  Not all tectonic activity on Ganymede has led to the formation of light material and some dark material is cut by extensional faults without exhibiting a major change in albedo, while reticulate material is cut by two sets of tectonic lineaments and is transitional in albedo between adjacent light and dark materials.',\n",
       "  'The other material units found on Ganymede were created by several types of impact features, ranging from impact craters, to viscously relaxed impact features called palimpsests, to the large impact basin Gilgamesh in the southern hemisphere. Additional details on these topics, along with detailed descriptions of the type localities for the material units, may be found in the companion paper to this map (Patterson and others, 2010).',\n",
       "  'Suggested Citation:\\nCollins, G.C., Patterson, G.W., Head, J.W., Pappalardo, R.T., Prockter, L.M., Lucchitta, B.K., and Kay, J.P., 2013, Global geologic map of Ganymede: U.S. Geological Survey Scientific Investigations Map 3237, pamphlet 4 p., 1 sheet, scale 1:15,000,000, http://dx.doi.org/10.3133/sim3237',\n",
       "  'References:\\n Patterson, G.W., Collins, G.C., Head, J.W., and 4 others, 2010, Global geological mapping of Ganymede: Icarus, v. 207, p. 845-867.',\n",
       "  'Shoemaker, E.M., Lucchitta, B.K., Wilhelms, D.E., and 2 others, 1982, The geology of Ganymede, in: Satellites of Jupiter (Morrison, D., ed.), Univ. of Arizona Press, p. 435-520.',\n",
       "  'Pappalardo, R.T., Collins, G.C., Head, J.W., and 6 others, 2004, Geology of Ganymede, in: Jupiter (Bagenal, F., Dowling, T., McKinnon, W., eds.), Cambridge Univ. Press, p. 363-396.'],\n",
       " 'publication': {'Author': 'Geoffrey C. Collins,  G. Wesley Patterson,  James W. Head,  Robert T. Pappalardo,  Louise M. Prockter,  Baerbel K. Lucchitta,  Jonathan P. Kay',\n",
       "  'Publisher': 'USGS Astrogeology Science Center',\n",
       "  'Publication Date': '11 February 2014'},\n",
       " 'purpose': [\"Much has been learned about Ganymede's impact cratering,  tectonic,  and possibly cryovolcanic processes since the Voyager flybys,  primarily during and following the Galileo Mission at Jupiter (December 1995-September 2003). Our mapping incorporates this new understanding to assist in map unit definition and provide a global synthesis of Ganymede's geology.\"],\n",
       " 'bbox': {'Minimum Latitude': '-90',\n",
       "  'Maximum Latitude': '90',\n",
       "  'Minimum Longitude': '0',\n",
       "  'Maximum Longitude': '360'},\n",
       " 'system': 'Jupiter',\n",
       " 'target': 'Ganymede'}"
      ]
     },
     "execution_count": 30,
     "metadata": {},
     "output_type": "execute_result"
    }
   ],
   "source": [
    "data"
   ]
  },
  {
   "cell_type": "code",
   "execution_count": null,
   "id": "5abd9dbb-5495-4273-8b31-769a6e23bb98",
   "metadata": {},
   "outputs": [],
   "source": []
  },
  {
   "cell_type": "code",
   "execution_count": null,
   "id": "2e7de4d6-b8ee-43a8-a03e-21968a3fd309",
   "metadata": {},
   "outputs": [],
   "source": []
  },
  {
   "cell_type": "code",
   "execution_count": null,
   "id": "85744263-19cd-45a8-88dd-e4de256b2040",
   "metadata": {},
   "outputs": [],
   "source": []
  },
  {
   "cell_type": "code",
   "execution_count": null,
   "id": "f535d72c-fd83-4fd6-85bc-105349a4ec95",
   "metadata": {},
   "outputs": [],
   "source": []
  },
  {
   "cell_type": "code",
   "execution_count": 31,
   "id": "94a5d3d2-c7f4-479b-8d84-3e7d4f39782c",
   "metadata": {},
   "outputs": [
    {
     "ename": "AssertionError",
     "evalue": "",
     "output_type": "error",
     "traceback": [
      "\u001b[0;31m---------------------------------------------------------------------------\u001b[0m",
      "\u001b[0;31mAssertionError\u001b[0m                            Traceback (most recent call last)",
      "\u001b[0;32m/var/folders/b1/frq3gywj3ljfqrf1yc7zk06r0000gn/T/ipykernel_73894/1386266827.py\u001b[0m in \u001b[0;36m<module>\u001b[0;34m\u001b[0m\n\u001b[0;32m----> 1\u001b[0;31m \u001b[0;32massert\u001b[0m \u001b[0;32mNone\u001b[0m\u001b[0;34m\u001b[0m\u001b[0;34m\u001b[0m\u001b[0m\n\u001b[0m",
      "\u001b[0;31mAssertionError\u001b[0m: "
     ]
    }
   ],
   "source": [
    "assert None"
   ]
  },
  {
   "cell_type": "code",
   "execution_count": null,
   "id": "a6115dfc-3c40-453f-94ff-e213f5ce8617",
   "metadata": {},
   "outputs": [],
   "source": []
  },
  {
   "cell_type": "code",
   "execution_count": null,
   "id": "eb1430d0-31bd-4ab3-989e-49b5ed45b398",
   "metadata": {},
   "outputs": [],
   "source": []
  },
  {
   "cell_type": "code",
   "execution_count": null,
   "id": "ea8505d1-ea82-4073-8423-7ddae27b2df3",
   "metadata": {},
   "outputs": [],
   "source": [
    "help(title)"
   ]
  },
  {
   "cell_type": "code",
   "execution_count": null,
   "id": "3a274872-8a7b-445c-8d35-c86a2002ea27",
   "metadata": {},
   "outputs": [],
   "source": []
  },
  {
   "cell_type": "code",
   "execution_count": null,
   "id": "eba90a13-0e89-482d-be37-0801c5fcb9d5",
   "metadata": {},
   "outputs": [],
   "source": []
  },
  {
   "cell_type": "code",
   "execution_count": null,
   "id": "ec1bab74-b7ea-4bc6-812c-678353afd533",
   "metadata": {},
   "outputs": [],
   "source": []
  },
  {
   "cell_type": "code",
   "execution_count": null,
   "id": "9ce77fac-57bb-4cd8-bd6c-f7fe65751a47",
   "metadata": {},
   "outputs": [],
   "source": []
  },
  {
   "cell_type": "code",
   "execution_count": null,
   "id": "db446517-3f93-4986-9d2f-3bb05127a64b",
   "metadata": {},
   "outputs": [],
   "source": []
  },
  {
   "cell_type": "code",
   "execution_count": null,
   "id": "50b22cb1-32d5-4386-912c-66a5b77b3182",
   "metadata": {},
   "outputs": [],
   "source": []
  },
  {
   "cell_type": "code",
   "execution_count": null,
   "id": "b47a3d0e-d4b1-473b-9d1d-3dc2f90c3368",
   "metadata": {},
   "outputs": [],
   "source": []
  },
  {
   "cell_type": "code",
   "execution_count": null,
   "id": "df499c79-2435-49cf-bdc6-38ae7cb6f9ea",
   "metadata": {},
   "outputs": [],
   "source": []
  },
  {
   "cell_type": "code",
   "execution_count": null,
   "id": "ec7afaca-98ce-427f-affa-47fbcc122053",
   "metadata": {},
   "outputs": [],
   "source": []
  },
  {
   "cell_type": "code",
   "execution_count": null,
   "id": "b559762d-a18d-467b-8a9a-d84c65469ceb",
   "metadata": {},
   "outputs": [],
   "source": [
    "import lxml.etree\n",
    "\n",
    "stree = lxml.etree.tostring(tree)\n",
    "\n",
    "# Transform to JSON (simpler to handle)\n",
    "\n",
    "import xmltodict\n",
    "js = xmltodict.parse(stree)\n",
    "js"
   ]
  },
  {
   "cell_type": "code",
   "execution_count": null,
   "id": "fbedc1f7-83b9-4d37-b8e0-c112ef1bc718",
   "metadata": {},
   "outputs": [],
   "source": [
    "# Print JSON\n",
    "\n",
    "# import json\n",
    "# print(json.dumps(js, indent=2))"
   ]
  },
  {
   "cell_type": "code",
   "execution_count": null,
   "id": "0e1140f0-c91e-401b-a682-320caab771cb",
   "metadata": {},
   "outputs": [],
   "source": [
    "# Define structure to map between \"theirs\" (astropedia), and \"ours\" (invenio).\n",
    "# Let's define it as a dictionary of fields we want to fill from input object,\n",
    "# the input is the JSON object from Astropedia's XML.\n",
    "# Auxiliary, some individual functions to process the data values during mapping.\n",
    "\n",
    "_clean_CDATA = lambda s: s.replace('![[CDATA]', '').replace(']]','')\n",
    "\"\"\"Remove \"![[CDATA].*]]' from string\"\"\"\n",
    "\n",
    "\n",
    "def _parse_bbox(bbox):\n",
    "    \"\"\"Map astropedia's bounding-box fields to ours\"\"\"\n",
    "    _bbox = {\n",
    "        'westlon': 'westbc',\n",
    "        'eastlon': 'eastbc',\n",
    "        'minlat': 'southbc',\n",
    "        'maxlat': 'northbc'\n",
    "    }\n",
    "    return { k:float(bbox[v]) for k,v in _bbox.items() }\n",
    "\n",
    "\n",
    "_split_sep = lambda s,sep=',': [w.strip() for w in s.split(sep)]\n",
    "\"\"\"Return a list of comma-separated terms (Ex: 'ABC, XYZ')\"\"\"\n",
    "\n",
    "\n",
    "def _parse_authors(text):\n",
    "    \"\"\"\n",
    "    Clean/Split the authors from 'text'. \n",
    "    (Ex: ...\\n<b>References:</b>\\n\\nLastname, N.I., Lastname, N.I. and Lastname, N.I. (2020)...\n",
    "    \"\"\"\n",
    "    refs = []\n",
    "    flag = False\n",
    "    for line in text.split('\\n'):\n",
    "        line = line.strip()\n",
    "        if line == '':\n",
    "            continue\n",
    "        if 'References:' in line:\n",
    "            flag = True\n",
    "            continue\n",
    "        if flag:\n",
    "            refs.append(line)\n",
    "        \n",
    "    authors = []\n",
    "    for line in refs:\n",
    "        l_authors = line.split('(')[0]\n",
    "        _authors = [ a2 for a1 in _split_sep(l_authors, ' and ') \n",
    "                        for a2 in _split_sep(a1, ',') ]\n",
    "        _authors = [ f\"{_authors[i-1]}, {_authors[i]}\"\n",
    "                        for i in range(1,len(_authors),2) ]\n",
    "        authors.extend(_authors)\n",
    "\n",
    "    return authors\n",
    "\n",
    "\n",
    "# metadata mappings (ours: astropedia)\n",
    "_meta = dict(\n",
    "    title = {'path': 'metadata/idinfo/citation/citeinfo/title' },\n",
    "    \n",
    "    date_pub = {'path': 'metadata/idinfo/citation/citeinfo/pubdate'},\n",
    "    \n",
    "    origin = {'path': 'metadata/idinfo/citation/citeinfo/origin'},\n",
    "    \n",
    "    url = {'path': 'metadata/idinfo/citation/citeinfo/onlink'},\n",
    "    \n",
    "    description = {'path': 'metadata/idinfo/descript/abstract', \n",
    "                   'proc': _clean_CDATA },\n",
    "    \n",
    "    authors = {'path': 'metadata/idinfo/descript/abstract', \n",
    "               'proc': _parse_authors },\n",
    "    \n",
    "    document_url = {'path': 'metadata/idinfo/descript/supplinf', \n",
    "                    'proc': _clean_CDATA },\n",
    "    \n",
    "    status = {'path': 'metadata/idinfo/status/progress' },\n",
    "    \n",
    "    bounding_box = {'path': 'metadata/idinfo/spdom/bounding',\n",
    "                    'proc': _parse_bbox },\n",
    "    \n",
    "    scope = {'path': 'metadata/idinfo/accscope',\n",
    "             'proc': _split_sep },\n",
    "    \n",
    "    browse = {'path': 'metadata/idinfo/browse/browsen'},\n",
    "    \n",
    "    product_url = {'path': 'metadata/distinfo/stdorder/digform/digtopt/onlinopt/computer/networka/networkr' }\n",
    ")\n",
    "\n",
    "\n",
    "# Function to do the whole thing\n",
    "def map_jsons(js:dict, mappings:dict):\n",
    "    \"\"\"\n",
    "    Return object like 'mappings', with values from (astropedia) 'js'\n",
    "    \n",
    "    Ex:\n",
    "    > js = {'key1': {'key2': \"val\"}}\n",
    "    > mappings = {\n",
    "    >     'my_key1' : dict(path='key1/key2', proc=lambda s:s.upper()),\n",
    "    >     'my_key2' : dict(path='key1/key2')\n",
    "    > }\n",
    "    > map_jsons(js, mappings)\n",
    "    # {'my_key1': 'VAL', 'my_key2': 'val'}\n",
    "    \"\"\"\n",
    "    def _map(js, obj):\n",
    "        \"\"\"\n",
    "        Return value of key at the leaf of \"obj['path']\", \n",
    "        (optional) processed by \"obj['proc']()\" (if available)\n",
    "        \"\"\"\n",
    "        val = js\n",
    "        for node in obj['path'].split('/'):\n",
    "            val = val[node]\n",
    "            \n",
    "        out = val\n",
    "        if 'proc' in obj:\n",
    "            out = obj['proc'](val)\n",
    "            \n",
    "        return out\n",
    "\n",
    "    out = {}\n",
    "    for keyword, mapping in mappings.items():\n",
    "        value = _map(js, mapping)\n",
    "        out.update({ keyword: value })\n",
    "        \n",
    "    return out"
   ]
  },
  {
   "cell_type": "code",
   "execution_count": null,
   "id": "daf38b6d-5ac7-4630-a1b6-c616f364e8dd",
   "metadata": {},
   "outputs": [],
   "source": [
    "our_js = map_jsons(js, _meta)\n",
    "our_js"
   ]
  },
  {
   "cell_type": "code",
   "execution_count": null,
   "id": "8ec382b7-2092-4dc9-af23-2e00a063445a",
   "metadata": {},
   "outputs": [],
   "source": [
    "import json\n",
    "\n",
    "with open(f'{rootname}.json', 'w') as fp:\n",
    "    json.dump(js, fp, indent=2)\n",
    "    \n",
    "with open(f'{rootname}_OurMeta.json', 'w') as fp:\n",
    "    json.dump(our_js, fp, indent=2)"
   ]
  },
  {
   "cell_type": "code",
   "execution_count": 93,
   "id": "9196a9cd-6659-42ab-8477-4e58879689ed",
   "metadata": {},
   "outputs": [],
   "source": [
    "from api import astropedia\n",
    "\n",
    "from importlib import reload\n",
    "reload(astropedia)\n",
    "\n",
    "# astropedia.parse_astropedia_html('https://astrogeology.usgs.gov/search/map/Moon/Geology/Unified_Geologic_Map_of_the_Moon_GIS_v2')\n",
    "astropedia.parse_astropedia_html(url)"
   ]
  },
  {
   "cell_type": "code",
   "execution_count": 85,
   "id": "60da68f9-aa4b-4f6b-831f-526a382638ad",
   "metadata": {},
   "outputs": [
    {
     "data": {
      "text/plain": [
       "'https://astrogeology.usgs.gov/search/map/Ganymede/Geology/Ganymede_SIM3237_Database'"
      ]
     },
     "execution_count": 85,
     "metadata": {},
     "output_type": "execute_result"
    }
   ],
   "source": [
    "url"
   ]
  },
  {
   "cell_type": "code",
   "execution_count": null,
   "id": "1ba476bf-3ac9-455c-bb80-4b92f23db0b3",
   "metadata": {},
   "outputs": [],
   "source": []
  }
 ],
 "metadata": {
  "kernelspec": {
   "display_name": "Python 3 (ipykernel)",
   "language": "python",
   "name": "python3"
  },
  "language_info": {
   "codemirror_mode": {
    "name": "ipython",
    "version": 3
   },
   "file_extension": ".py",
   "mimetype": "text/x-python",
   "name": "python",
   "nbconvert_exporter": "python",
   "pygments_lexer": "ipython3",
   "version": "3.8.10"
  }
 },
 "nbformat": 4,
 "nbformat_minor": 5
}
