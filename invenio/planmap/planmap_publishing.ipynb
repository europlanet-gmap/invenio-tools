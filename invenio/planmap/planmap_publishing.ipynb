{
 "cells": [
  {
   "cell_type": "markdown",
   "id": "84d2df34-da8f-4937-927f-2260761e77e5",
   "metadata": {},
   "source": [
    "# PLANMAP-Invenio publishing: parsing PLANMAP"
   ]
  },
  {
   "cell_type": "code",
   "execution_count": 1,
   "id": "332cf08f-a4f5-4c13-96da-08a07c05c794",
   "metadata": {},
   "outputs": [],
   "source": [
    "readme_file = 'data/publish_data/archive/mars/PM-MAR-MS-Arsinoes/README.md'\n",
    "\n",
    "with open(readme_file, 'r') as fp:\n",
    "    readme = fp.read()\n",
    "    "
   ]
  },
  {
   "cell_type": "code",
   "execution_count": 2,
   "id": "50342e82-34c4-47a1-b617-d6e610c740d0",
   "metadata": {},
   "outputs": [
    {
     "name": "stdout",
     "output_type": "stream",
     "text": [
      "---\n",
      "<img src=\"./document/PM-MAR-MS-Arsinoes.browse.png\" width=\"800\"/>\n",
      "\n",
      "| Field                                                        | Description                                                  |\n",
      "| ------------------------------------------------------------ | ------------------------------------------------------------ |\n",
      "| Map name (PM_ID)                                             | PM-MAR-MS-Arsinoes                                           |\n",
      "| Map version                                                  | 03                                        |\n",
      "| Target body                                                  | Mars                                                         |\n",
      "| Title of map                                                 | Geological Map of Arsinoes and Pyrrhae Chaos, Mars           |\n",
      "| Bounding box - Min Lat                                       | -12                                                          |\n",
      "| Bounding box - Max Lat                                       | -5.8                                                         |\n",
      "| Bounding box - Min Lon (0-360)                               | 329.7                                                        |\n",
      "| Bounding box - Max Lon (0-360)                               | 334.5                                                        |\n",
      "| Author(s)                                                    | E. Luzzi, A.P. Rossi                                         |\n",
      "| Type                                                         | Preliminary                                                  |\n",
      "| Output scale                                                 | 1:3.000.000                                                  |\n",
      "| Original Coordinate Reference System                         | Projected Coordinate System: Equirectangular Projection: Plate_Carree false_easting: 0.00000000 false_northing: 0.00000000 central_meridian: 0.00000000 Linear Unit: Meter Geographic Coordinate System: GCS_Geographic_Coordinate_System Datum: D_MARS Prime Meridian: Reference Meridian Angular Unit: Degree |\n",
      "| Data used                                                    | MOLA Elevation Model MEGDR (463 m/pixel)CTX mosaic by MurrayLabCTX DTM (18 m)HiRISE RED (0,25 m/pixel) |\n",
      "| Standards adhered to                                         | Planmap mapping standards document                           |\n",
      "| DOI                                                          |                                                              |\n",
      "| Aims (one sentence)                                          | Morpho-stratigraphic mapping                                 |\n",
      "| Short description                                            | This map shows the contacts between the disrupted bedrock of the Chaotic terrain Units and the overlying sedimentary units. In addition, it shows the distribution of the graben/fissures and pit chains that are probably related to an intense past of magmatic activity and calderic collapse. In order to better characterize the mineralogical characteristics of the occurring deposits, also spectral analyses were tried out on the only available CRISM cube in the area (still in progress) |\n",
      "| Related products (cross link to other Planmap products)      |                                                              |\n",
      "| Units Definition                                             | Post-collapse craters, PCC, 51-160-44Cap Unit, CAP, 182-162-255Light-toned Layered deposits units, LLD, 77-205-255High Thermal Inertia Chaotic terrain, ChH, 227-28-28Knobby Terrain, ChK, 255-127-0Fractured Plains, ChF, 255-238-3 |\n",
      "| Stratigraphic info (e.g. production function used)           | N/A                                                          |\n",
      "| Other comments (reviewer comments, notes on post-processing) |                                                              |\n",
      "| Heritage used                                                | Glotch and Christensen 2005                                  |\n",
      "| Link to other repositories                                   |                                                              |\n",
      "| Acknowledgements beyond Planmap                              | N/A                                                          |\n",
      "\n",
      "\n"
     ]
    }
   ],
   "source": [
    "print(readme)"
   ]
  },
  {
   "cell_type": "code",
   "execution_count": 3,
   "id": "c739eff5-6a25-448a-8e17-cff98e478be4",
   "metadata": {},
   "outputs": [
    {
     "data": {
      "text/plain": [
       "{'Map name (PM_ID)': 'PM-MAR-MS-Arsinoes',\n",
       " 'Map version': '03',\n",
       " 'Target body': 'Mars',\n",
       " 'Title of map': 'Geological Map of Arsinoes and Pyrrhae Chaos, Mars',\n",
       " 'Bounding box - Min Lat': '-12',\n",
       " 'Bounding box - Max Lat': '-5.8',\n",
       " 'Bounding box - Min Lon (0-360)': '329.7',\n",
       " 'Bounding box - Max Lon (0-360)': '334.5',\n",
       " 'Author(s)': 'E. Luzzi, A.P. Rossi',\n",
       " 'Type': 'Preliminary',\n",
       " 'Output scale': '1:3.000.000',\n",
       " 'Original Coordinate Reference System': 'Projected Coordinate System: Equirectangular Projection: Plate_Carree false_easting: 0.00000000 false_northing: 0.00000000 central_meridian: 0.00000000 Linear Unit: Meter Geographic Coordinate System: GCS_Geographic_Coordinate_System Datum: D_MARS Prime Meridian: Reference Meridian Angular Unit: Degree',\n",
       " 'Data used': 'MOLA Elevation Model MEGDR (463 m/pixel)CTX mosaic by MurrayLabCTX DTM (18 m)HiRISE RED (0,25 m/pixel)',\n",
       " 'Standards adhered to': 'Planmap mapping standards document',\n",
       " 'DOI': '',\n",
       " 'Aims (one sentence)': 'Morpho-stratigraphic mapping',\n",
       " 'Short description': 'This map shows the contacts between the disrupted bedrock of the Chaotic terrain Units and the overlying sedimentary units. In addition, it shows the distribution of the graben/fissures and pit chains that are probably related to an intense past of magmatic activity and calderic collapse. In order to better characterize the mineralogical characteristics of the occurring deposits, also spectral analyses were tried out on the only available CRISM cube in the area (still in progress)',\n",
       " 'Related products (cross link to other Planmap products)': '',\n",
       " 'Units Definition': 'Post-collapse craters, PCC, 51-160-44Cap Unit, CAP, 182-162-255Light-toned Layered deposits units, LLD, 77-205-255High Thermal Inertia Chaotic terrain, ChH, 227-28-28Knobby Terrain, ChK, 255-127-0Fractured Plains, ChF, 255-238-3',\n",
       " 'Stratigraphic info (e.g. production function used)': 'N/A',\n",
       " 'Other comments (reviewer comments, notes on post-processing)': '',\n",
       " 'Heritage used': 'Glotch and Christensen 2005',\n",
       " 'Link to other repositories': '',\n",
       " 'Acknowledgements beyond Planmap': 'N/A'}"
      ]
     },
     "execution_count": 3,
     "metadata": {},
     "output_type": "execute_result"
    }
   ],
   "source": [
    "table = {}\n",
    "\n",
    "for line in readme.split('\\n'):\n",
    "    line = line.strip()\n",
    "\n",
    "    if not line.startswith('|'):\n",
    "        continue\n",
    "        \n",
    "    k, v = [ o.strip() for o in line.split('|') if o ]\n",
    "    \n",
    "    if k.lower() == 'field' or k.startswith('-'):\n",
    "        continue\n",
    "        \n",
    "    table.update({ k: v })\n",
    "\n",
    "table"
   ]
  },
  {
   "cell_type": "code",
   "execution_count": 4,
   "id": "30b9303e-9a79-4b5a-8472-6aaaf179cd66",
   "metadata": {},
   "outputs": [],
   "source": [
    "import api"
   ]
  },
  {
   "cell_type": "code",
   "execution_count": 5,
   "id": "d270d5ba-af2f-4c41-ba3b-e967bc15b80f",
   "metadata": {},
   "outputs": [
    {
     "name": "stdout",
     "output_type": "stream",
     "text": [
      "Help on package api:\n",
      "\n",
      "NAME\n",
      "    api - Objects to read Astropedia, Planmap/Gmap pakages and publish on InvenioRDM\n",
      "\n",
      "PACKAGE CONTENTS\n",
      "    astropedia\n",
      "    gui (package)\n",
      "    invenio\n",
      "    json_schema (package)\n",
      "    planmap\n",
      "\n",
      "FILE\n",
      "    /Users/chbrandt/Coisas/repos/GMAP/invenio_tools/invenio/planmap/api/__init__.py\n",
      "\n",
      "\n"
     ]
    }
   ],
   "source": [
    "help(api)"
   ]
  },
  {
   "cell_type": "code",
   "execution_count": 6,
   "id": "b772e36f-5fa7-42c2-8356-a4a6fc679343",
   "metadata": {},
   "outputs": [],
   "source": [
    "PUB_DIR = 'data/publish_data/archive/'\n",
    "ZIP_DIR = 'data/publish_data/zip/'"
   ]
  },
  {
   "cell_type": "code",
   "execution_count": 7,
   "id": "631b2685-c16e-4c0b-92c7-3d5a5aa40526",
   "metadata": {},
   "outputs": [
    {
     "data": {
      "text/plain": [
       "{'title': 'Geological Map of Arsinoes and Pyrrhae Chaos, Mars',\n",
       " 'authors': ['E. Luzzi', 'A.P. Rossi'],\n",
       " 'pub_date': '2022-12-27',\n",
       " 'publisher': 'Planmap',\n",
       " 'description': 'This map shows the contacts between the disrupted bedrock of the Chaotic terrain Units and the overlying sedimentary units. In addition, it shows the distribution of the graben/fissures and pit chains that are probably related to an intense past of magmatic activity and calderic collapse. In order to better characterize the mineralogical characteristics of the occurring deposits, also spectral analyses were tried out on the only available CRISM cube in the area (still in progress)',\n",
       " 'bounding_box': {'minlat': -12.0,\n",
       "  'maxlat': -5.8,\n",
       "  'westlon': 329.7,\n",
       "  'eastlon': 334.5},\n",
       " 'name': 'PM-MAR-MS-Arsinoes',\n",
       " 'body': 'Mars',\n",
       " 'extra': {'Type': 'Preliminary',\n",
       "  'Output scale': '1:3.000.000',\n",
       "  'Original Coordinate Reference System': 'Projected Coordinate System: Equirectangular Projection: Plate_Carree false_easting: 0.00000000 false_northing: 0.00000000 central_meridian: 0.00000000 Linear Unit: Meter Geographic Coordinate System: GCS_Geographic_Coordinate_System Datum: D_MARS Prime Meridian: Reference Meridian Angular Unit: Degree',\n",
       "  'Data used': 'MOLA Elevation Model MEGDR (463 m/pixel)CTX mosaic by MurrayLabCTX DTM (18 m)HiRISE RED (0,25 m/pixel)',\n",
       "  'Standards': 'Planmap mapping standards document',\n",
       "  'Aims': 'Morpho-stratigraphic mapping',\n",
       "  'Related products': None,\n",
       "  'Units Definition': 'Post-collapse craters, PCC, 51-160-44Cap Unit, CAP, 182-162-255Light-toned Layered deposits units, LLD, 77-205-255High Thermal Inertia Chaotic terrain, ChH, 227-28-28Knobby Terrain, ChK, 255-127-0Fractured Plains, ChF, 255-238-3',\n",
       "  'Stratigraphic info': None,\n",
       "  'Other comments': None,\n",
       "  'Heritage used': 'Glotch and Christensen 2005',\n",
       "  'Link to other repositories': None,\n",
       "  'Acknowledgements beyond Planmap': None,\n",
       "  'Map version': 3.0,\n",
       "  'Standards adhered to open formats for 3D mesh, materials and textures (obj, .mtl, .png)': None,\n",
       "  'Polygon number': None,\n",
       "  'Number of attached textures': None,\n",
       "  'Modelling method': None},\n",
       " 'identifiers': {'doi': None},\n",
       " 'files': {'PM-MAR-MS-Arsinoes.pdf': 'data/publish_data/archive//mars/PM-MAR-MS-Arsinoes/document/PM-MAR-MS-Arsinoes.pdf',\n",
       "  'PM-MAR-MS-Arsinoes.browse.png': 'data/publish_data/archive//mars/PM-MAR-MS-Arsinoes/document/PM-MAR-MS-Arsinoes.browse.png'}}"
      ]
     },
     "execution_count": 7,
     "metadata": {},
     "output_type": "execute_result"
    }
   ],
   "source": [
    "import api.planmap\n",
    "\n",
    "from importlib import reload\n",
    "reload(api.planmap)\n",
    "\n",
    "# payload = api.planmap.parse_readme_url('https://data.planmap.eu/pub/mars/PM-MAR-MS-Arsinoes/README.md')\n",
    "payload = api.planmap.parse_package(f'{PUB_DIR}/mars/PM-MAR-MS-Arsinoes')\n",
    "\n",
    "# payload.add_files(f\"{ZIP_DIR}/mars/PM-MAR-MS-Arsinoes.zip\")\n",
    "\n",
    "payload.asdict()"
   ]
  },
  {
   "cell_type": "code",
   "execution_count": 8,
   "id": "8932ecca-704b-4da4-bfda-01436b7ced2e",
   "metadata": {},
   "outputs": [
    {
     "data": {
      "text/plain": [
       "[{'key': 'PM-MAR-MS-Arsinoes.pdf'}, {'key': 'PM-MAR-MS-Arsinoes.browse.png'}]"
      ]
     },
     "execution_count": 8,
     "metadata": {},
     "output_type": "execute_result"
    }
   ],
   "source": [
    "payload.create_files_payload()"
   ]
  },
  {
   "cell_type": "code",
   "execution_count": 9,
   "id": "804db6ac-8759-4d30-b152-504ad6ff7c46",
   "metadata": {},
   "outputs": [
    {
     "data": {
      "text/plain": [
       "<module 'api.invenio' from '/Users/chbrandt/Coisas/repos/GMAP/invenio_tools/invenio/planmap/api/invenio.py'>"
      ]
     },
     "execution_count": 9,
     "metadata": {},
     "output_type": "execute_result"
    }
   ],
   "source": [
    "import api.invenio\n",
    "\n",
    "reload(api.invenio)"
   ]
  },
  {
   "cell_type": "code",
   "execution_count": 10,
   "id": "8650e58a-1d3f-4ef6-bd8b-b83d89628908",
   "metadata": {},
   "outputs": [],
   "source": [
    "# Invenio server\n",
    "#\n",
    "hostname = '10.72.12.24:5000'\n",
    "token = 'yKsTjnMJe36ut46HdFMo0Z1TAL6JOciYlugtkjllNGqlRlLEZme2zriB4AaG'\n",
    "\n",
    "client = api.invenio.InvenioClient(hostname, token)"
   ]
  },
  {
   "cell_type": "code",
   "execution_count": 11,
   "id": "509134be-6382-4587-bf8e-97e37c285cb5",
   "metadata": {},
   "outputs": [
    {
     "name": "stderr",
     "output_type": "stream",
     "text": [
      "/opt/miniconda3/envs/invenio_tools/lib/python3.10/site-packages/urllib3/connectionpool.py:1045: InsecureRequestWarning: Unverified HTTPS request is being made to host '10.72.12.24'. Adding certificate verification is strongly advised. See: https://urllib3.readthedocs.io/en/1.26.x/advanced-usage.html#ssl-warnings\n",
      "  warnings.warn(\n"
     ]
    },
    {
     "name": "stdout",
     "output_type": "stream",
     "text": [
      "HTTPError('500 Server Error: INTERNAL SERVER ERROR for url: https://10.72.12.24:5000/api/records')\n"
     ]
    }
   ],
   "source": [
    "# Create a draft\n",
    "#\n",
    "resp = client.create_draft(payload)\n",
    "\n",
    "# print(resp)"
   ]
  },
  {
   "cell_type": "code",
   "execution_count": 12,
   "id": "5e06bc27-3a01-40c7-bf12-6e1fe4cb8d90",
   "metadata": {},
   "outputs": [
    {
     "ename": "TypeError",
     "evalue": "'NoneType' object is not subscriptable",
     "output_type": "error",
     "traceback": [
      "\u001b[0;31m---------------------------------------------------------------------------\u001b[0m",
      "\u001b[0;31mTypeError\u001b[0m                                 Traceback (most recent call last)",
      "Input \u001b[0;32mIn [12]\u001b[0m, in \u001b[0;36m<cell line: 1>\u001b[0;34m()\u001b[0m\n\u001b[0;32m----> 1\u001b[0m \u001b[38;5;28mprint\u001b[39m(\u001b[43mresp\u001b[49m\u001b[43m[\u001b[49m\u001b[38;5;124;43m'\u001b[39;49m\u001b[38;5;124;43mid\u001b[39;49m\u001b[38;5;124;43m'\u001b[39;49m\u001b[43m]\u001b[49m)\n",
      "\u001b[0;31mTypeError\u001b[0m: 'NoneType' object is not subscriptable"
     ]
    }
   ],
   "source": [
    "print(resp['id'])"
   ]
  },
  {
   "cell_type": "code",
   "execution_count": null,
   "id": "ed250323-cfc5-4dda-b0d6-4531d7c4e363",
   "metadata": {},
   "outputs": [],
   "source": [
    "# Open record's page\n",
    "#\n",
    "import webbrowser\n",
    "\n",
    "# webbrowser.open(resp['links']['self_html'])"
   ]
  },
  {
   "cell_type": "code",
   "execution_count": null,
   "id": "04d8b117-b9fc-4afa-a253-de9c06eeca6d",
   "metadata": {},
   "outputs": [],
   "source": [
    "resp"
   ]
  },
  {
   "cell_type": "code",
   "execution_count": null,
   "id": "e7f6fbcb-940a-4d93-9187-74fa40279fb3",
   "metadata": {},
   "outputs": [],
   "source": [
    "resp = client.publish_draft(resp['id'])"
   ]
  },
  {
   "cell_type": "code",
   "execution_count": null,
   "id": "bd713d59-9b1d-4a82-808c-c2cdaaed14cc",
   "metadata": {},
   "outputs": [],
   "source": [
    "webbrowser.open(resp['links']['self_html'])"
   ]
  }
 ],
 "metadata": {
  "kernelspec": {
   "display_name": "invenio_tools",
   "language": "python",
   "name": "invenio_tools"
  },
  "language_info": {
   "codemirror_mode": {
    "name": "ipython",
    "version": 3
   },
   "file_extension": ".py",
   "mimetype": "text/x-python",
   "name": "python",
   "nbconvert_exporter": "python",
   "pygments_lexer": "ipython3",
   "version": "3.10.8"
  }
 },
 "nbformat": 4,
 "nbformat_minor": 5
}
