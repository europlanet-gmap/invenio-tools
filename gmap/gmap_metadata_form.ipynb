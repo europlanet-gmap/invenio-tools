{
 "cells": [
  {
   "cell_type": "markdown",
   "id": "7297e158-1777-49d7-9b02-ceb833e9acde",
   "metadata": {},
   "source": [
    "# GMAP package metadata form\n",
    "\n",
    "| Field | Field description (and example entries) |\n",
    "| --- | --- |\n",
    "| Map name (GMAP_ID) | Unique package name (`GMAP-{{target-body}}-{{content-type}}-{{label}}`) |\n",
    "| Target body | Name of target body (eg, `Mercury`) |\n",
    "| Title of map | Map title (eg, `Awesome Geologic Map of the region X`) |\n",
    "| Bounding box - Min Lat | Minimum latitude in degrees [-90:90) (< Max Lat) |\n",
    "| Bounding box - Max Lat | Maximum latitude in degrees (-90:90] (> Min Lat) |\n",
    "| Bounding box - Min Lon | West-most Longitude in degrees [-180:180) (< Max Lon) |\n",
    "| Bounding box - Max Lon | East-most Longitude in degrees (-180:180] (> Min Lon) |\n",
    "| Author(s) | Semi-colon separated list of authors |\n",
    "| Type | Either \"draft\" or \"released\" |\n",
    "| Output scale | Map spatial scale |\n",
    "| Original Coordinate Reference System | WKT declaring map' CRS |\n",
    "| Data used | Semi-colon separated list of ancillary, original data used |\n",
    "| Standards adhered to | Semi-colon list of standards used in the map |\n",
    "| DOI of companion paper(s) | DOI of linked publication |\n",
    "| Aims | Reason, goal for this map |\n",
    "| Short description | Free-text (500 words maximum) describing the map |\n",
    "| Related products | Other geological maps complementing this one |\n",
    "| Units Definition (polygon styling) | Units color definition |\n",
    "| Stratigraphic info | Description of stratigraphic elements in the map |\n",
    "| Other comments | free-text (notes, errata, warnings) |\n",
    "| Heritage used | heritage information |\n",
    "| Link to other data | Links to extenal resources |\n",
    "| Acknowledgements | Free-text acknowledge |"
   ]
  },
  {
   "cell_type": "code",
   "execution_count": 1,
   "id": "ef03d67b-28dc-45ec-9236-88d1d5cafabd",
   "metadata": {},
   "outputs": [],
   "source": [
    "json_schema = {\n",
    "  # \"$id\": \"planmap.schema.json\",\n",
    "\n",
    "  \"title\": \"PLanmap package schema\",\n",
    "  \"$comment\": \"Define Planmap data package metadata\",\n",
    "\n",
    "  \"type\" : \"object\",\n",
    "\n",
    "  \"properties\": {\n",
    "      \"pm_id\": { \"type\" : \"string\" },\n",
    "      \n",
    "      \"title\": { \"type\" : \"string\" },\n",
    "      \n",
    "      \"target\": { \n",
    "          \"enum\": [\"mars\",\"mercury\",\"moon\",\"venus\"] \n",
    "      },\n",
    "      \n",
    "      \"authors\": { \n",
    "          \"type\": \"array\",\n",
    "          \"items\": {\n",
    "              \"type\": \"string\"\n",
    "          },\n",
    "          \"minItems\": 1\n",
    "      },\n",
    "      \n",
    "    \"bbox_lat_min\": { \n",
    "      \"type\" : \"number\",\n",
    "      \"minimum\": -90,\n",
    "      \"maximum\": 90\n",
    "     },\n",
    "    \"bbox_lat_max\": { \n",
    "      \"type\" : \"number\",\n",
    "      \"minimum\": -90,\n",
    "      \"maximum\": 90\n",
    "     },\n",
    "    \"bbox_lon_west\": { \n",
    "      \"type\" : \"number\",\n",
    "      \"minimum\": -180,\n",
    "      \"maximum\": 180\n",
    "     },\n",
    "    \"bbox_lon_east\": { \n",
    "      \"type\" : \"number\",\n",
    "      \"minimum\": -180,\n",
    "      \"maximum\": 180\n",
    "     },\n",
    "      \n",
    "      \"crs\": { \"type\": \"string\" },\n",
    "      \n",
    "      \"output_scale\": { \"type\": \"string\" }\n",
    "  },\n",
    "\n",
    "#   \"patternProperties\": {\n",
    "#     \"^Aims\": { \"type\": \"string\" },\n",
    "#     \"^Author\": { \"type\" : \"string\" },\n",
    "#     \"^Acknowledgements\": { \"type\": \"string\" },\n",
    "#     \"^DOI\" : { \"type\": \"string\" },\n",
    "#     \"^Link\": { \"type\": \"string\" },\n",
    "#     \"^Map name\": { \"type\": \"string\" },\n",
    "#     \"^Other comments\": { \"type\": \"string\" },\n",
    "#     \"^Related products\": { \"type\": \"string\" },\n",
    "#     \"^Standards\": { \"type\": \"string\" },\n",
    "#     \"^Stratigraphic info\": { \"type\": \"string\" },\n",
    "#     \"^Units Definition\": { \"type\": \"string\" },\n",
    "\n",
    "#   },\n",
    "\n",
    "#   \"additionalProperties\": { \"type\" : \"boolean\" }\n",
    "}\n",
    "\n",
    "\n",
    "layout = [\n",
    "    'title',\n",
    "    'shortname',\n",
    "    'map_type',\n",
    "    'target',\n",
    "    [\n",
    "        {\"Longitude (west,east) [-180:180]\": ['bbox_lon_west', 'bbox_lon_east']},\n",
    "        {\"Latitude (min,max) [-90:90]\": ['bbox_lat_min', 'bbox_lat_max']}\n",
    "    ],\n",
    "    'publication_date',\n",
    "    'doi',\n",
    "    'authors',\n",
    "    [\n",
    "        # {\"Map description\": ['description', 'aims', 'units', 'stratigraphic_info']},\n",
    "        {\"Spatial attributes\": ['crs', 'output_scale']},\n",
    "        # {\"Ancillary data\": ['ancillary_data', 'related_products', 'heritage', 'extra_data']},\n",
    "        # {\"Notes\": ['standards', 'comments', 'acknowledge']}\n",
    "    ]\n",
    "]\n"
   ]
  },
  {
   "cell_type": "code",
   "execution_count": 2,
   "id": "a508c22e-b561-46de-bf57-cb2065534580",
   "metadata": {},
   "outputs": [
    {
     "data": {
      "application/vnd.jupyter.widget-view+json": {
       "model_id": "8ddb7d295dbf4638a9f11e4d26cf0bd4",
       "version_major": 2,
       "version_minor": 0
      },
      "text/plain": [
       "AppLayout(children=(Text(value='', description='<i style=\"color:gray\">GMAP-ID</i>', disabled=True, layout=Layo…"
      ]
     },
     "metadata": {},
     "output_type": "display_data"
    }
   ],
   "source": [
    "from api.gui import display,form\n",
    "\n",
    "app = form.Form(layout=layout)\n",
    "display(app.widget)"
   ]
  },
  {
   "cell_type": "code",
   "execution_count": 3,
   "id": "00dce35a-3fc2-4741-a300-5c077868f79d",
   "metadata": {},
   "outputs": [],
   "source": [
    "app.set('doi','bla')"
   ]
  },
  {
   "cell_type": "code",
   "execution_count": 4,
   "id": "50e73b2a-3fe4-4ac4-b216-a89e3fdacc2c",
   "metadata": {},
   "outputs": [],
   "source": [
    "app.set('target','mars')"
   ]
  },
  {
   "cell_type": "code",
   "execution_count": 5,
   "id": "6896943d-e18c-4a7d-9d54-d22a1f6ea7ba",
   "metadata": {},
   "outputs": [],
   "source": [
    "app.set('shortname','asdf')"
   ]
  },
  {
   "cell_type": "code",
   "execution_count": 6,
   "id": "23739516-bcab-4c22-bfe8-65756a4d0e09",
   "metadata": {},
   "outputs": [
    {
     "ename": "TraitError",
     "evalue": "The 'value' trait of a SelectMultiple instance expected a tuple, not the str 'compositional'.",
     "output_type": "error",
     "traceback": [
      "\u001b[0;31m---------------------------------------------------------------------------\u001b[0m",
      "\u001b[0;31mTraitError\u001b[0m                                Traceback (most recent call last)",
      "\u001b[0;32m/var/folders/b1/frq3gywj3ljfqrf1yc7zk06r0000gn/T/ipykernel_64215/559114880.py\u001b[0m in \u001b[0;36m<module>\u001b[0;34m\u001b[0m\n\u001b[0;32m----> 1\u001b[0;31m \u001b[0mapp\u001b[0m\u001b[0;34m.\u001b[0m\u001b[0mset\u001b[0m\u001b[0;34m(\u001b[0m\u001b[0;34m'map_type'\u001b[0m\u001b[0;34m,\u001b[0m\u001b[0;34m'compositional'\u001b[0m\u001b[0;34m)\u001b[0m\u001b[0;34m\u001b[0m\u001b[0;34m\u001b[0m\u001b[0m\n\u001b[0m",
      "\u001b[0;32m~/Coisas/repos/GMAP/invenio_tools/gmap/api/gui/form.py\u001b[0m in \u001b[0;36mset\u001b[0;34m(self, field, value)\u001b[0m\n\u001b[1;32m     70\u001b[0m         \u001b[0;32massert\u001b[0m \u001b[0mfield\u001b[0m \u001b[0;32min\u001b[0m \u001b[0mself\u001b[0m\u001b[0;34m\u001b[0m\u001b[0;34m\u001b[0m\u001b[0m\n\u001b[1;32m     71\u001b[0m         \u001b[0mwdgt\u001b[0m \u001b[0;34m=\u001b[0m \u001b[0mself\u001b[0m\u001b[0;34m[\u001b[0m\u001b[0mfield\u001b[0m\u001b[0;34m]\u001b[0m\u001b[0;34m\u001b[0m\u001b[0;34m\u001b[0m\u001b[0m\n\u001b[0;32m---> 72\u001b[0;31m         \u001b[0mwdgt\u001b[0m\u001b[0;34m.\u001b[0m\u001b[0mvalue\u001b[0m \u001b[0;34m=\u001b[0m \u001b[0mvalue\u001b[0m\u001b[0;34m\u001b[0m\u001b[0;34m\u001b[0m\u001b[0m\n\u001b[0m\u001b[1;32m     73\u001b[0m \u001b[0;34m\u001b[0m\u001b[0m\n\u001b[1;32m     74\u001b[0m     \u001b[0;32mdef\u001b[0m \u001b[0madd\u001b[0m\u001b[0;34m(\u001b[0m\u001b[0mself\u001b[0m\u001b[0;34m,\u001b[0m \u001b[0mfield\u001b[0m\u001b[0;34m:\u001b[0m\u001b[0mstr\u001b[0m\u001b[0;34m,\u001b[0m \u001b[0mvalue\u001b[0m\u001b[0;34m:\u001b[0m\u001b[0mAny\u001b[0m\u001b[0;34m)\u001b[0m \u001b[0;34m->\u001b[0m \u001b[0mbool\u001b[0m\u001b[0;34m:\u001b[0m\u001b[0;34m\u001b[0m\u001b[0;34m\u001b[0m\u001b[0m\n",
      "\u001b[0;32m/opt/miniconda3/lib/python3.8/site-packages/traitlets/traitlets.py\u001b[0m in \u001b[0;36m__set__\u001b[0;34m(self, obj, value)\u001b[0m\n\u001b[1;32m    713\u001b[0m             \u001b[0;32mraise\u001b[0m \u001b[0mTraitError\u001b[0m\u001b[0;34m(\u001b[0m\u001b[0;34m'The \"%s\" trait is read-only.'\u001b[0m \u001b[0;34m%\u001b[0m \u001b[0mself\u001b[0m\u001b[0;34m.\u001b[0m\u001b[0mname\u001b[0m\u001b[0;34m)\u001b[0m\u001b[0;34m\u001b[0m\u001b[0;34m\u001b[0m\u001b[0m\n\u001b[1;32m    714\u001b[0m         \u001b[0;32melse\u001b[0m\u001b[0;34m:\u001b[0m\u001b[0;34m\u001b[0m\u001b[0;34m\u001b[0m\u001b[0m\n\u001b[0;32m--> 715\u001b[0;31m             \u001b[0mself\u001b[0m\u001b[0;34m.\u001b[0m\u001b[0mset\u001b[0m\u001b[0;34m(\u001b[0m\u001b[0mobj\u001b[0m\u001b[0;34m,\u001b[0m \u001b[0mvalue\u001b[0m\u001b[0;34m)\u001b[0m\u001b[0;34m\u001b[0m\u001b[0;34m\u001b[0m\u001b[0m\n\u001b[0m\u001b[1;32m    716\u001b[0m \u001b[0;34m\u001b[0m\u001b[0m\n\u001b[1;32m    717\u001b[0m     \u001b[0;32mdef\u001b[0m \u001b[0m_validate\u001b[0m\u001b[0;34m(\u001b[0m\u001b[0mself\u001b[0m\u001b[0;34m,\u001b[0m \u001b[0mobj\u001b[0m\u001b[0;34m,\u001b[0m \u001b[0mvalue\u001b[0m\u001b[0;34m)\u001b[0m\u001b[0;34m:\u001b[0m\u001b[0;34m\u001b[0m\u001b[0;34m\u001b[0m\u001b[0m\n",
      "\u001b[0;32m/opt/miniconda3/lib/python3.8/site-packages/traitlets/traitlets.py\u001b[0m in \u001b[0;36mset\u001b[0;34m(self, obj, value)\u001b[0m\n\u001b[1;32m    687\u001b[0m \u001b[0;34m\u001b[0m\u001b[0m\n\u001b[1;32m    688\u001b[0m     \u001b[0;32mdef\u001b[0m \u001b[0mset\u001b[0m\u001b[0;34m(\u001b[0m\u001b[0mself\u001b[0m\u001b[0;34m,\u001b[0m \u001b[0mobj\u001b[0m\u001b[0;34m,\u001b[0m \u001b[0mvalue\u001b[0m\u001b[0;34m)\u001b[0m\u001b[0;34m:\u001b[0m\u001b[0;34m\u001b[0m\u001b[0;34m\u001b[0m\u001b[0m\n\u001b[0;32m--> 689\u001b[0;31m         \u001b[0mnew_value\u001b[0m \u001b[0;34m=\u001b[0m \u001b[0mself\u001b[0m\u001b[0;34m.\u001b[0m\u001b[0m_validate\u001b[0m\u001b[0;34m(\u001b[0m\u001b[0mobj\u001b[0m\u001b[0;34m,\u001b[0m \u001b[0mvalue\u001b[0m\u001b[0;34m)\u001b[0m\u001b[0;34m\u001b[0m\u001b[0;34m\u001b[0m\u001b[0m\n\u001b[0m\u001b[1;32m    690\u001b[0m         \u001b[0;32mtry\u001b[0m\u001b[0;34m:\u001b[0m\u001b[0;34m\u001b[0m\u001b[0;34m\u001b[0m\u001b[0m\n\u001b[1;32m    691\u001b[0m             \u001b[0mold_value\u001b[0m \u001b[0;34m=\u001b[0m \u001b[0mobj\u001b[0m\u001b[0;34m.\u001b[0m\u001b[0m_trait_values\u001b[0m\u001b[0;34m[\u001b[0m\u001b[0mself\u001b[0m\u001b[0;34m.\u001b[0m\u001b[0mname\u001b[0m\u001b[0;34m]\u001b[0m\u001b[0;34m\u001b[0m\u001b[0;34m\u001b[0m\u001b[0m\n",
      "\u001b[0;32m/opt/miniconda3/lib/python3.8/site-packages/traitlets/traitlets.py\u001b[0m in \u001b[0;36m_validate\u001b[0;34m(self, obj, value)\u001b[0m\n\u001b[1;32m    719\u001b[0m             \u001b[0;32mreturn\u001b[0m \u001b[0mvalue\u001b[0m\u001b[0;34m\u001b[0m\u001b[0;34m\u001b[0m\u001b[0m\n\u001b[1;32m    720\u001b[0m         \u001b[0;32mif\u001b[0m \u001b[0mhasattr\u001b[0m\u001b[0;34m(\u001b[0m\u001b[0mself\u001b[0m\u001b[0;34m,\u001b[0m \u001b[0;34m\"validate\"\u001b[0m\u001b[0;34m)\u001b[0m\u001b[0;34m:\u001b[0m\u001b[0;34m\u001b[0m\u001b[0;34m\u001b[0m\u001b[0m\n\u001b[0;32m--> 721\u001b[0;31m             \u001b[0mvalue\u001b[0m \u001b[0;34m=\u001b[0m \u001b[0mself\u001b[0m\u001b[0;34m.\u001b[0m\u001b[0mvalidate\u001b[0m\u001b[0;34m(\u001b[0m\u001b[0mobj\u001b[0m\u001b[0;34m,\u001b[0m \u001b[0mvalue\u001b[0m\u001b[0;34m)\u001b[0m  \u001b[0;31m# type:ignore[attr-defined]\u001b[0m\u001b[0;34m\u001b[0m\u001b[0;34m\u001b[0m\u001b[0m\n\u001b[0m\u001b[1;32m    722\u001b[0m         \u001b[0;32mif\u001b[0m \u001b[0mobj\u001b[0m\u001b[0;34m.\u001b[0m\u001b[0m_cross_validation_lock\u001b[0m \u001b[0;32mis\u001b[0m \u001b[0;32mFalse\u001b[0m\u001b[0;34m:\u001b[0m\u001b[0;34m\u001b[0m\u001b[0;34m\u001b[0m\u001b[0m\n\u001b[1;32m    723\u001b[0m             \u001b[0mvalue\u001b[0m \u001b[0;34m=\u001b[0m \u001b[0mself\u001b[0m\u001b[0;34m.\u001b[0m\u001b[0m_cross_validate\u001b[0m\u001b[0;34m(\u001b[0m\u001b[0mobj\u001b[0m\u001b[0;34m,\u001b[0m \u001b[0mvalue\u001b[0m\u001b[0;34m)\u001b[0m\u001b[0;34m\u001b[0m\u001b[0;34m\u001b[0m\u001b[0m\n",
      "\u001b[0;32m/opt/miniconda3/lib/python3.8/site-packages/traitlets/traitlets.py\u001b[0m in \u001b[0;36mvalidate\u001b[0;34m(self, obj, value)\u001b[0m\n\u001b[1;32m   2689\u001b[0m             \u001b[0;32massert\u001b[0m \u001b[0mself\u001b[0m\u001b[0;34m.\u001b[0m\u001b[0mklass\u001b[0m \u001b[0;32mis\u001b[0m \u001b[0;32mnot\u001b[0m \u001b[0;32mNone\u001b[0m\u001b[0;34m\u001b[0m\u001b[0;34m\u001b[0m\u001b[0m\n\u001b[1;32m   2690\u001b[0m             \u001b[0mvalue\u001b[0m \u001b[0;34m=\u001b[0m \u001b[0mself\u001b[0m\u001b[0;34m.\u001b[0m\u001b[0mklass\u001b[0m\u001b[0;34m(\u001b[0m\u001b[0mvalue\u001b[0m\u001b[0;34m)\u001b[0m  \u001b[0;31m# type:ignore[operator]\u001b[0m\u001b[0;34m\u001b[0m\u001b[0;34m\u001b[0m\u001b[0m\n\u001b[0;32m-> 2691\u001b[0;31m         \u001b[0mvalue\u001b[0m \u001b[0;34m=\u001b[0m \u001b[0msuper\u001b[0m\u001b[0;34m(\u001b[0m\u001b[0;34m)\u001b[0m\u001b[0;34m.\u001b[0m\u001b[0mvalidate\u001b[0m\u001b[0;34m(\u001b[0m\u001b[0mobj\u001b[0m\u001b[0;34m,\u001b[0m \u001b[0mvalue\u001b[0m\u001b[0;34m)\u001b[0m\u001b[0;34m\u001b[0m\u001b[0;34m\u001b[0m\u001b[0m\n\u001b[0m\u001b[1;32m   2692\u001b[0m         \u001b[0;32mif\u001b[0m \u001b[0mvalue\u001b[0m \u001b[0;32mis\u001b[0m \u001b[0;32mNone\u001b[0m\u001b[0;34m:\u001b[0m\u001b[0;34m\u001b[0m\u001b[0;34m\u001b[0m\u001b[0m\n\u001b[1;32m   2693\u001b[0m             \u001b[0;32mreturn\u001b[0m \u001b[0mvalue\u001b[0m\u001b[0;34m\u001b[0m\u001b[0;34m\u001b[0m\u001b[0m\n",
      "\u001b[0;32m/opt/miniconda3/lib/python3.8/site-packages/traitlets/traitlets.py\u001b[0m in \u001b[0;36mvalidate\u001b[0;34m(self, obj, value)\u001b[0m\n\u001b[1;32m   2030\u001b[0m             \u001b[0;32mreturn\u001b[0m \u001b[0mvalue\u001b[0m\u001b[0;34m\u001b[0m\u001b[0;34m\u001b[0m\u001b[0m\n\u001b[1;32m   2031\u001b[0m         \u001b[0;32melse\u001b[0m\u001b[0;34m:\u001b[0m\u001b[0;34m\u001b[0m\u001b[0;34m\u001b[0m\u001b[0m\n\u001b[0;32m-> 2032\u001b[0;31m             \u001b[0mself\u001b[0m\u001b[0;34m.\u001b[0m\u001b[0merror\u001b[0m\u001b[0;34m(\u001b[0m\u001b[0mobj\u001b[0m\u001b[0;34m,\u001b[0m \u001b[0mvalue\u001b[0m\u001b[0;34m)\u001b[0m\u001b[0;34m\u001b[0m\u001b[0;34m\u001b[0m\u001b[0m\n\u001b[0m\u001b[1;32m   2033\u001b[0m \u001b[0;34m\u001b[0m\u001b[0m\n\u001b[1;32m   2034\u001b[0m     \u001b[0;32mdef\u001b[0m \u001b[0minfo\u001b[0m\u001b[0;34m(\u001b[0m\u001b[0mself\u001b[0m\u001b[0;34m)\u001b[0m\u001b[0;34m:\u001b[0m\u001b[0;34m\u001b[0m\u001b[0;34m\u001b[0m\u001b[0m\n",
      "\u001b[0;32m/opt/miniconda3/lib/python3.8/site-packages/traitlets/traitlets.py\u001b[0m in \u001b[0;36merror\u001b[0;34m(self, obj, value, error, info)\u001b[0m\n\u001b[1;32m    825\u001b[0m                         \u001b[0mdescribe\u001b[0m\u001b[0;34m(\u001b[0m\u001b[0;34m\"the\"\u001b[0m\u001b[0;34m,\u001b[0m \u001b[0mvalue\u001b[0m\u001b[0;34m)\u001b[0m\u001b[0;34m,\u001b[0m\u001b[0;34m\u001b[0m\u001b[0;34m\u001b[0m\u001b[0m\n\u001b[1;32m    826\u001b[0m                     )\n\u001b[0;32m--> 827\u001b[0;31m                 \u001b[0;32mraise\u001b[0m \u001b[0mTraitError\u001b[0m\u001b[0;34m(\u001b[0m\u001b[0me\u001b[0m\u001b[0;34m)\u001b[0m\u001b[0;34m\u001b[0m\u001b[0;34m\u001b[0m\u001b[0m\n\u001b[0m\u001b[1;32m    828\u001b[0m \u001b[0;34m\u001b[0m\u001b[0m\n\u001b[1;32m    829\u001b[0m     \u001b[0;32mdef\u001b[0m \u001b[0mget_metadata\u001b[0m\u001b[0;34m(\u001b[0m\u001b[0mself\u001b[0m\u001b[0;34m,\u001b[0m \u001b[0mkey\u001b[0m\u001b[0;34m,\u001b[0m \u001b[0mdefault\u001b[0m\u001b[0;34m=\u001b[0m\u001b[0;32mNone\u001b[0m\u001b[0;34m)\u001b[0m\u001b[0;34m:\u001b[0m\u001b[0;34m\u001b[0m\u001b[0;34m\u001b[0m\u001b[0m\n",
      "\u001b[0;31mTraitError\u001b[0m: The 'value' trait of a SelectMultiple instance expected a tuple, not the str 'compositional'."
     ]
    }
   ],
   "source": [
    "app.set('map_type','compositional')"
   ]
  },
  {
   "cell_type": "code",
   "execution_count": null,
   "id": "7144dc1a-eb24-49a5-87f0-abfa5101bc84",
   "metadata": {},
   "outputs": [],
   "source": []
  }
 ],
 "metadata": {
  "kernelspec": {
   "display_name": "Python 3 (ipykernel)",
   "language": "python",
   "name": "python3"
  },
  "language_info": {
   "codemirror_mode": {
    "name": "ipython",
    "version": 3
   },
   "file_extension": ".py",
   "mimetype": "text/x-python",
   "name": "python",
   "nbconvert_exporter": "python",
   "pygments_lexer": "ipython3",
   "version": "3.8.10"
  }
 },
 "nbformat": 4,
 "nbformat_minor": 5
}
