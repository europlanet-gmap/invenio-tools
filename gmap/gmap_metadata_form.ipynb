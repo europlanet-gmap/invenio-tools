{
 "cells": [
  {
   "cell_type": "markdown",
   "id": "7297e158-1777-49d7-9b02-ceb833e9acde",
   "metadata": {},
   "source": [
    "# GMAP package metadata form\n",
    "\n",
    "| Field | Field description (and example entries) |\n",
    "| --- | --- |\n",
    "| Map name (GMAP_ID) | Unique package name (`GMAP-{{target-body}}-{{content-type}}-{{label}}`) |\n",
    "| Target body | Name of target body (eg, `Mercury`) |\n",
    "| Title of map | Map title (eg, `Awesome Geologic Map of the region X`) |\n",
    "| Bounding box - Min Lat | Minimum latitude in degrees [-90:90) (< Max Lat) |\n",
    "| Bounding box - Max Lat | Maximum latitude in degrees (-90:90] (> Min Lat) |\n",
    "| Bounding box - Min Lon | West-most Longitude in degrees [-180:180) (< Max Lon) |\n",
    "| Bounding box - Max Lon | East-most Longitude in degrees (-180:180] (> Min Lon) |\n",
    "| Author(s) | Semi-colon separated list of authors |\n",
    "| Type | Either \"draft\" or \"released\" |\n",
    "| Output scale | Map spatial scale |\n",
    "| Original Coordinate Reference System | WKT declaring map' CRS |\n",
    "| Data used | Semi-colon separated list of ancillary, original data used |\n",
    "| Standards adhered to | Semi-colon list of standards used in the map |\n",
    "| DOI of companion paper(s) | DOI of linked publication |\n",
    "| Aims | Reason, goal for this map |\n",
    "| Short description | Free-text (500 words maximum) describing the map |\n",
    "| Related products | Other geological maps complementing this one |\n",
    "| Units Definition (polygon styling) | Units color definition |\n",
    "| Stratigraphic info | Description of stratigraphic elements in the map |\n",
    "| Other comments | free-text (notes, errata, warnings) |\n",
    "| Heritage used | heritage information |\n",
    "| Link to other data | Links to extenal resources |\n",
    "| Acknowledgements | Free-text acknowledge |"
   ]
  },
  {
   "cell_type": "code",
   "execution_count": 1,
   "id": "ef03d67b-28dc-45ec-9236-88d1d5cafabd",
   "metadata": {},
   "outputs": [],
   "source": [
    "json_schema = {\n",
    "  # \"$id\": \"planmap.schema.json\",\n",
    "\n",
    "  \"title\": \"PLanmap package schema\",\n",
    "  \"$comment\": \"Define Planmap data package metadata\",\n",
    "\n",
    "  \"type\" : \"object\",\n",
    "\n",
    "  \"properties\": {\n",
    "      \"pm_id\": { \"type\" : \"string\" },\n",
    "      \n",
    "      \"title\": { \"type\" : \"string\" },\n",
    "      \n",
    "      \"target\": { \n",
    "          \"enum\": [\"mars\",\"mercury\",\"moon\",\"venus\"] \n",
    "      },\n",
    "      \n",
    "      \"authors\": { \n",
    "          \"type\": \"array\",\n",
    "          \"items\": {\n",
    "              \"type\": \"string\"\n",
    "          },\n",
    "          \"minItems\": 1\n",
    "      },\n",
    "      \n",
    "    \"bbox_lat_min\": { \n",
    "      \"type\" : \"number\",\n",
    "      \"minimum\": -90,\n",
    "      \"maximum\": 90\n",
    "     },\n",
    "    \"bbox_lat_max\": { \n",
    "      \"type\" : \"number\",\n",
    "      \"minimum\": -90,\n",
    "      \"maximum\": 90\n",
    "     },\n",
    "    \"bbox_lon_west\": { \n",
    "      \"type\" : \"number\",\n",
    "      \"minimum\": -180,\n",
    "      \"maximum\": 180\n",
    "     },\n",
    "    \"bbox_lon_east\": { \n",
    "      \"type\" : \"number\",\n",
    "      \"minimum\": -180,\n",
    "      \"maximum\": 180\n",
    "     },\n",
    "      \n",
    "      \"crs\": { \"type\": \"string\" },\n",
    "      \n",
    "      \"output_scale\": { \"type\": \"string\" }\n",
    "  },\n",
    "\n",
    "#   \"patternProperties\": {\n",
    "#     \"^Aims\": { \"type\": \"string\" },\n",
    "#     \"^Author\": { \"type\" : \"string\" },\n",
    "#     \"^Acknowledgements\": { \"type\": \"string\" },\n",
    "#     \"^DOI\" : { \"type\": \"string\" },\n",
    "#     \"^Link\": { \"type\": \"string\" },\n",
    "#     \"^Map name\": { \"type\": \"string\" },\n",
    "#     \"^Other comments\": { \"type\": \"string\" },\n",
    "#     \"^Related products\": { \"type\": \"string\" },\n",
    "#     \"^Standards\": { \"type\": \"string\" },\n",
    "#     \"^Stratigraphic info\": { \"type\": \"string\" },\n",
    "#     \"^Units Definition\": { \"type\": \"string\" },\n",
    "\n",
    "#   },\n",
    "\n",
    "#   \"additionalProperties\": { \"type\" : \"boolean\" }\n",
    "}\n",
    "\n",
    "\n",
    "layout = [\n",
    "    'title',\n",
    "    'shortname',\n",
    "    'map_type',\n",
    "    'target',\n",
    "    [\n",
    "        {\"Longitude (west,east) [-180:180]\": ['bbox_lon_west', 'bbox_lon_east']},\n",
    "        {\"Latitude (min,max) [-90:90]\": ['bbox_lat_min', 'bbox_lat_max']}\n",
    "    ],\n",
    "    'publication_date',\n",
    "    'doi',\n",
    "    'authors',\n",
    "    [\n",
    "        # {\"Map description\": ['description', 'aims', 'units', 'stratigraphic_info']},\n",
    "        {\"Spatial attributes\": ['crs', 'output_scale']},\n",
    "        # {\"Ancillary data\": ['ancillary_data', 'related_products', 'heritage', 'extra_data']},\n",
    "        # {\"Notes\": ['standards', 'comments', 'acknowledge']}\n",
    "    ]\n",
    "]\n"
   ]
  },
  {
   "cell_type": "code",
   "execution_count": 2,
   "id": "8e0ac00f-53a3-46ab-8a29-ffaebaed7348",
   "metadata": {},
   "outputs": [],
   "source": [
    "schema = {\n",
    "    \"type\": \"object\",\n",
    "    \n",
    "    \"properties\": {\n",
    "        'title': {\n",
    "            \"type\": \"string\",\n",
    "            \"description\": \"Map title\"\n",
    "        },\n",
    "\n",
    "        'shortname': {\n",
    "            \"type\": \"string\"\n",
    "        },\n",
    "\n",
    "        'map_type': {\n",
    "            \"description\": \"Map type\",\n",
    "            \"type\": \"array\",\n",
    "            \"items\": {\n",
    "                \"type\": \"string\",\n",
    "                \"enum\": [\"M\",\"C\",\"I\",\"S\"]\n",
    "            },\n",
    "            \"minItems\": 1,\n",
    "            \"uniqueItems\": True\n",
    "        },\n",
    "\n",
    "        'target': {\n",
    "            \"description\": \"Target body\",\n",
    "            \"type\": \"string\",\n",
    "            \"enum\": ['Mars', 'Mercury', 'Moon', 'Venus']\n",
    "        },\n",
    "\n",
    "        'authors': {\n",
    "            \"type\": \"array\",\n",
    "            \"items\": {\n",
    "                \"type\": \"string\"\n",
    "            },\n",
    "            \"minItems\": 1\n",
    "        },\n",
    "\n",
    "        'bbox_lon_west': {\n",
    "            \"description\": \"West Longitude\",\n",
    "            \"type\": \"number\",\n",
    "            \"minimum\": -180,\n",
    "            \"maximum\": 180\n",
    "        }, \n",
    "\n",
    "        'bbox_lon_east': {\n",
    "            \"description\": \"East Longitude\",\n",
    "            \"type\": \"number\",\n",
    "            \"minimum\": -180,\n",
    "            \"maximum\": 180\n",
    "        },\n",
    "\n",
    "        'bbox_lat_min': {\n",
    "            \"description\": \"Min Latitude\",\n",
    "            \"type\": \"number\",\n",
    "            \"minimum\": -90,\n",
    "            \"maximum\": 90\n",
    "        }, \n",
    "\n",
    "        'bbox_lat_max': {\n",
    "            \"description\": \"Max Latitude\",\n",
    "            \"type\": \"number\",\n",
    "            \"minimum\": -90,\n",
    "            \"maximum\": 90\n",
    "        }, \n",
    "\n",
    "        'publication_date': {\n",
    "            \"description\": \"Publication date\",\n",
    "            \"type\": \"string\",\n",
    "            \"format\": \"date\"\n",
    "        },\n",
    "\n",
    "        'doi': {\n",
    "            \"type\": \"string\",\n",
    "        },\n",
    "\n",
    "        'crs': {\n",
    "            \"type\": \"string\",\n",
    "        },\n",
    "\n",
    "        'output_scale': {\n",
    "            \"type\": \"string\",\n",
    "        }\n",
    "    }\n",
    "}"
   ]
  },
  {
   "cell_type": "code",
   "execution_count": 3,
   "id": "a508c22e-b561-46de-bf57-cb2065534580",
   "metadata": {},
   "outputs": [
    {
     "data": {
      "application/vnd.jupyter.widget-view+json": {
       "model_id": "7bc7546779694c86b7cb4836b69c9a40",
       "version_major": 2,
       "version_minor": 0
      },
      "text/plain": [
       "AppLayout(children=(VBox(children=(Text(value='', description='Title'), Text(value='', description='Shortname'…"
      ]
     },
     "metadata": {},
     "output_type": "display_data"
    }
   ],
   "source": [
    "from api.gui import display,form\n",
    "\n",
    "app = form.Form(schema=schema, layout=layout)\n",
    "display(app.widget)"
   ]
  },
  {
   "cell_type": "code",
   "execution_count": 4,
   "id": "00dce35a-3fc2-4741-a300-5c077868f79d",
   "metadata": {},
   "outputs": [],
   "source": [
    "app.set('doi','bla')"
   ]
  },
  {
   "cell_type": "code",
   "execution_count": 5,
   "id": "50e73b2a-3fe4-4ac4-b216-a89e3fdacc2c",
   "metadata": {},
   "outputs": [],
   "source": [
    "app.set('target','Venus')"
   ]
  },
  {
   "cell_type": "code",
   "execution_count": 6,
   "id": "6896943d-e18c-4a7d-9d54-d22a1f6ea7ba",
   "metadata": {},
   "outputs": [],
   "source": [
    "app.set('shortname','asdf')"
   ]
  },
  {
   "cell_type": "code",
   "execution_count": 7,
   "id": "23739516-bcab-4c22-bfe8-65756a4d0e09",
   "metadata": {},
   "outputs": [],
   "source": [
    "app.set('map_type',list('MS'))"
   ]
  },
  {
   "cell_type": "code",
   "execution_count": 8,
   "id": "7144dc1a-eb24-49a5-87f0-abfa5101bc84",
   "metadata": {},
   "outputs": [],
   "source": [
    "app.set('authors',['bla','ble'])"
   ]
  },
  {
   "cell_type": "code",
   "execution_count": 9,
   "id": "f088a04e-6b0f-4f72-b7cb-bf6dc2aea992",
   "metadata": {},
   "outputs": [
    {
     "data": {
      "text/plain": [
       "['bla', 'ble']"
      ]
     },
     "execution_count": 9,
     "metadata": {},
     "output_type": "execute_result"
    }
   ],
   "source": [
    "app.get('authors')"
   ]
  },
  {
   "cell_type": "code",
   "execution_count": 10,
   "id": "8db2e270-8704-4e21-92a5-b2c3adb374a2",
   "metadata": {},
   "outputs": [
    {
     "data": {
      "text/plain": [
       "{'title': Text(value='', description='Title'),\n",
       " 'shortname': Text(value='asdf', description='Shortname'),\n",
       " 'map_type': SelectMultiple(description='Map Type', index=(0, 3), options=('M', 'C', 'I', 'S'), value=('M', 'S')),\n",
       " 'target': Dropdown(description='Target', index=3, options=('Mars', 'Mercury', 'Moon', 'Venus'), value='Venus'),\n",
       " 'authors': Items(children=(Button(icon='plus', style=ButtonStyle()), HBox(children=(Text(value='bla', description='Text field'), Button(icon='trash', style=ButtonStyle()))), HBox(children=(Text(value='ble', description='Text field'), Button(icon='trash', style=ButtonStyle()))))),\n",
       " 'bbox_lon_west': FloatText(value=0.0, description='Bbox Lon West'),\n",
       " 'bbox_lon_east': FloatText(value=0.0, description='Bbox Lon East'),\n",
       " 'bbox_lat_min': FloatText(value=0.0, description='Bbox Lat Min'),\n",
       " 'bbox_lat_max': FloatText(value=0.0, description='Bbox Lat Max'),\n",
       " 'publication_date': Text(value='', description='Publication Date'),\n",
       " 'doi': Text(value='bla', description='Doi'),\n",
       " 'crs': Text(value='', description='Crs'),\n",
       " 'output_scale': Text(value='', description='Output Scale')}"
      ]
     },
     "execution_count": 10,
     "metadata": {},
     "output_type": "execute_result"
    }
   ],
   "source": [
    "app.data"
   ]
  },
  {
   "cell_type": "code",
   "execution_count": null,
   "id": "26dc29d9-5125-4a42-a2da-063cb6637118",
   "metadata": {},
   "outputs": [],
   "source": []
  }
 ],
 "metadata": {
  "kernelspec": {
   "display_name": "Python 3 (ipykernel)",
   "language": "python",
   "name": "python3"
  },
  "language_info": {
   "codemirror_mode": {
    "name": "ipython",
    "version": 3
   },
   "file_extension": ".py",
   "mimetype": "text/x-python",
   "name": "python",
   "nbconvert_exporter": "python",
   "pygments_lexer": "ipython3",
   "version": "3.8.10"
  }
 },
 "nbformat": 4,
 "nbformat_minor": 5
}
