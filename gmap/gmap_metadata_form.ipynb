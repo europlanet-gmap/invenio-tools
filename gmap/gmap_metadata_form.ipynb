{
 "cells": [
  {
   "cell_type": "markdown",
   "id": "7297e158-1777-49d7-9b02-ceb833e9acde",
   "metadata": {},
   "source": [
    "# GMAP package metadata form\n",
    "\n",
    "| Field | Field description (and example entries) |\n",
    "| --- | --- |\n",
    "| Map name (GMAP_ID) | Unique package name (`GMAP-{{target-body}}-{{content-type}}-{{label}}`) |\n",
    "| Target body | Name of target body (eg, `Mercury`) |\n",
    "| Title of map | Map title (eg, `Awesome Geologic Map of the region X`) |\n",
    "| Bounding box - Min Lat | Minimum latitude in degrees [-90:90) (< Max Lat) |\n",
    "| Bounding box - Max Lat | Maximum latitude in degrees (-90:90] (> Min Lat) |\n",
    "| Bounding box - Min Lon | West-most Longitude in degrees [-180:180) (< Max Lon) |\n",
    "| Bounding box - Max Lon | East-most Longitude in degrees (-180:180] (> Min Lon) |\n",
    "| Author(s) | Semi-colon separated list of authors |\n",
    "| Type | Either \"draft\" or \"released\" |\n",
    "| Output scale | Map spatial scale |\n",
    "| Original Coordinate Reference System | WKT declaring map' CRS |\n",
    "| Data used | Semi-colon separated list of ancillary, original data used |\n",
    "| Standards adhered to | Semi-colon list of standards used in the map |\n",
    "| DOI of companion paper(s) | DOI of linked publication |\n",
    "| Aims | Reason, goal for this map |\n",
    "| Short description | Free-text (500 words maximum) describing the map |\n",
    "| Related products | Other geological maps complementing this one |\n",
    "| Units Definition (polygon styling) | Units color definition |\n",
    "| Stratigraphic info | Description of stratigraphic elements in the map |\n",
    "| Other comments | free-text (notes, errata, warnings) |\n",
    "| Heritage used | heritage information |\n",
    "| Link to other data | Links to extenal resources |\n",
    "| Acknowledgements | Free-text acknowledge |"
   ]
  },
  {
   "cell_type": "code",
   "execution_count": 1,
   "id": "a508c22e-b561-46de-bf57-cb2065534580",
   "metadata": {},
   "outputs": [
    {
     "data": {
      "application/vnd.jupyter.widget-view+json": {
       "model_id": "51711df54e52484b93764dc31efdb967",
       "version_major": 2,
       "version_minor": 0
      },
      "text/plain": [
       "AppLayout(children=(Text(value='', description='<i style=\"color:gray\">GMAP-ID</i>', disabled=True, layout=Layo…"
      ]
     },
     "metadata": {},
     "output_type": "display_data"
    }
   ],
   "source": [
    "from api.gui import display,app\n",
    "\n",
    "display(app)"
   ]
  },
  {
   "cell_type": "code",
   "execution_count": null,
   "id": "531072b7-964d-4a91-8014-bae3c8712d51",
   "metadata": {},
   "outputs": [],
   "source": []
  }
 ],
 "metadata": {
  "kernelspec": {
   "display_name": "Python 3 (ipykernel)",
   "language": "python",
   "name": "python3"
  },
  "language_info": {
   "codemirror_mode": {
    "name": "ipython",
    "version": 3
   },
   "file_extension": ".py",
   "mimetype": "text/x-python",
   "name": "python",
   "nbconvert_exporter": "python",
   "pygments_lexer": "ipython3",
   "version": "3.8.10"
  }
 },
 "nbformat": 4,
 "nbformat_minor": 5
}
