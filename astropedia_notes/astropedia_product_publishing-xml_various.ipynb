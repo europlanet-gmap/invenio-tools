{
 "cells": [
  {
   "cell_type": "markdown",
   "id": "e737b37e-221f-4f40-9e9a-9dbfcd3242c1",
   "metadata": {},
   "source": [
    "# Publishing Astropedia records onto InvenioRDM"
   ]
  },
  {
   "cell_type": "code",
   "execution_count": 1,
   "id": "67207ce5-d1fc-4399-9ae8-6b84f7ce9bdb",
   "metadata": {},
   "outputs": [
    {
     "name": "stdout",
     "output_type": "stream",
     "text": [
      "\n",
      "Toolset to read/parse Astropedia product-page and to publish on InvenioRDM.\n",
      "\n",
      "\n"
     ]
    }
   ],
   "source": [
    "# Module 'api.py' has all the code developed during notebooks \n",
    "# 'astropedia_product_parse' and 'invenvio_records_publish'\n",
    "\n",
    "import api\n",
    "\n",
    "print(api.__doc__)"
   ]
  },
  {
   "cell_type": "code",
   "execution_count": 2,
   "id": "c19e7ad9-8b97-42fd-9616-ccd620265045",
   "metadata": {},
   "outputs": [
    {
     "data": {
      "text/plain": [
       "<api.InvenioClient at 0x7fdd683c25b0>"
      ]
     },
     "execution_count": 2,
     "metadata": {},
     "output_type": "execute_result"
    }
   ],
   "source": [
    "# Initialize Invenio API client\n",
    "\n",
    "# hostname = 'data.europlanet-gmap.eu'\n",
    "# token = 'eOlnSNFaFkKcS8DxzmEXvTeYxUuZTlOwVttXTA23eBCEdoM4hedG4LZCObMQ'\n",
    "hostname = '10.72.2.28'\n",
    "token = 'I1c9WD9pPW3lHUW2HsBhIHhTvgQse7DZNxmXIrgLs0ijdQTUxWwKR1xGuncN'\n",
    "\n",
    "client = api.InvenioClient(hostname, token)\n",
    "client"
   ]
  },
  {
   "cell_type": "code",
   "execution_count": 4,
   "id": "5e53500a-8690-42b6-9ea0-17cc07586c0d",
   "metadata": {},
   "outputs": [
    {
     "name": "stdout",
     "output_type": "stream",
     "text": [
      "Starting parse/publishing of: https://astrogeology.usgs.gov/search/map/Ganymede/Geology/Ganymede_SIM3237_Database.xml\n",
      "..parsing done.\n"
     ]
    },
    {
     "name": "stderr",
     "output_type": "stream",
     "text": [
      "/opt/miniconda3/lib/python3.8/site-packages/urllib3/connectionpool.py:1013: InsecureRequestWarning: Unverified HTTPS request is being made to host '10.72.2.28'. Adding certificate verification is strongly advised. See: https://urllib3.readthedocs.io/en/1.26.x/advanced-usage.html#ssl-warnings\n",
      "  warnings.warn(\n",
      "/opt/miniconda3/lib/python3.8/site-packages/urllib3/connectionpool.py:1013: InsecureRequestWarning: Unverified HTTPS request is being made to host '10.72.2.28'. Adding certificate verification is strongly advised. See: https://urllib3.readthedocs.io/en/1.26.x/advanced-usage.html#ssl-warnings\n",
      "  warnings.warn(\n",
      "/opt/miniconda3/lib/python3.8/site-packages/urllib3/connectionpool.py:1013: InsecureRequestWarning: Unverified HTTPS request is being made to host '10.72.2.28'. Adding certificate verification is strongly advised. See: https://urllib3.readthedocs.io/en/1.26.x/advanced-usage.html#ssl-warnings\n",
      "  warnings.warn(\n",
      "/opt/miniconda3/lib/python3.8/site-packages/urllib3/connectionpool.py:1013: InsecureRequestWarning: Unverified HTTPS request is being made to host '10.72.2.28'. Adding certificate verification is strongly advised. See: https://urllib3.readthedocs.io/en/1.26.x/advanced-usage.html#ssl-warnings\n",
      "  warnings.warn(\n",
      "/opt/miniconda3/lib/python3.8/site-packages/urllib3/connectionpool.py:1013: InsecureRequestWarning: Unverified HTTPS request is being made to host '10.72.2.28'. Adding certificate verification is strongly advised. See: https://urllib3.readthedocs.io/en/1.26.x/advanced-usage.html#ssl-warnings\n",
      "  warnings.warn(\n",
      "/opt/miniconda3/lib/python3.8/site-packages/urllib3/connectionpool.py:1013: InsecureRequestWarning: Unverified HTTPS request is being made to host '10.72.2.28'. Adding certificate verification is strongly advised. See: https://urllib3.readthedocs.io/en/1.26.x/advanced-usage.html#ssl-warnings\n",
      "  warnings.warn(\n",
      "/opt/miniconda3/lib/python3.8/site-packages/urllib3/connectionpool.py:1013: InsecureRequestWarning: Unverified HTTPS request is being made to host '10.72.2.28'. Adding certificate verification is strongly advised. See: https://urllib3.readthedocs.io/en/1.26.x/advanced-usage.html#ssl-warnings\n",
      "  warnings.warn(\n"
     ]
    },
    {
     "name": "stdout",
     "output_type": "stream",
     "text": [
      "..draft created.\n"
     ]
    },
    {
     "name": "stderr",
     "output_type": "stream",
     "text": [
      "/opt/miniconda3/lib/python3.8/site-packages/urllib3/connectionpool.py:1013: InsecureRequestWarning: Unverified HTTPS request is being made to host '10.72.2.28'. Adding certificate verification is strongly advised. See: https://urllib3.readthedocs.io/en/1.26.x/advanced-usage.html#ssl-warnings\n",
      "  warnings.warn(\n"
     ]
    },
    {
     "name": "stdout",
     "output_type": "stream",
     "text": [
      "..draft published.\n"
     ]
    },
    {
     "ename": "KeyError",
     "evalue": "'links'",
     "output_type": "error",
     "traceback": [
      "\u001b[0;31m---------------------------------------------------------------------------\u001b[0m",
      "\u001b[0;31mKeyError\u001b[0m                                  Traceback (most recent call last)",
      "\u001b[0;32m/var/folders/b1/frq3gywj3ljfqrf1yc7zk06r0000gn/T/ipykernel_70759/1293630619.py\u001b[0m in \u001b[0;36m<module>\u001b[0;34m\u001b[0m\n\u001b[1;32m     34\u001b[0m         \u001b[0mres\u001b[0m \u001b[0;34m=\u001b[0m \u001b[0mres_record\u001b[0m\u001b[0;34m\u001b[0m\u001b[0;34m\u001b[0m\u001b[0m\n\u001b[1;32m     35\u001b[0m \u001b[0;34m\u001b[0m\u001b[0m\n\u001b[0;32m---> 36\u001b[0;31m     \u001b[0mlink\u001b[0m \u001b[0;34m=\u001b[0m \u001b[0mres\u001b[0m\u001b[0;34m[\u001b[0m\u001b[0;34m'links'\u001b[0m\u001b[0;34m]\u001b[0m\u001b[0;34m[\u001b[0m\u001b[0;34m'self_html'\u001b[0m\u001b[0;34m]\u001b[0m\u001b[0;34m\u001b[0m\u001b[0;34m\u001b[0m\u001b[0m\n\u001b[0m\u001b[1;32m     37\u001b[0m \u001b[0;34m\u001b[0m\u001b[0m\n\u001b[1;32m     38\u001b[0m     \u001b[0;32mtry\u001b[0m\u001b[0;34m:\u001b[0m\u001b[0;34m\u001b[0m\u001b[0;34m\u001b[0m\u001b[0m\n",
      "\u001b[0;31mKeyError\u001b[0m: 'links'"
     ]
    }
   ],
   "source": [
    "# Publish many records\n",
    "\n",
    "urls = [\n",
    "    # 'https://astrogeology.usgs.gov/search/map/Moon/Geology/Unified_Geologic_Map_of_the_Moon_GIS_v2.xml',\n",
    "    # 'https://astrogeology.usgs.gov/search/map/Mercury/Geology/Mercury_5M_GIS_conversion_v2.xml',\n",
    "    'https://astrogeology.usgs.gov/search/map/Ganymede/Geology/Ganymede_SIM3237_Database.xml',\n",
    "    'https://astrogeology.usgs.gov/search/map/Mars/Geology/Mars15MGeologicGISRenovation.xml',\n",
    "    'https://astrogeology.usgs.gov/search/map/Io/Geology/Io_SIM3168_Database.xml',\n",
    "    'https://astrogeology.usgs.gov/search/map/Mercury/Messenger/Global/Mercury_MESSENGER_MDIS_Basemap_EnhancedColor_Mosaic_Global_665m.xml',\n",
    "    'https://astrogeology.usgs.gov/search/map/Mars/Viking/MDIM21/Mars_Viking_MDIM21_ClrMosaic_global_232m.xml',\n",
    "]\n",
    "\n",
    "for url in urls:\n",
    "    print(\"Starting parse/publishing of:\", url)\n",
    "\n",
    "    # Parse content from URL\n",
    "    data_obj = api.InvenioAstropedia.parse_xml(url)\n",
    "    print(\"..parsing done.\")\n",
    "    #data_obj\n",
    "\n",
    "    # Create record (draft)\n",
    "    res_draft = client.create_draft(data_obj)\n",
    "    print(\"..draft created.\")\n",
    "    #res_draft\n",
    "\n",
    "    open_draft = False\n",
    "\n",
    "    if open_draft:\n",
    "        res = res_draft\n",
    "    else:\n",
    "        # Publish it first\n",
    "        res_record = client.publish_draft(res_draft['id'])\n",
    "        print(f\"..draft published.\")\n",
    "        res = res_record\n",
    "\n",
    "    link = res['links']['self_html']\n",
    "    \n",
    "    try:\n",
    "        # Open a browser tab at just-created record\n",
    "        import webbrowser\n",
    "        webbrowser.open(link)\n",
    "    except:\n",
    "        print(f\"..something blocked auto-open a browser window; here's the link: {link}\")\n",
    "    finally:\n",
    "        print(\"Record/Publication create at:\", link)\n",
    "        \n",
    "print(\"Done publishing URLs.\")\n",
    "              "
   ]
  },
  {
   "cell_type": "code",
   "execution_count": null,
   "id": "23e0c594-197f-432b-985b-f261d8a739bc",
   "metadata": {},
   "outputs": [],
   "source": []
  }
 ],
 "metadata": {
  "kernelspec": {
   "display_name": "Python 3 (ipykernel)",
   "language": "python",
   "name": "python3"
  },
  "language_info": {
   "codemirror_mode": {
    "name": "ipython",
    "version": 3
   },
   "file_extension": ".py",
   "mimetype": "text/x-python",
   "name": "python",
   "nbconvert_exporter": "python",
   "pygments_lexer": "ipython3",
   "version": "3.8.10"
  }
 },
 "nbformat": 4,
 "nbformat_minor": 5
}
