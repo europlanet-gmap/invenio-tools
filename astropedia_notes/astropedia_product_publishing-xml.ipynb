{
 "cells": [
  {
   "cell_type": "markdown",
   "id": "e737b37e-221f-4f40-9e9a-9dbfcd3242c1",
   "metadata": {},
   "source": [
    "# Publishing Astropedia records onto InvenioRDM"
   ]
  },
  {
   "cell_type": "code",
   "execution_count": 1,
   "id": "67207ce5-d1fc-4399-9ae8-6b84f7ce9bdb",
   "metadata": {},
   "outputs": [
    {
     "name": "stdout",
     "output_type": "stream",
     "text": [
      "\n",
      "Toolset to read/parse Astropedia product-page and to publish on InvenioRDM.\n",
      "\n",
      "\n"
     ]
    }
   ],
   "source": [
    "# Module 'api.py' has all the code developed during notebooks \n",
    "# 'astropedia_product_parse' and 'invenvio_records_publish'\n",
    "\n",
    "import api\n",
    "\n",
    "print(api.__doc__)"
   ]
  },
  {
   "cell_type": "code",
   "execution_count": 2,
   "id": "07c21ef0-a84b-4915-afc1-72125e7d6685",
   "metadata": {},
   "outputs": [
    {
     "data": {
      "text/plain": [
       "'https://astrogeology.usgs.gov/search/map/Moon/Geology/Unified_Geologic_Map_of_the_Moon_GIS_v2.xml'"
      ]
     },
     "execution_count": 2,
     "metadata": {},
     "output_type": "execute_result"
    }
   ],
   "source": [
    "# Publish an individual record\n",
    "\n",
    "url = (\n",
    "    'https://astrogeology.usgs.gov/search/map/Moon/Geology/'\n",
    "    'Unified_Geologic_Map_of_the_Moon_GIS_v2.xml'\n",
    ")\n",
    "\n",
    "url"
   ]
  },
  {
   "cell_type": "code",
   "execution_count": 8,
   "id": "29f6491d-aade-44d3-9146-3a28f4824d19",
   "metadata": {},
   "outputs": [
    {
     "data": {
      "text/plain": [
       "{'title': 'Unified Geologic Map of the Moon, 1:5M, 2020',\n",
       " 'date_pub': '20200303',\n",
       " 'origin': 'USGS Astrogeology Science Center',\n",
       " 'url': 'https://astrogeology.usgs.gov/search/map/Moon/Geology/Unified_Geologic_Map_of_the_Moon_GIS_v2',\n",
       " 'description': 'This new work represents a seamless, globally consistent, 1:5,000,000-scale geologic map derived from \\n the six digitally renovated geologic maps (see Source Online Linkage below). The goal of this project was to \\ncreate a digital resource for science research and analysis, future geologic mapping efforts, be it local-, regional-, \\nor global-scale products, and as a resource\\n for the educators and the public interested in lunar geology. Here we present the completed mapping \\n project as unit contacts, geologic unit polygons, linear features, and unit and feature nomenclature \\n annotation. The product overlies shaded-relief products derived from SELENE Kaguya terrain camera stereo \\n (equatorial, ~60 m/pix) and LOLA altimetry (north and south polar, 100 m/pix). These data are not \\n included with this download due to size considerations, but a readme in the \"Lunar_Raster\" folder \\n provides the download links. This download page includes a PDF of the geologic map (right-side) with a brief Description \\n of Map Units and Explanation of Map Symbols, as well as a JPG of the map for quick access viewing.  This release is subject to update based on community feedback and peer-review.\\n\\n<b>Version 2 updates</b>: \\nTwo errors were addressed in this update:\\n(1) Large area polygons were offset from their contacts, likely due to user error. Polygons were rebuilt \\nto fix the issue and post processing (dissolving, reattributing, etc.) to rectify the aesthetic of the map. \\n(2) Contacts were not visible but should have been due to incorrect labeling as DND (do not draw). Those that \\nneeded to be drawn have been reattributed as \"certain\" those that are not drawn are labeled as \"internal\".   \\nAdditionally, in version 1 of this data, crater polygons with similar attributes had been dissolved and lumped \\ninto contiguous units. This has been changed so that all craters are now discrete units. This adds ~1000 units \\nto the GeoUnits featureclass and the related contacts are now visible and labeled as \"certain\".  \\n\\n\\n<b>References:</b>\\n\\nFortezzo, C.M., Spudis, P. D. and Harrel, S. L. (2020). <em>Release of the Digital Unified Global Geologic Map of the Moon At 1:5,000,000- Scale.</em> Paper presented at the 51st Lunar and Planetary Science Conference, Lunar and Planetary Institute, Houston, TX. <a href=\\'https://www.hou.usra.edu/meetings/lpsc2020/pdf/2760.pdf\\' target=\\'_blank\\'>https://www.hou.usra.edu/meetings/lpsc2020/pdf/2760.pdf</a>',\n",
       " 'authors': ['Fortezzo, C.M.', 'Spudis, P. D.', 'Harrel, S. L.'],\n",
       " 'document_url': 'https://www.hou.usra.edu/meetings/lpsc2020/pdf/2760.pdf',\n",
       " 'status': 'Complete',\n",
       " 'bounding_box': {'westlon': -180.0,\n",
       "  'eastlon': 180.0,\n",
       "  'minlat': -90.0,\n",
       "  'maxlat': 90.0},\n",
       " 'scope': ['PGM', 'MRCTR'],\n",
       " 'browse': 'http://astropedia.astrogeology.usgs.gov/download/Moon/Geology/thumbs/merc_Unified_Geologic_Map_of_The_Moon_1024.jpg',\n",
       " 'product_url': 'http://astropedia.astrogeology.usgs.gov/download/Moon/Geology/Unified_Geologic_Map_of_the_Moon_GIS_v2.zip'}"
      ]
     },
     "execution_count": 8,
     "metadata": {},
     "output_type": "execute_result"
    }
   ],
   "source": [
    "# Parse content from URL\n",
    "\n",
    "data_obj = api.InvenioAstropedia.parse_xml(url)\n",
    "data_obj.asdict()"
   ]
  },
  {
   "cell_type": "code",
   "execution_count": 4,
   "id": "c19e7ad9-8b97-42fd-9616-ccd620265045",
   "metadata": {},
   "outputs": [
    {
     "data": {
      "text/plain": [
       "<api.InvenioClient at 0x7ff4a8bc4d60>"
      ]
     },
     "execution_count": 4,
     "metadata": {},
     "output_type": "execute_result"
    }
   ],
   "source": [
    "# Initialize Invenio API client\n",
    "\n",
    "hostname = '10.72.2.28'\n",
    "token = 'I1c9WD9pPW3lHUW2HsBhIHhTvgQse7DZNxmXIrgLs0ijdQTUxWwKR1xGuncN'\n",
    "\n",
    "client = api.InvenioClient(hostname, token)\n",
    "client"
   ]
  },
  {
   "cell_type": "code",
   "execution_count": 5,
   "id": "e1275915-10ee-4141-ab60-a93acf21029b",
   "metadata": {},
   "outputs": [
    {
     "name": "stderr",
     "output_type": "stream",
     "text": [
      "/opt/miniconda3/lib/python3.8/site-packages/urllib3/connectionpool.py:1013: InsecureRequestWarning: Unverified HTTPS request is being made to host '10.72.2.28'. Adding certificate verification is strongly advised. See: https://urllib3.readthedocs.io/en/1.26.x/advanced-usage.html#ssl-warnings\n",
      "  warnings.warn(\n",
      "/opt/miniconda3/lib/python3.8/site-packages/urllib3/connectionpool.py:1013: InsecureRequestWarning: Unverified HTTPS request is being made to host '10.72.2.28'. Adding certificate verification is strongly advised. See: https://urllib3.readthedocs.io/en/1.26.x/advanced-usage.html#ssl-warnings\n",
      "  warnings.warn(\n",
      "/opt/miniconda3/lib/python3.8/site-packages/urllib3/connectionpool.py:1013: InsecureRequestWarning: Unverified HTTPS request is being made to host '10.72.2.28'. Adding certificate verification is strongly advised. See: https://urllib3.readthedocs.io/en/1.26.x/advanced-usage.html#ssl-warnings\n",
      "  warnings.warn(\n",
      "/opt/miniconda3/lib/python3.8/site-packages/urllib3/connectionpool.py:1013: InsecureRequestWarning: Unverified HTTPS request is being made to host '10.72.2.28'. Adding certificate verification is strongly advised. See: https://urllib3.readthedocs.io/en/1.26.x/advanced-usage.html#ssl-warnings\n",
      "  warnings.warn(\n",
      "/opt/miniconda3/lib/python3.8/site-packages/urllib3/connectionpool.py:1013: InsecureRequestWarning: Unverified HTTPS request is being made to host '10.72.2.28'. Adding certificate verification is strongly advised. See: https://urllib3.readthedocs.io/en/1.26.x/advanced-usage.html#ssl-warnings\n",
      "  warnings.warn(\n",
      "/opt/miniconda3/lib/python3.8/site-packages/urllib3/connectionpool.py:1013: InsecureRequestWarning: Unverified HTTPS request is being made to host '10.72.2.28'. Adding certificate verification is strongly advised. See: https://urllib3.readthedocs.io/en/1.26.x/advanced-usage.html#ssl-warnings\n",
      "  warnings.warn(\n",
      "/opt/miniconda3/lib/python3.8/site-packages/urllib3/connectionpool.py:1013: InsecureRequestWarning: Unverified HTTPS request is being made to host '10.72.2.28'. Adding certificate verification is strongly advised. See: https://urllib3.readthedocs.io/en/1.26.x/advanced-usage.html#ssl-warnings\n",
      "  warnings.warn(\n"
     ]
    },
    {
     "data": {
      "text/plain": [
       "{'id': 'enhzg-fyv94',\n",
       " 'revision_id': 4,\n",
       " 'expires_at': '2022-04-21 10:00:44.230027',\n",
       " 'is_published': False,\n",
       " 'versions': {'index': 1, 'is_latest_draft': True, 'is_latest': False},\n",
       " 'access': {'status': 'open',\n",
       "  'files': 'public',\n",
       "  'record': 'public',\n",
       "  'embargo': {'active': False, 'reason': None}},\n",
       " 'parent': {'id': '1h33e-81w20',\n",
       "  'access': {'links': [], 'owned_by': [{'user': 2}]}},\n",
       " 'files': {'enabled': True, 'order': []},\n",
       " 'metadata': {'creators': [{'person_or_org': {'given_name': 'C.M.',\n",
       "     'type': 'personal',\n",
       "     'name': 'Fortezzo, C.M.',\n",
       "     'family_name': 'Fortezzo'}},\n",
       "   {'person_or_org': {'given_name': 'P. D.',\n",
       "     'type': 'personal',\n",
       "     'name': 'Spudis, P. D.',\n",
       "     'family_name': 'Spudis'}},\n",
       "   {'person_or_org': {'given_name': 'S. L.',\n",
       "     'type': 'personal',\n",
       "     'name': 'Harrel, S. L.',\n",
       "     'family_name': 'Harrel'}}],\n",
       "  'description': 'This new work represents a seamless, globally consistent, 1:5,000,000-scale geologic map derived from  the six digitally renovated geologic maps (see Source Online Linkage below). The goal of this project was to create a digital resource for science research and analysis, future geologic mapping efforts, be it local-, regional-, or global-scale products, and as a resource for the educators and the public interested in lunar geology. Here we present the completed mapping  project as unit contacts, geologic unit polygons, linear features, and unit and feature nomenclature  annotation. The product overlies shaded-relief products derived from SELENE Kaguya terrain camera stereo  (equatorial, ~60 m/pix) and LOLA altimetry (north and south polar, 100 m/pix). These data are not  included with this download due to size considerations, but a readme in the \"Lunar_Raster\" folder  provides the download links. This download page includes a PDF of the geologic map (right-side) with a brief Description  of Map Units and Explanation of Map Symbols, as well as a JPG of the map for quick access viewing.  This release is subject to update based on community feedback and peer-review.<br><p><b>Version 2 updates</b>: Two errors were addressed in this update:(1) Large area polygons were offset from their contacts, likely due to user error. Polygons were rebuilt to fix the issue and post processing (dissolving, reattributing, etc.) to rectify the aesthetic of the map. (2) Contacts were not visible but should have been due to incorrect labeling as DND (do not draw). Those that needed to be drawn have been reattributed as \"certain\" those that are not drawn are labeled as \"internal\".   Additionally, in version 1 of this data, crater polygons with similar attributes had been dissolved and lumped into contiguous units. This has been changed so that all craters are now discrete units. This adds ~1000 units to the GeoUnits featureclass and the related contacts are now visible and labeled as \"certain\".  <br></p><p><b>References:</b><br>Fortezzo, C.M., Spudis, P. D. and Harrel, S. L. (2020). <em>Release of the Digital Unified Global Geologic Map of the Moon At 1:5,000,000- Scale.</em> Paper presented at the 51st Lunar and Planetary Science Conference, Lunar and Planetary Institute, Houston, TX. <a href=\"https://www.hou.usra.edu/meetings/lpsc2020/pdf/2760.pdf\">https://www.hou.usra.edu/meetings/lpsc2020/pdf/2760.pdf</a></p><p><b>Extra:</b></p><ul><li>Bounding-Box:<ul><li>westlon = -180.0, eastlon = 180.0, minlat = -90.0, maxlat = 90.0</li></ul></li><li>Product Page:<ul><li><a href=\"https://astrogeology.usgs.gov/search/map/Moon/Geology/Unified_Geologic_Map_of_the_Moon_GIS_v2\">https://astrogeology.usgs.gov/search/map/Moon/Geology/Unified_Geologic_Map_of_the_Moon_GIS_v2</a></li></ul></li></ul>',\n",
       "  'publisher': 'USGS Astrogeology Science Center',\n",
       "  'publication_date': '2020-03-03',\n",
       "  'identifiers': [{'scheme': 'url',\n",
       "    'identifier': 'https://astrogeology.usgs.gov/search/map/Moon/Geology/Unified_Geologic_Map_of_the_Moon_GIS_v2'}],\n",
       "  'title': 'Unified Geologic Map of the Moon, 1:5M, 2020',\n",
       "  'resource_type': {'id': 'dataset', 'title': {'en': 'Dataset'}}},\n",
       " 'pids': {},\n",
       " 'links': {'self': 'https://10.72.2.28/api/records/enhzg-fyv94/draft',\n",
       "  'self_html': 'https://10.72.2.28/uploads/enhzg-fyv94',\n",
       "  'files': 'https://10.72.2.28/api/records/enhzg-fyv94/draft/files',\n",
       "  'record': 'https://10.72.2.28/api/records/enhzg-fyv94',\n",
       "  'record_html': 'https://10.72.2.28/records/enhzg-fyv94',\n",
       "  'publish': 'https://10.72.2.28/api/records/enhzg-fyv94/draft/actions/publish',\n",
       "  'versions': 'https://10.72.2.28/api/records/enhzg-fyv94/versions',\n",
       "  'access_links': 'https://10.72.2.28/api/records/enhzg-fyv94/access/links',\n",
       "  'reserve_doi': 'https://10.72.2.28/api/records/enhzg-fyv94/draft/pids/doi'},\n",
       " 'updated': '2022-04-21T10:00:44.269206+00:00',\n",
       " 'created': '2022-04-21T10:00:44.229994+00:00'}"
      ]
     },
     "execution_count": 5,
     "metadata": {},
     "output_type": "execute_result"
    }
   ],
   "source": [
    "# Create record (draft)\n",
    "\n",
    "res_draft = client.create_draft(data_obj)\n",
    "res_draft"
   ]
  },
  {
   "cell_type": "code",
   "execution_count": 6,
   "id": "9ee3f11c-3952-425c-ac6b-9334cbf038de",
   "metadata": {},
   "outputs": [
    {
     "name": "stdin",
     "output_type": "stream",
     "text": [
      "Review draft and interactive publishing? [Y,n] \n"
     ]
    }
   ],
   "source": [
    "open_draft = input(\"Review draft and interactive publishing? [Y,n]\")\n",
    "open_draft = False if open_draft.lower().startswith('n') else True\n",
    "\n",
    "if open_draft:\n",
    "    res = res_draft\n",
    "else:\n",
    "    # Publish it first\n",
    "    res_record = client.publish_draft(res_draft['id'])\n",
    "    res = res_record"
   ]
  },
  {
   "cell_type": "code",
   "execution_count": 7,
   "id": "5a0cdfdc-8142-49c9-933c-921984b2b3b4",
   "metadata": {},
   "outputs": [
    {
     "name": "stdout",
     "output_type": "stream",
     "text": [
      "Opening link: https://10.72.2.28/uploads/enhzg-fyv94\n"
     ]
    },
    {
     "data": {
      "text/plain": [
       "True"
      ]
     },
     "execution_count": 7,
     "metadata": {},
     "output_type": "execute_result"
    }
   ],
   "source": [
    "# Open a browser tab at just-created record\n",
    "\n",
    "import webbrowser\n",
    "\n",
    "print(\"Opening link:\", res['links']['self_html'])\n",
    "\n",
    "webbrowser.open(res['links']['self_html'])"
   ]
  }
 ],
 "metadata": {
  "kernelspec": {
   "display_name": "Python 3 (ipykernel)",
   "language": "python",
   "name": "python3"
  },
  "language_info": {
   "codemirror_mode": {
    "name": "ipython",
    "version": 3
   },
   "file_extension": ".py",
   "mimetype": "text/x-python",
   "name": "python",
   "nbconvert_exporter": "python",
   "pygments_lexer": "ipython3",
   "version": "3.8.10"
  }
 },
 "nbformat": 4,
 "nbformat_minor": 5
}
